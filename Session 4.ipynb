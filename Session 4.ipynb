{
 "cells": [
  {
   "cell_type": "markdown",
   "id": "fifty-disposal",
   "metadata": {},
   "source": [
    "# Data Structures"
   ]
  },
  {
   "cell_type": "markdown",
   "id": "indonesian-dublin",
   "metadata": {},
   "source": [
    "# 1. Lists"
   ]
  },
  {
   "cell_type": "markdown",
   "id": "finished-producer",
   "metadata": {},
   "source": [
    "Lists are most similar to strings.<br>\n",
    "\n",
    "both types support the len function, indexing, and slicing."
   ]
  },
  {
   "cell_type": "code",
   "execution_count": 167,
   "id": "wound-gravity",
   "metadata": {},
   "outputs": [],
   "source": [
    "lst=['January','February','March','April','May','June','July','August','September','October','November','December']"
   ]
  },
  {
   "cell_type": "code",
   "execution_count": 168,
   "id": "racial-activity",
   "metadata": {},
   "outputs": [
    {
     "name": "stdout",
     "output_type": "stream",
     "text": [
      "<class 'list'>\n"
     ]
    }
   ],
   "source": [
    "print(type(lst))"
   ]
  },
  {
   "cell_type": "code",
   "execution_count": 3,
   "id": "golden-action",
   "metadata": {},
   "outputs": [
    {
     "data": {
      "text/plain": [
       "12"
      ]
     },
     "execution_count": 3,
     "metadata": {},
     "output_type": "execute_result"
    }
   ],
   "source": [
    "len(lst)"
   ]
  },
  {
   "cell_type": "markdown",
   "id": "micro-redhead",
   "metadata": {},
   "source": [
    "### Indexing"
   ]
  },
  {
   "cell_type": "code",
   "execution_count": 169,
   "id": "communist-hudson",
   "metadata": {},
   "outputs": [
    {
     "name": "stdout",
     "output_type": "stream",
     "text": [
      "January\n",
      "February\n",
      "December\n"
     ]
    }
   ],
   "source": [
    "print(lst[0])\n",
    "print(lst[1])\n",
    "print(lst[-1])"
   ]
  },
  {
   "cell_type": "code",
   "execution_count": 171,
   "id": "architectural-cyprus",
   "metadata": {},
   "outputs": [
    {
     "name": "stdout",
     "output_type": "stream",
     "text": [
      "['January', 'February', 'March', 'April', 'May', 'June', 'July', 'August', 'September', 'October', 'November', 'December']"
     ]
    }
   ],
   "source": [
    "print(lst,end='')"
   ]
  },
  {
   "cell_type": "markdown",
   "id": "constant-diameter",
   "metadata": {},
   "source": [
    "### Slicing"
   ]
  },
  {
   "cell_type": "code",
   "execution_count": 172,
   "id": "informative-conservation",
   "metadata": {},
   "outputs": [
    {
     "name": "stdout",
     "output_type": "stream",
     "text": [
      "['March', 'April', 'May', 'June', 'July']\n",
      "['January', 'February', 'March', 'April', 'May']\n",
      "['July', 'August', 'September', 'October', 'November', 'December']\n",
      "['July', 'September', 'November']\n",
      "['July', 'June', 'May', 'April', 'March', 'February', 'January']\n",
      "['October', 'November', 'December']\n",
      "['October', 'November', 'December']\n"
     ]
    }
   ],
   "source": [
    "print(lst[2:7])\n",
    "\n",
    "print(lst[:5])\n",
    "\n",
    "print(lst[6:])\n",
    "\n",
    "print(lst[6::2])\n",
    "\n",
    "print(lst[6::-1])\n",
    "\n",
    "print(lst[-3:])#last three elements\n",
    "print(lst[9:])"
   ]
  },
  {
   "cell_type": "markdown",
   "id": "documented-richmond",
   "metadata": {},
   "source": [
    "### Appending to a list with Operation \"+=\""
   ]
  },
  {
   "cell_type": "code",
   "execution_count": 173,
   "id": "direct-corner",
   "metadata": {},
   "outputs": [],
   "source": [
    "a_list = []\n",
    "\n",
    "for i in range(1, 6):\n",
    "    a_list += [i]\n"
   ]
  },
  {
   "cell_type": "code",
   "execution_count": 174,
   "id": "bacterial-vault",
   "metadata": {},
   "outputs": [
    {
     "data": {
      "text/plain": [
       "[1, 2, 3, 4, 5]"
      ]
     },
     "execution_count": 174,
     "metadata": {},
     "output_type": "execute_result"
    }
   ],
   "source": [
    "a_list"
   ]
  },
  {
   "cell_type": "code",
   "execution_count": 175,
   "id": "possible-norwegian",
   "metadata": {},
   "outputs": [
    {
     "data": {
      "text/plain": [
       "[1, 2, 3, 4, 5, 6]"
      ]
     },
     "execution_count": 175,
     "metadata": {},
     "output_type": "execute_result"
    }
   ],
   "source": [
    "a_list.append(6)\n",
    "a_list"
   ]
  },
  {
   "cell_type": "markdown",
   "id": "instant-flight",
   "metadata": {},
   "source": [
    "### Concatenation\n",
    "Operation \"+\" performs concatenation on lists"
   ]
  },
  {
   "cell_type": "code",
   "execution_count": 177,
   "id": "global-impression",
   "metadata": {},
   "outputs": [
    {
     "data": {
      "text/plain": [
       "[1, 2, 3, 4, 5, 6, 1, 1]"
      ]
     },
     "execution_count": 177,
     "metadata": {},
     "output_type": "execute_result"
    }
   ],
   "source": [
    "lst1=[1,2,3]\n",
    "\n",
    "lst2=[4,5,6,1,1]\n",
    "\n",
    "new=lst1 + lst2\n",
    "new"
   ]
  },
  {
   "cell_type": "markdown",
   "id": "fleet-stevens",
   "metadata": {},
   "source": [
    "### Deleting items"
   ]
  },
  {
   "cell_type": "code",
   "execution_count": 178,
   "id": "twenty-saint",
   "metadata": {},
   "outputs": [
    {
     "data": {
      "text/plain": [
       "[1, 2, 3, 4, 5, 6, 1, 1]"
      ]
     },
     "execution_count": 178,
     "metadata": {},
     "output_type": "execute_result"
    }
   ],
   "source": [
    "new"
   ]
  },
  {
   "cell_type": "code",
   "execution_count": 179,
   "id": "equipped-presentation",
   "metadata": {},
   "outputs": [],
   "source": [
    "#removing by indicies\n",
    "del new[-1]"
   ]
  },
  {
   "cell_type": "code",
   "execution_count": 180,
   "id": "incredible-street",
   "metadata": {},
   "outputs": [
    {
     "data": {
      "text/plain": [
       "[1, 2, 3, 4, 5, 6, 1]"
      ]
     },
     "execution_count": 180,
     "metadata": {},
     "output_type": "execute_result"
    }
   ],
   "source": [
    "new"
   ]
  },
  {
   "cell_type": "code",
   "execution_count": 181,
   "id": "dutch-joseph",
   "metadata": {},
   "outputs": [],
   "source": [
    "#removing by values\n",
    "\n",
    "new.remove(6)"
   ]
  },
  {
   "cell_type": "code",
   "execution_count": 182,
   "id": "informative-cruise",
   "metadata": {},
   "outputs": [
    {
     "data": {
      "text/plain": [
       "[1, 2, 3, 4, 5, 1]"
      ]
     },
     "execution_count": 182,
     "metadata": {},
     "output_type": "execute_result"
    }
   ],
   "source": [
    "new"
   ]
  },
  {
   "cell_type": "code",
   "execution_count": 183,
   "id": "corresponding-africa",
   "metadata": {},
   "outputs": [
    {
     "data": {
      "text/plain": [
       "[2, 3, 4, 5, 1]"
      ]
     },
     "execution_count": 183,
     "metadata": {},
     "output_type": "execute_result"
    }
   ],
   "source": [
    "new.remove(1)\n",
    "new"
   ]
  },
  {
   "cell_type": "markdown",
   "id": "difficult-short",
   "metadata": {},
   "source": [
    "### Appending via .append() function"
   ]
  },
  {
   "cell_type": "code",
   "execution_count": 185,
   "id": "attached-strip",
   "metadata": {},
   "outputs": [
    {
     "name": "stdout",
     "output_type": "stream",
     "text": [
      "['orange', 'yellow', 'green', 'black'] "
     ]
    }
   ],
   "source": [
    "color_names = ['orange', 'yellow', 'green']\n",
    "\n",
    "color_names.append(\"black\")\n",
    "print(color_names,end=' ')"
   ]
  },
  {
   "cell_type": "markdown",
   "id": "moral-elephant",
   "metadata": {},
   "source": [
    "### Inserting an Element at a Specific List Index"
   ]
  },
  {
   "cell_type": "code",
   "execution_count": 189,
   "id": "widespread-relief",
   "metadata": {},
   "outputs": [
    {
     "name": "stdout",
     "output_type": "stream",
     "text": [
      "['red', 'brown', 'orange', 'yellow', 'green', 'black', 'indigo', 'violet', ['indigo', 'violet']] "
     ]
    }
   ],
   "source": [
    "color_names.insert(1, 'brown')\n",
    "print(color_names,end=' ')"
   ]
  },
  {
   "cell_type": "markdown",
   "id": "closing-possession",
   "metadata": {},
   "source": [
    "### Inserting more than one Element"
   ]
  },
  {
   "cell_type": "code",
   "execution_count": 186,
   "id": "yellow-quantum",
   "metadata": {},
   "outputs": [
    {
     "name": "stdout",
     "output_type": "stream",
     "text": [
      "['orange', 'yellow', 'green', 'black', 'indigo', 'violet'] "
     ]
    }
   ],
   "source": [
    "color_names.extend(['indigo', 'violet'])\n",
    "print(color_names,end=' ')"
   ]
  },
  {
   "cell_type": "code",
   "execution_count": 187,
   "id": "green-gabriel",
   "metadata": {},
   "outputs": [
    {
     "name": "stdout",
     "output_type": "stream",
     "text": [
      "['orange', 'yellow', 'green', 'black', 'indigo', 'violet', ['indigo', 'violet']] "
     ]
    }
   ],
   "source": [
    "# .append() adds one object at the end of lists\n",
    "color_names.append(['indigo', 'violet'])\n",
    "print(color_names,end=' ')"
   ]
  },
  {
   "cell_type": "markdown",
   "id": "ongoing-council",
   "metadata": {},
   "source": [
    "### Search values"
   ]
  },
  {
   "cell_type": "code",
   "execution_count": 191,
   "id": "bronze-honduras",
   "metadata": {},
   "outputs": [
    {
     "ename": "ValueError",
     "evalue": "56 is not in list",
     "output_type": "error",
     "traceback": [
      "\u001b[1;31m---------------------------------------------------------------------------\u001b[0m",
      "\u001b[1;31mValueError\u001b[0m                                Traceback (most recent call last)",
      "\u001b[1;32m<ipython-input-191-8bd822b51fe9>\u001b[0m in \u001b[0;36m<module>\u001b[1;34m\u001b[0m\n\u001b[0;32m      1\u001b[0m \u001b[0mnumbers\u001b[0m\u001b[1;33m=\u001b[0m\u001b[1;33m[\u001b[0m\u001b[1;36m20\u001b[0m\u001b[1;33m,\u001b[0m \u001b[1;36m6\u001b[0m\u001b[1;33m,\u001b[0m \u001b[1;36m14\u001b[0m\u001b[1;33m,\u001b[0m \u001b[1;36m2\u001b[0m\u001b[1;33m,\u001b[0m \u001b[1;36m18\u001b[0m\u001b[1;33m]\u001b[0m\u001b[1;33m\u001b[0m\u001b[1;33m\u001b[0m\u001b[0m\n\u001b[0;32m      2\u001b[0m \u001b[1;33m\u001b[0m\u001b[0m\n\u001b[1;32m----> 3\u001b[1;33m \u001b[0mnumbers\u001b[0m\u001b[1;33m.\u001b[0m\u001b[0mindex\u001b[0m\u001b[1;33m(\u001b[0m\u001b[1;36m56\u001b[0m\u001b[1;33m)\u001b[0m\u001b[1;33m\u001b[0m\u001b[1;33m\u001b[0m\u001b[0m\n\u001b[0m",
      "\u001b[1;31mValueError\u001b[0m: 56 is not in list"
     ]
    }
   ],
   "source": [
    "numbers=[20, 6, 14, 2, 18]\n",
    "\n",
    "numbers.index(56)"
   ]
  },
  {
   "cell_type": "code",
   "execution_count": 28,
   "id": "talented-productivity",
   "metadata": {
    "scrolled": false
   },
   "outputs": [
    {
     "name": "stdout",
     "output_type": "stream",
     "text": [
      "the index of value= 20 is: 0\n",
      "the index of value= 14 is: 2\n"
     ]
    },
    {
     "ename": "ValueError",
     "evalue": "3 is not in list",
     "output_type": "error",
     "traceback": [
      "\u001b[1;31m---------------------------------------------------------------------------\u001b[0m",
      "\u001b[1;31mValueError\u001b[0m                                Traceback (most recent call last)",
      "\u001b[1;32m<ipython-input-28-af3d53d23cb6>\u001b[0m in \u001b[0;36m<module>\u001b[1;34m\u001b[0m\n\u001b[0;32m      2\u001b[0m \u001b[0mprint\u001b[0m\u001b[1;33m(\u001b[0m\u001b[1;34mf\"the index of value= 20 is: {numbers.index(20)}\"\u001b[0m\u001b[1;33m)\u001b[0m\u001b[1;33m\u001b[0m\u001b[1;33m\u001b[0m\u001b[0m\n\u001b[0;32m      3\u001b[0m \u001b[0mprint\u001b[0m\u001b[1;33m(\u001b[0m\u001b[1;34mf\"the index of value= 14 is: {numbers.index(14)}\"\u001b[0m\u001b[1;33m)\u001b[0m\u001b[1;33m\u001b[0m\u001b[1;33m\u001b[0m\u001b[0m\n\u001b[1;32m----> 4\u001b[1;33m \u001b[0mprint\u001b[0m\u001b[1;33m(\u001b[0m\u001b[1;34mf\"the index of value= 3 is: {numbers.index(3)}\"\u001b[0m\u001b[1;33m)\u001b[0m\u001b[1;33m\u001b[0m\u001b[1;33m\u001b[0m\u001b[0m\n\u001b[0m",
      "\u001b[1;31mValueError\u001b[0m: 3 is not in list"
     ]
    }
   ],
   "source": [
    "numbers=[20, 6, 14, 2, 18]\n",
    "print(f\"the index of value= 20 is: {numbers.index(20)}\")\n",
    "print(f\"the index of value= 14 is: {numbers.index(14)}\")\n",
    "print(f\"the index of value= 3 is: {numbers.index(3)}\")\n"
   ]
  },
  {
   "cell_type": "markdown",
   "id": "naked-alpha",
   "metadata": {},
   "source": [
    "### Reversing a list"
   ]
  },
  {
   "cell_type": "code",
   "execution_count": 192,
   "id": "material-kinase",
   "metadata": {},
   "outputs": [
    {
     "data": {
      "text/plain": [
       "[20, 6, 14, 2, 18]"
      ]
     },
     "execution_count": 192,
     "metadata": {},
     "output_type": "execute_result"
    }
   ],
   "source": [
    "numbers"
   ]
  },
  {
   "cell_type": "markdown",
   "id": "removed-approval",
   "metadata": {},
   "source": [
    "### 1."
   ]
  },
  {
   "cell_type": "code",
   "execution_count": 193,
   "id": "former-strengthening",
   "metadata": {},
   "outputs": [
    {
     "data": {
      "text/plain": [
       "[18, 2, 14, 6, 20]"
      ]
     },
     "execution_count": 193,
     "metadata": {},
     "output_type": "execute_result"
    }
   ],
   "source": [
    "numbers[::-1]"
   ]
  },
  {
   "cell_type": "code",
   "execution_count": 194,
   "id": "violent-worse",
   "metadata": {},
   "outputs": [
    {
     "data": {
      "text/plain": [
       "[20, 6, 14, 2, 18]"
      ]
     },
     "execution_count": 194,
     "metadata": {},
     "output_type": "execute_result"
    }
   ],
   "source": [
    "numbers #remains unchaged"
   ]
  },
  {
   "cell_type": "markdown",
   "id": "secondary-momentum",
   "metadata": {},
   "source": [
    "### 2."
   ]
  },
  {
   "cell_type": "code",
   "execution_count": 195,
   "id": "brown-batman",
   "metadata": {},
   "outputs": [
    {
     "data": {
      "text/plain": [
       "[20, 6, 14, 2, 18]"
      ]
     },
     "execution_count": 195,
     "metadata": {},
     "output_type": "execute_result"
    }
   ],
   "source": [
    "numbers"
   ]
  },
  {
   "cell_type": "code",
   "execution_count": 196,
   "id": "liberal-driver",
   "metadata": {
    "scrolled": true
   },
   "outputs": [
    {
     "data": {
      "text/plain": [
       "[18, 2, 14, 6, 20]"
      ]
     },
     "execution_count": 196,
     "metadata": {},
     "output_type": "execute_result"
    }
   ],
   "source": [
    "numbers.reverse()"
   ]
  },
  {
   "cell_type": "code",
   "execution_count": 197,
   "id": "least-economics",
   "metadata": {},
   "outputs": [
    {
     "name": "stdout",
     "output_type": "stream",
     "text": [
      "[18, 2, 14, 6, 20]\n"
     ]
    }
   ],
   "source": [
    "print(numbers)"
   ]
  },
  {
   "cell_type": "markdown",
   "id": "dried-genius",
   "metadata": {},
   "source": [
    "### enumerate()"
   ]
  },
  {
   "cell_type": "code",
   "execution_count": 198,
   "id": "fatal-ground",
   "metadata": {},
   "outputs": [
    {
     "data": {
      "text/plain": [
       "[(0, 'red'), (1, 'orange'), (2, 'yellow')]"
      ]
     },
     "execution_count": 198,
     "metadata": {},
     "output_type": "execute_result"
    }
   ],
   "source": [
    "colors = ['red', 'orange', 'yellow']\n",
    "\n",
    "list(enumerate(colors))"
   ]
  },
  {
   "cell_type": "markdown",
   "id": "advisory-consistency",
   "metadata": {},
   "source": [
    "___"
   ]
  },
  {
   "cell_type": "markdown",
   "id": "interesting-samba",
   "metadata": {},
   "source": [
    "### Differences between *lists* and *strings* : <br>\n",
    "\n",
    "1. lists are mutable but strings are immutable\n",
    "2. lists can obtain any type of object but strings only contain characters"
   ]
  },
  {
   "cell_type": "markdown",
   "id": "happy-recall",
   "metadata": {},
   "source": [
    "What is mutability?<br>\n",
    "being able to change an object's values after its creation"
   ]
  },
  {
   "cell_type": "markdown",
   "id": "proved-capital",
   "metadata": {},
   "source": [
    "#### 1."
   ]
  },
  {
   "cell_type": "code",
   "execution_count": 199,
   "id": "north-saying",
   "metadata": {
    "scrolled": true
   },
   "outputs": [
    {
     "name": "stdout",
     "output_type": "stream",
     "text": [
      "<class 'list'>\n",
      "<class 'str'>\n"
     ]
    }
   ],
   "source": [
    "a=[1,2,3]\n",
    "\n",
    "b='123'\n",
    "\n",
    "print(type(a))\n",
    "print(type(b))"
   ]
  },
  {
   "cell_type": "code",
   "execution_count": 200,
   "id": "leading-geology",
   "metadata": {
    "scrolled": true
   },
   "outputs": [
    {
     "name": "stdout",
     "output_type": "stream",
     "text": [
      "[7, 2, 3]\n"
     ]
    }
   ],
   "source": [
    "a[0]=7 #you can change list's elements because it is mutable.\n",
    "print(a)"
   ]
  },
  {
   "cell_type": "code",
   "execution_count": 201,
   "id": "widespread-comedy",
   "metadata": {},
   "outputs": [
    {
     "data": {
      "text/plain": [
       "'1'"
      ]
     },
     "execution_count": 201,
     "metadata": {},
     "output_type": "execute_result"
    }
   ],
   "source": [
    "b[0]"
   ]
  },
  {
   "cell_type": "code",
   "execution_count": 202,
   "id": "korean-evans",
   "metadata": {
    "scrolled": true
   },
   "outputs": [
    {
     "ename": "TypeError",
     "evalue": "'str' object does not support item assignment",
     "output_type": "error",
     "traceback": [
      "\u001b[1;31m---------------------------------------------------------------------------\u001b[0m",
      "\u001b[1;31mTypeError\u001b[0m                                 Traceback (most recent call last)",
      "\u001b[1;32m<ipython-input-202-a4b436b1948f>\u001b[0m in \u001b[0;36m<module>\u001b[1;34m\u001b[0m\n\u001b[1;32m----> 1\u001b[1;33m \u001b[0mb\u001b[0m\u001b[1;33m[\u001b[0m\u001b[1;36m0\u001b[0m\u001b[1;33m]\u001b[0m\u001b[1;33m=\u001b[0m\u001b[1;36m7\u001b[0m\u001b[1;33m\u001b[0m\u001b[1;33m\u001b[0m\u001b[0m\n\u001b[0m\u001b[0;32m      2\u001b[0m \u001b[0mprint\u001b[0m\u001b[1;33m(\u001b[0m\u001b[0mb\u001b[0m\u001b[1;33m)\u001b[0m\u001b[1;33m\u001b[0m\u001b[1;33m\u001b[0m\u001b[0m\n",
      "\u001b[1;31mTypeError\u001b[0m: 'str' object does not support item assignment"
     ]
    }
   ],
   "source": [
    "b[0]=7\n",
    "print(b)"
   ]
  },
  {
   "cell_type": "markdown",
   "id": "smooth-bangkok",
   "metadata": {},
   "source": [
    "#### 2."
   ]
  },
  {
   "cell_type": "code",
   "execution_count": 205,
   "id": "verbal-istanbul",
   "metadata": {},
   "outputs": [
    {
     "data": {
      "text/plain": [
       "{2, 3}"
      ]
     },
     "execution_count": 205,
     "metadata": {},
     "output_type": "execute_result"
    }
   ],
   "source": [
    "lst=[1,2,[1,2,3],[[4,4],[1,2,3]],{2,3},(4,4)]\n",
    "lst[4]"
   ]
  },
  {
   "cell_type": "code",
   "execution_count": 207,
   "id": "solar-reach",
   "metadata": {},
   "outputs": [
    {
     "data": {
      "text/plain": [
       "list"
      ]
     },
     "execution_count": 207,
     "metadata": {},
     "output_type": "execute_result"
    }
   ],
   "source": [
    "type(lst)"
   ]
  },
  {
   "cell_type": "markdown",
   "id": "miniature-intent",
   "metadata": {},
   "source": [
    "### More about refrences"
   ]
  },
  {
   "cell_type": "code",
   "execution_count": 213,
   "id": "enabling-infrared",
   "metadata": {},
   "outputs": [],
   "source": [
    "a=[1,2,3]\n",
    "\n",
    "b=a #copies the refrence\n",
    "\n",
    "c=a.copy() #creates a new object"
   ]
  },
  {
   "cell_type": "markdown",
   "id": "operational-union",
   "metadata": {},
   "source": [
    "Python’s **is** operator returns True if its two operands have the same identity (point to same object )"
   ]
  },
  {
   "cell_type": "code",
   "execution_count": 209,
   "id": "valued-macintosh",
   "metadata": {},
   "outputs": [
    {
     "name": "stdout",
     "output_type": "stream",
     "text": [
      "True\n",
      "False\n"
     ]
    }
   ],
   "source": [
    "print(a is b)\n",
    "print(a is c)"
   ]
  },
  {
   "cell_type": "code",
   "execution_count": 210,
   "id": "opposite-duplicate",
   "metadata": {},
   "outputs": [
    {
     "name": "stdout",
     "output_type": "stream",
     "text": [
      "[44, 2, 3]\n",
      "[44, 2, 3]\n"
     ]
    }
   ],
   "source": [
    "b[0]=44\n",
    "print(b)\n",
    "print(a)"
   ]
  },
  {
   "cell_type": "code",
   "execution_count": 211,
   "id": "municipal-tennessee",
   "metadata": {},
   "outputs": [
    {
     "name": "stdout",
     "output_type": "stream",
     "text": [
      "[1, 2, 3, 4]\n",
      "[44, 2, 3]\n"
     ]
    }
   ],
   "source": [
    "c.append(4)\n",
    "print(c)\n",
    "print(a)"
   ]
  },
  {
   "cell_type": "code",
   "execution_count": 214,
   "id": "juvenile-secret",
   "metadata": {},
   "outputs": [
    {
     "name": "stdout",
     "output_type": "stream",
     "text": [
      "a is [1, 2, 3],b is [1, 2, 3] and c is [1, 2, 3]\n",
      "\n",
      " a is [144, 2, 3],b is [144, 2, 3] and c is [1, 2, 43]\n"
     ]
    }
   ],
   "source": [
    "print(f\"a is {a},b is {b} and c is {c}\")\n",
    "b[0]=144 #we mutate or change a value of b\n",
    "c[2]=43\n",
    "print(f\"\\n a is {a},b is {b} and c is {c}\")"
   ]
  },
  {
   "cell_type": "markdown",
   "id": "painful-ceremony",
   "metadata": {},
   "source": [
    "You interact with an object via a reference, which behind the scenes is that object’s address (or location) in the computer’s memory—sometimes called a \"pointer\" in other languages."
   ]
  },
  {
   "cell_type": "code",
   "execution_count": 215,
   "id": "latter-jimmy",
   "metadata": {},
   "outputs": [],
   "source": [
    "x=7"
   ]
  },
  {
   "cell_type": "markdown",
   "id": "aging-garlic",
   "metadata": {},
   "source": [
    " After an assignment like x = 7 ,<br>the variable x does not actually contain the value 7. Rather, it contains a reference to an object containing 7."
   ]
  },
  {
   "cell_type": "code",
   "execution_count": 216,
   "id": "nominated-circulation",
   "metadata": {},
   "outputs": [],
   "source": [
    "def modify(x): #function's argument is a immutable object\n",
    "    x=4\n",
    "    print('x printed from modify:', x)"
   ]
  },
  {
   "cell_type": "code",
   "execution_count": 217,
   "id": "compound-colorado",
   "metadata": {},
   "outputs": [
    {
     "name": "stdout",
     "output_type": "stream",
     "text": [
      "x printed from modify_global: 4\n",
      "7\n"
     ]
    }
   ],
   "source": [
    "modify(x)\n",
    "print(x)"
   ]
  },
  {
   "cell_type": "markdown",
   "id": "balanced-correspondence",
   "metadata": {},
   "source": [
    "When a variable with reference to a mutable object ,like a list, is passed to a function, the function can modify the original object."
   ]
  },
  {
   "cell_type": "code",
   "execution_count": 220,
   "id": "random-supplement",
   "metadata": {},
   "outputs": [],
   "source": [
    "def modify_elements(items):\n",
    "    for i in range(len(items)):\n",
    "        items[i] *= 2"
   ]
  },
  {
   "cell_type": "code",
   "execution_count": 221,
   "id": "certified-scottish",
   "metadata": {},
   "outputs": [
    {
     "data": {
      "text/plain": [
       "[20, 6, 14, 2, 18]"
      ]
     },
     "execution_count": 221,
     "metadata": {},
     "output_type": "execute_result"
    }
   ],
   "source": [
    "numbers = [10, 3, 7, 1, 9]\n",
    "modify_elements(numbers)\n",
    "numbers"
   ]
  },
  {
   "cell_type": "code",
   "execution_count": 222,
   "id": "fourth-ocean",
   "metadata": {},
   "outputs": [
    {
     "ename": "TypeError",
     "evalue": "'tuple' object does not support item assignment",
     "output_type": "error",
     "traceback": [
      "\u001b[1;31m---------------------------------------------------------------------------\u001b[0m",
      "\u001b[1;31mTypeError\u001b[0m                                 Traceback (most recent call last)",
      "\u001b[1;32m<ipython-input-222-504a6f98927b>\u001b[0m in \u001b[0;36m<module>\u001b[1;34m\u001b[0m\n\u001b[0;32m      1\u001b[0m \u001b[0mnumbers_tuple\u001b[0m \u001b[1;33m=\u001b[0m \u001b[1;33m(\u001b[0m\u001b[1;36m10\u001b[0m\u001b[1;33m,\u001b[0m \u001b[1;36m20\u001b[0m\u001b[1;33m,\u001b[0m \u001b[1;36m30\u001b[0m\u001b[1;33m)\u001b[0m\u001b[1;33m\u001b[0m\u001b[1;33m\u001b[0m\u001b[0m\n\u001b[1;32m----> 2\u001b[1;33m \u001b[0mmodify_elements\u001b[0m\u001b[1;33m(\u001b[0m\u001b[0mnumbers_tuple\u001b[0m\u001b[1;33m)\u001b[0m\u001b[1;33m\u001b[0m\u001b[1;33m\u001b[0m\u001b[0m\n\u001b[0m\u001b[0;32m      3\u001b[0m \u001b[0mnumbers_tuple\u001b[0m\u001b[1;33m\u001b[0m\u001b[1;33m\u001b[0m\u001b[0m\n",
      "\u001b[1;32m<ipython-input-220-7f991e7aaa59>\u001b[0m in \u001b[0;36mmodify_elements\u001b[1;34m(items)\u001b[0m\n\u001b[0;32m      1\u001b[0m \u001b[1;32mdef\u001b[0m \u001b[0mmodify_elements\u001b[0m\u001b[1;33m(\u001b[0m\u001b[0mitems\u001b[0m\u001b[1;33m)\u001b[0m\u001b[1;33m:\u001b[0m\u001b[1;33m\u001b[0m\u001b[1;33m\u001b[0m\u001b[0m\n\u001b[0;32m      2\u001b[0m     \u001b[1;32mfor\u001b[0m \u001b[0mi\u001b[0m \u001b[1;32min\u001b[0m \u001b[0mrange\u001b[0m\u001b[1;33m(\u001b[0m\u001b[0mlen\u001b[0m\u001b[1;33m(\u001b[0m\u001b[0mitems\u001b[0m\u001b[1;33m)\u001b[0m\u001b[1;33m)\u001b[0m\u001b[1;33m:\u001b[0m\u001b[1;33m\u001b[0m\u001b[1;33m\u001b[0m\u001b[0m\n\u001b[1;32m----> 3\u001b[1;33m         \u001b[0mitems\u001b[0m\u001b[1;33m[\u001b[0m\u001b[0mi\u001b[0m\u001b[1;33m]\u001b[0m \u001b[1;33m*=\u001b[0m \u001b[1;36m2\u001b[0m\u001b[1;33m\u001b[0m\u001b[1;33m\u001b[0m\u001b[0m\n\u001b[0m",
      "\u001b[1;31mTypeError\u001b[0m: 'tuple' object does not support item assignment"
     ]
    }
   ],
   "source": [
    "numbers_tuple = (10, 20, 30)\n",
    "modify_elements(numbers_tuple)\n",
    "numbers_tuple"
   ]
  },
  {
   "cell_type": "markdown",
   "id": "armed-chest",
   "metadata": {},
   "source": [
    "## Useful Functions for Lists I\n",
    "1. len() returns how many elements are in a list.\n",
    "2. max() returns the greatest element of the list. \n",
    "3. min() returns the smallest element in a list. "
   ]
  },
  {
   "cell_type": "code",
   "execution_count": 223,
   "id": "adapted-embassy",
   "metadata": {},
   "outputs": [
    {
     "name": "stdout",
     "output_type": "stream",
     "text": [
      "5\n",
      "144\n",
      "1\n"
     ]
    }
   ],
   "source": [
    "a=[4,7,1,2,144]\n",
    "print(len(a))\n",
    "print(max(a))\n",
    "print(min(a))"
   ]
  },
  {
   "cell_type": "markdown",
   "id": "paperback-daughter",
   "metadata": {},
   "source": [
    "4. **sorted() returns a copy of a list in order from smallest to largest, leaving the list unchanged.**\n",
    "5. **sort** is a method that changes the list in place."
   ]
  },
  {
   "cell_type": "code",
   "execution_count": 224,
   "id": "nominated-conditioning",
   "metadata": {},
   "outputs": [
    {
     "name": "stdout",
     "output_type": "stream",
     "text": [
      "[1, 2, 4, 7, 144]\n"
     ]
    }
   ],
   "source": [
    "print(sorted(a))"
   ]
  },
  {
   "cell_type": "code",
   "execution_count": 225,
   "id": "human-toyota",
   "metadata": {},
   "outputs": [
    {
     "name": "stdout",
     "output_type": "stream",
     "text": [
      "[4, 7, 1, 2, 144]\n"
     ]
    }
   ],
   "source": [
    "print(a)# As you can see, a is unchanged"
   ]
  },
  {
   "cell_type": "code",
   "execution_count": 226,
   "id": "wired-despite",
   "metadata": {},
   "outputs": [
    {
     "name": "stdout",
     "output_type": "stream",
     "text": [
      "[144, 7, 4, 2, 1]\n"
     ]
    }
   ],
   "source": [
    "print(sorted(a,reverse=True))"
   ]
  },
  {
   "cell_type": "code",
   "execution_count": 227,
   "id": "acquired-moses",
   "metadata": {},
   "outputs": [
    {
     "name": "stdout",
     "output_type": "stream",
     "text": [
      "[144, 7, 4, 2, 1]\n"
     ]
    }
   ],
   "source": [
    "a.sort(reverse=True)\n",
    "print(a)"
   ]
  },
  {
   "cell_type": "markdown",
   "id": "composite-skirt",
   "metadata": {},
   "source": [
    "## Useful Functions for Lists II\n",
    "**join** is a string method that takes a **list of strings** as an argument, and returns a string consisting of the list elements joined by a separator string."
   ]
  },
  {
   "cell_type": "code",
   "execution_count": 228,
   "id": "mysterious-mention",
   "metadata": {},
   "outputs": [
    {
     "data": {
      "text/plain": [
       "['January', 'February', 'March', 'April']"
      ]
     },
     "execution_count": 228,
     "metadata": {},
     "output_type": "execute_result"
    }
   ],
   "source": [
    "a=['January','February','March','April']\n",
    "a"
   ]
  },
  {
   "cell_type": "code",
   "execution_count": 232,
   "id": "german-sacramento",
   "metadata": {},
   "outputs": [
    {
     "name": "stdout",
     "output_type": "stream",
     "text": [
      "January@February@March@April\n"
     ]
    }
   ],
   "source": [
    "print(\"@\".join(a))"
   ]
  },
  {
   "cell_type": "code",
   "execution_count": 82,
   "id": "hawaiian-recommendation",
   "metadata": {},
   "outputs": [
    {
     "name": "stdout",
     "output_type": "stream",
     "text": [
      "January and February and March and April\n",
      "January - February - March - April\n"
     ]
    }
   ],
   "source": [
    "print(\" and \".join(a))\n",
    "print(\" - \".join(a))"
   ]
  },
  {
   "cell_type": "code",
   "execution_count": 233,
   "id": "tested-render",
   "metadata": {},
   "outputs": [
    {
     "ename": "TypeError",
     "evalue": "sequence item 3: expected str instance, int found",
     "output_type": "error",
     "traceback": [
      "\u001b[1;31m---------------------------------------------------------------------------\u001b[0m",
      "\u001b[1;31mTypeError\u001b[0m                                 Traceback (most recent call last)",
      "\u001b[1;32m<ipython-input-233-bc0b3c851daf>\u001b[0m in \u001b[0;36m<module>\u001b[1;34m\u001b[0m\n\u001b[0;32m      1\u001b[0m \u001b[0ma\u001b[0m\u001b[1;33m=\u001b[0m\u001b[1;33m[\u001b[0m\u001b[1;34m'January'\u001b[0m\u001b[1;33m,\u001b[0m\u001b[1;34m'February'\u001b[0m\u001b[1;33m,\u001b[0m\u001b[1;34m'March'\u001b[0m\u001b[1;33m,\u001b[0m\u001b[1;36m43\u001b[0m\u001b[1;33m]\u001b[0m \u001b[1;31m#because it was not a list of strings\u001b[0m\u001b[1;33m\u001b[0m\u001b[1;33m\u001b[0m\u001b[0m\n\u001b[1;32m----> 2\u001b[1;33m \u001b[0mprint\u001b[0m\u001b[1;33m(\u001b[0m\u001b[1;34m\"-\"\u001b[0m\u001b[1;33m.\u001b[0m\u001b[0mjoin\u001b[0m\u001b[1;33m(\u001b[0m\u001b[0ma\u001b[0m\u001b[1;33m)\u001b[0m\u001b[1;33m)\u001b[0m\u001b[1;33m\u001b[0m\u001b[1;33m\u001b[0m\u001b[0m\n\u001b[0m",
      "\u001b[1;31mTypeError\u001b[0m: sequence item 3: expected str instance, int found"
     ]
    }
   ],
   "source": [
    "a=['January','February','March',43] #because it was not a list of strings\n",
    "print(\"-\".join(a))"
   ]
  },
  {
   "cell_type": "markdown",
   "id": "settled-karma",
   "metadata": {},
   "source": [
    "#### Order matters!"
   ]
  },
  {
   "cell_type": "code",
   "execution_count": 234,
   "id": "smaller-briefs",
   "metadata": {},
   "outputs": [
    {
     "name": "stdout",
     "output_type": "stream",
     "text": [
      "False\n"
     ]
    }
   ],
   "source": [
    "a=[1,2,3]\n",
    "b=[2,3,1]\n",
    "print(a==b)"
   ]
  },
  {
   "cell_type": "markdown",
   "id": "adolescent-approach",
   "metadata": {},
   "source": [
    "___"
   ]
  },
  {
   "cell_type": "markdown",
   "id": "average-president",
   "metadata": {},
   "source": [
    "____"
   ]
  },
  {
   "cell_type": "markdown",
   "id": "functioning-consortium",
   "metadata": {},
   "source": [
    "# 2. Tuples\n",
    "A tuple is an **immutable** ordered sequences of elements which can be accessed by their indices.<br>\n",
    "You can not add or remove items from tuples or sort them in place.<br>\n",
    "So, why do we use them? they are useful when you want to save closely related values that are always used together"
   ]
  },
  {
   "cell_type": "code",
   "execution_count": 236,
   "id": "tamil-vision",
   "metadata": {},
   "outputs": [
    {
     "name": "stdout",
     "output_type": "stream",
     "text": [
      "<class 'tuple'>\n"
     ]
    }
   ],
   "source": [
    "a=(1,2,3)\n",
    "print(type(a))"
   ]
  },
  {
   "cell_type": "code",
   "execution_count": 235,
   "id": "enhanced-saying",
   "metadata": {},
   "outputs": [
    {
     "name": "stdout",
     "output_type": "stream",
     "text": [
      "<class 'tuple'>\n"
     ]
    }
   ],
   "source": [
    "b= 1,2,3\n",
    "\n",
    "print(type(b))"
   ]
  },
  {
   "cell_type": "markdown",
   "id": "victorian-manual",
   "metadata": {},
   "source": [
    "#### Orders matters!"
   ]
  },
  {
   "cell_type": "code",
   "execution_count": 237,
   "id": "promising-sheep",
   "metadata": {},
   "outputs": [
    {
     "name": "stdout",
     "output_type": "stream",
     "text": [
      "False\n"
     ]
    }
   ],
   "source": [
    "a=(1,2,3)\n",
    "b=(3,2,1)\n",
    "print(a == b)"
   ]
  },
  {
   "cell_type": "markdown",
   "id": "fifth-variable",
   "metadata": {},
   "source": [
    "### Tuple unpacking\n"
   ]
  },
  {
   "cell_type": "code",
   "execution_count": 241,
   "id": "driven-marker",
   "metadata": {
    "scrolled": true
   },
   "outputs": [
    {
     "name": "stdout",
     "output_type": "stream",
     "text": [
      "length is 25, width is -43 and the height is 50\n"
     ]
    }
   ],
   "source": [
    "dimensions= (25,-43,50)\n",
    "\n",
    "length, width, height = dimensions\n",
    "\n",
    "\n",
    "print(f\"length is {length}, width is {width} and the height is {height}\")"
   ]
  },
  {
   "cell_type": "code",
   "execution_count": 242,
   "id": "blind-evidence",
   "metadata": {},
   "outputs": [
    {
     "name": "stdout",
     "output_type": "stream",
     "text": [
      "25\n",
      "-43\n",
      "50\n"
     ]
    }
   ],
   "source": [
    "print(length)\n",
    "print(width)\n",
    "print(height)"
   ]
  },
  {
   "cell_type": "markdown",
   "id": "falling-prime",
   "metadata": {},
   "source": [
    "___"
   ]
  },
  {
   "cell_type": "markdown",
   "id": "organized-fundamental",
   "metadata": {},
   "source": [
    "### More on immutability"
   ]
  },
  {
   "cell_type": "code",
   "execution_count": 243,
   "id": "extraordinary-reserve",
   "metadata": {
    "scrolled": true
   },
   "outputs": [
    {
     "ename": "AttributeError",
     "evalue": "'tuple' object has no attribute 'append'",
     "output_type": "error",
     "traceback": [
      "\u001b[1;31m---------------------------------------------------------------------------\u001b[0m",
      "\u001b[1;31mAttributeError\u001b[0m                            Traceback (most recent call last)",
      "\u001b[1;32m<ipython-input-243-a39724ffcd65>\u001b[0m in \u001b[0;36m<module>\u001b[1;34m\u001b[0m\n\u001b[1;32m----> 1\u001b[1;33m \u001b[0ma\u001b[0m\u001b[1;33m.\u001b[0m\u001b[0mappend\u001b[0m\u001b[1;33m(\u001b[0m\u001b[1;36m4\u001b[0m\u001b[1;33m)\u001b[0m\u001b[1;33m\u001b[0m\u001b[1;33m\u001b[0m\u001b[0m\n\u001b[0m",
      "\u001b[1;31mAttributeError\u001b[0m: 'tuple' object has no attribute 'append'"
     ]
    }
   ],
   "source": [
    "a.append(4)"
   ]
  },
  {
   "cell_type": "code",
   "execution_count": 244,
   "id": "specialized-swedish",
   "metadata": {},
   "outputs": [
    {
     "ename": "AttributeError",
     "evalue": "'tuple' object has no attribute 'remove'",
     "output_type": "error",
     "traceback": [
      "\u001b[1;31m---------------------------------------------------------------------------\u001b[0m",
      "\u001b[1;31mAttributeError\u001b[0m                            Traceback (most recent call last)",
      "\u001b[1;32m<ipython-input-244-fe741f3ae678>\u001b[0m in \u001b[0;36m<module>\u001b[1;34m\u001b[0m\n\u001b[1;32m----> 1\u001b[1;33m \u001b[0ma\u001b[0m\u001b[1;33m.\u001b[0m\u001b[0mremove\u001b[0m\u001b[1;33m(\u001b[0m\u001b[1;36m3\u001b[0m\u001b[1;33m)\u001b[0m\u001b[1;33m\u001b[0m\u001b[1;33m\u001b[0m\u001b[0m\n\u001b[0m",
      "\u001b[1;31mAttributeError\u001b[0m: 'tuple' object has no attribute 'remove'"
     ]
    }
   ],
   "source": [
    "a.remove(3)"
   ]
  },
  {
   "cell_type": "code",
   "execution_count": 108,
   "id": "infectious-length",
   "metadata": {
    "scrolled": true
   },
   "outputs": [
    {
     "ename": "AttributeError",
     "evalue": "'tuple' object has no attribute 'sort'",
     "output_type": "error",
     "traceback": [
      "\u001b[1;31m---------------------------------------------------------------------------\u001b[0m",
      "\u001b[1;31mAttributeError\u001b[0m                            Traceback (most recent call last)",
      "\u001b[1;32m<ipython-input-108-2ed0d7de6146>\u001b[0m in \u001b[0;36m<module>\u001b[1;34m\u001b[0m\n\u001b[1;32m----> 1\u001b[1;33m \u001b[0ma\u001b[0m\u001b[1;33m.\u001b[0m\u001b[0msort\u001b[0m\u001b[1;33m(\u001b[0m\u001b[1;33m)\u001b[0m\u001b[1;33m\u001b[0m\u001b[1;33m\u001b[0m\u001b[0m\n\u001b[0m",
      "\u001b[1;31mAttributeError\u001b[0m: 'tuple' object has no attribute 'sort'"
     ]
    }
   ],
   "source": [
    "a.sort()"
   ]
  },
  {
   "cell_type": "code",
   "execution_count": 92,
   "id": "chronic-carrier",
   "metadata": {},
   "outputs": [
    {
     "name": "stdout",
     "output_type": "stream",
     "text": [
      "[343, 33, 2, 1]\n",
      "(343, 1, 2, 33)\n"
     ]
    }
   ],
   "source": [
    "a=(343,1,2,33)\n",
    "print(sorted(a,reverse=True))\n",
    "print(a)"
   ]
  },
  {
   "cell_type": "markdown",
   "id": "interpreted-italy",
   "metadata": {},
   "source": [
    "# 3.Sets\n",
    "Sets are containers of **unique** elements wothout any particular ordering. <br>\n",
    "you can modify the elements in a set with methods like **add and pop**, so it's mutable."
   ]
  },
  {
   "cell_type": "code",
   "execution_count": 246,
   "id": "stable-congo",
   "metadata": {},
   "outputs": [
    {
     "name": "stdout",
     "output_type": "stream",
     "text": [
      "{121, 2, 3, 21}\n",
      "<class 'set'>\n"
     ]
    }
   ],
   "source": [
    "sett={3,2,21,121,3,3,3}\n",
    "\n",
    "print(sett)\n",
    "\n",
    "print(type(sett))"
   ]
  },
  {
   "cell_type": "markdown",
   "id": "worse-candle",
   "metadata": {},
   "source": [
    "#### Order does not matter !"
   ]
  },
  {
   "cell_type": "code",
   "execution_count": 248,
   "id": "exempt-rugby",
   "metadata": {},
   "outputs": [
    {
     "name": "stdout",
     "output_type": "stream",
     "text": [
      "True\n"
     ]
    }
   ],
   "source": [
    "a={1,2,3,3,3,3}\n",
    "b={2,3,1}\n",
    "print(a == b)"
   ]
  },
  {
   "cell_type": "markdown",
   "id": "adequate-bench",
   "metadata": {},
   "source": [
    "Because order does not matter, there are no slicing and indexing in sets."
   ]
  },
  {
   "cell_type": "code",
   "execution_count": 249,
   "id": "guided-hayes",
   "metadata": {},
   "outputs": [
    {
     "ename": "TypeError",
     "evalue": "'set' object is not subscriptable",
     "output_type": "error",
     "traceback": [
      "\u001b[1;31m---------------------------------------------------------------------------\u001b[0m",
      "\u001b[1;31mTypeError\u001b[0m                                 Traceback (most recent call last)",
      "\u001b[1;32m<ipython-input-249-6a1284577a36>\u001b[0m in \u001b[0;36m<module>\u001b[1;34m\u001b[0m\n\u001b[1;32m----> 1\u001b[1;33m \u001b[0ma\u001b[0m\u001b[1;33m[\u001b[0m\u001b[1;36m0\u001b[0m\u001b[1;33m]\u001b[0m\u001b[1;33m\u001b[0m\u001b[1;33m\u001b[0m\u001b[0m\n\u001b[0m",
      "\u001b[1;31mTypeError\u001b[0m: 'set' object is not subscriptable"
     ]
    }
   ],
   "source": [
    "a[0]"
   ]
  },
  {
   "cell_type": "markdown",
   "id": "limited-andorra",
   "metadata": {},
   "source": [
    "### Instead of append method, sets have \"add\" method."
   ]
  },
  {
   "cell_type": "code",
   "execution_count": 250,
   "id": "incorrect-bibliography",
   "metadata": {},
   "outputs": [
    {
     "name": "stdout",
     "output_type": "stream",
     "text": [
      "{121, 2, 3, 21}\n"
     ]
    }
   ],
   "source": [
    "print(sett)"
   ]
  },
  {
   "cell_type": "code",
   "execution_count": 251,
   "id": "thousand-examination",
   "metadata": {},
   "outputs": [
    {
     "name": "stdout",
     "output_type": "stream",
     "text": [
      "{2, 3, 21, 55, 121}\n"
     ]
    }
   ],
   "source": [
    "sett.add(55)\n",
    "print(sett)"
   ]
  },
  {
   "cell_type": "markdown",
   "id": "progressive-thought",
   "metadata": {},
   "source": [
    "# 4.Dictionaries\n",
    "A dictionary is a mutable, unordered data structure that contains mappings of keys to values"
   ]
  },
  {
   "cell_type": "code",
   "execution_count": 252,
   "id": "opening-concentration",
   "metadata": {},
   "outputs": [
    {
     "data": {
      "text/plain": [
       "{'hydrogen': 1, 'helium': 2, 'carbon': 6}"
      ]
     },
     "execution_count": 252,
     "metadata": {},
     "output_type": "execute_result"
    }
   ],
   "source": [
    "elements={'hydrogen':1 , \"helium\": 2, \"carbon\":6}\n",
    "elements"
   ]
  },
  {
   "cell_type": "markdown",
   "id": "taken-links",
   "metadata": {},
   "source": [
    "#### Order does not matter!"
   ]
  },
  {
   "cell_type": "code",
   "execution_count": 253,
   "id": "liked-veteran",
   "metadata": {},
   "outputs": [
    {
     "data": {
      "text/plain": [
       "True"
      ]
     },
     "execution_count": 253,
     "metadata": {},
     "output_type": "execute_result"
    }
   ],
   "source": [
    "elements1={'hydrogen':1 , \"helium\": 2, \"carbon\":6}\n",
    "elements2={\"helium\": 2, 'hydrogen':1 , \"carbon\":6}\n",
    "elements1 == elements2"
   ]
  },
  {
   "cell_type": "markdown",
   "id": "figured-forest",
   "metadata": {},
   "source": [
    "#### Looking up for values (by keys)"
   ]
  },
  {
   "cell_type": "code",
   "execution_count": 133,
   "id": "amber-roberts",
   "metadata": {},
   "outputs": [
    {
     "name": "stdout",
     "output_type": "stream",
     "text": [
      "6\n"
     ]
    }
   ],
   "source": [
    "print(elements['carbon'])"
   ]
  },
  {
   "cell_type": "code",
   "execution_count": 254,
   "id": "finished-jewelry",
   "metadata": {},
   "outputs": [
    {
     "data": {
      "text/plain": [
       "6"
      ]
     },
     "execution_count": 254,
     "metadata": {},
     "output_type": "execute_result"
    }
   ],
   "source": [
    "elements.get('carbon')"
   ]
  },
  {
   "cell_type": "markdown",
   "id": "operating-mailman",
   "metadata": {},
   "source": [
    "#### Adding new pairs"
   ]
  },
  {
   "cell_type": "markdown",
   "id": "domestic-georgia",
   "metadata": {},
   "source": [
    "#### 1. Via keys"
   ]
  },
  {
   "cell_type": "code",
   "execution_count": 255,
   "id": "centered-frame",
   "metadata": {
    "scrolled": true
   },
   "outputs": [
    {
     "name": "stdout",
     "output_type": "stream",
     "text": [
      "{'hydrogen': 1, 'helium': 2, 'carbon': 6, 'lithium': 3}\n"
     ]
    }
   ],
   "source": [
    "elements['lithium']=3\n",
    "print(elements)"
   ]
  },
  {
   "cell_type": "code",
   "execution_count": 256,
   "id": "angry-canvas",
   "metadata": {},
   "outputs": [
    {
     "data": {
      "text/plain": [
       "{'hydrogen': 1, 'helium': 2, 'carbon': 6, 'lithium': 3, 'neon': 10}"
      ]
     },
     "execution_count": 256,
     "metadata": {},
     "output_type": "execute_result"
    }
   ],
   "source": [
    "elements['neon']=10\n",
    "elements"
   ]
  },
  {
   "cell_type": "markdown",
   "id": "numeric-study",
   "metadata": {},
   "source": [
    "#### 2. via update() function"
   ]
  },
  {
   "cell_type": "code",
   "execution_count": 257,
   "id": "sitting-saudi",
   "metadata": {},
   "outputs": [
    {
     "data": {
      "text/plain": [
       "{'hydrogen': 1, 'helium': 2, 'carbon': 6, 'lithium': 3, 'neon': 10, 'cat': 10}"
      ]
     },
     "execution_count": 257,
     "metadata": {},
     "output_type": "execute_result"
    }
   ],
   "source": [
    "elements.update({'cat':10})\n",
    "elements"
   ]
  },
  {
   "cell_type": "markdown",
   "id": "arabic-inclusion",
   "metadata": {},
   "source": [
    "#### Keys can have different types"
   ]
  },
  {
   "cell_type": "code",
   "execution_count": 258,
   "id": "finished-yahoo",
   "metadata": {},
   "outputs": [
    {
     "name": "stdout",
     "output_type": "stream",
     "text": [
      "{'hydrogen': 1, 'helium': 2, 'carbon': 6, 'lithium': 3, 'neon': 10, 'cat': 10, 3453: 45}\n"
     ]
    }
   ],
   "source": [
    "elements[3453]=45\n",
    "print(elements)"
   ]
  },
  {
   "cell_type": "markdown",
   "id": "greatest-amsterdam",
   "metadata": {},
   "source": [
    "#### Searching by keys"
   ]
  },
  {
   "cell_type": "code",
   "execution_count": 126,
   "id": "frozen-courtesy",
   "metadata": {},
   "outputs": [
    {
     "name": "stdout",
     "output_type": "stream",
     "text": [
      "True\n"
     ]
    }
   ],
   "source": [
    "print('carbon' in elements)"
   ]
  },
  {
   "cell_type": "code",
   "execution_count": 146,
   "id": "helpful-rescue",
   "metadata": {},
   "outputs": [
    {
     "name": "stdout",
     "output_type": "stream",
     "text": [
      "2\n"
     ]
    }
   ],
   "source": [
    "print(elements['helium'])"
   ]
  },
  {
   "cell_type": "code",
   "execution_count": 259,
   "id": "differential-nutrition",
   "metadata": {},
   "outputs": [
    {
     "ename": "KeyError",
     "evalue": "'dhelium'",
     "output_type": "error",
     "traceback": [
      "\u001b[1;31m---------------------------------------------------------------------------\u001b[0m",
      "\u001b[1;31mKeyError\u001b[0m                                  Traceback (most recent call last)",
      "\u001b[1;32m<ipython-input-259-3f01ab33b3b4>\u001b[0m in \u001b[0;36m<module>\u001b[1;34m\u001b[0m\n\u001b[1;32m----> 1\u001b[1;33m \u001b[0mprint\u001b[0m\u001b[1;33m(\u001b[0m\u001b[0melements\u001b[0m\u001b[1;33m[\u001b[0m\u001b[1;34m'dhelium'\u001b[0m\u001b[1;33m]\u001b[0m\u001b[1;33m)\u001b[0m\u001b[1;33m\u001b[0m\u001b[1;33m\u001b[0m\u001b[0m\n\u001b[0m",
      "\u001b[1;31mKeyError\u001b[0m: 'dhelium'"
     ]
    }
   ],
   "source": [
    "print(elements['dhelium'])"
   ]
  },
  {
   "cell_type": "markdown",
   "id": "impressed-david",
   "metadata": {},
   "source": [
    "To avoid keyError when searching in dictionaries, you can use **get** method"
   ]
  },
  {
   "cell_type": "code",
   "execution_count": 260,
   "id": "explicit-continent",
   "metadata": {},
   "outputs": [
    {
     "name": "stdout",
     "output_type": "stream",
     "text": [
      "None\n"
     ]
    }
   ],
   "source": [
    "print(elements.get('dhelium'))"
   ]
  },
  {
   "cell_type": "code",
   "execution_count": 148,
   "id": "expressed-dubai",
   "metadata": {},
   "outputs": [
    {
     "name": "stdout",
     "output_type": "stream",
     "text": [
      "2\n"
     ]
    }
   ],
   "source": [
    "print(elements.get('helium'))"
   ]
  },
  {
   "cell_type": "markdown",
   "id": "bizarre-productivity",
   "metadata": {},
   "source": [
    "--Exercise"
   ]
  },
  {
   "cell_type": "markdown",
   "id": "textile-warning",
   "metadata": {},
   "source": [
    "   Key     |   Value\n",
    "   --------|----------\n",
    " Shanghai  |   17.8\n",
    " Istanbul  |   -13.3\n",
    " Karachi   |   13.0\n",
    " Mumbai    |   12.5"
   ]
  },
  {
   "cell_type": "code",
   "execution_count": 232,
   "id": "timely-pledge",
   "metadata": {},
   "outputs": [
    {
     "data": {
      "text/plain": [
       "{'Shanghai': 17.8, 'Istanbul': 13.3, 'Karachi': 13.0, 'Mumbai': 12.5}"
      ]
     },
     "execution_count": 232,
     "metadata": {},
     "output_type": "execute_result"
    }
   ],
   "source": [
    "population= {\"Shanghai\":17.8 , \"Istanbul\":13.3 , \"Karachi\":13.0,\"Mumbai\":12.5}\n",
    "population"
   ]
  },
  {
   "cell_type": "code",
   "execution_count": 233,
   "id": "boolean-crazy",
   "metadata": {},
   "outputs": [
    {
     "data": {
      "text/plain": [
       "{'Shanghai': 17.8,\n",
       " 'Istanbul': 13.3,\n",
       " 'Karachi': 13.0,\n",
       " 'Mumbai': 12.5,\n",
       " 'Iran': 80}"
      ]
     },
     "execution_count": 233,
     "metadata": {},
     "output_type": "execute_result"
    }
   ],
   "source": [
    "population['Iran']=80\n",
    "population"
   ]
  },
  {
   "cell_type": "code",
   "execution_count": 234,
   "id": "musical-regard",
   "metadata": {},
   "outputs": [
    {
     "data": {
      "text/plain": [
       "{'Shanghai': 17.8,\n",
       " 'Istanbul': 13.3,\n",
       " 'Karachi': 13.0,\n",
       " 'Mumbai': 12.5,\n",
       " 'Iran': 80,\n",
       " 'USA': 350}"
      ]
     },
     "execution_count": 234,
     "metadata": {},
     "output_type": "execute_result"
    }
   ],
   "source": [
    "population.update({'USA':350})\n",
    "population"
   ]
  },
  {
   "cell_type": "markdown",
   "id": "temporal-chassis",
   "metadata": {},
   "source": [
    "***Dictionary keys must be immutable; so, they must be of a type that is not modifiable"
   ]
  },
  {
   "cell_type": "code",
   "execution_count": 261,
   "id": "amended-digest",
   "metadata": {
    "scrolled": true
   },
   "outputs": [
    {
     "data": {
      "text/plain": [
       "{'dogs': [20, 10, 15, 8, 32, 15],\n",
       " 'cats': [3, 4, 2, 8, 2, 4],\n",
       " 'rabbits': [2, 3, 1, 1, 1, 3],\n",
       " 'fish': [0.3, 0.5, 0.8, 0.3, 1, 1]}"
      ]
     },
     "execution_count": 261,
     "metadata": {},
     "output_type": "execute_result"
    }
   ],
   "source": [
    "animals = {'dogs': [20, 10, 15, 8, 32, 15], 'cats': [3,4,2,8,2,4], 'rabbits': [2, 3, 1,1,1,3], 'fish': [0.3, 0.5, 0.8, 0.3, 1,1]}\n",
    "animals"
   ]
  },
  {
   "cell_type": "code",
   "execution_count": 262,
   "id": "veterinary-worry",
   "metadata": {},
   "outputs": [
    {
     "data": {
      "text/plain": [
       "[0.3, 0.5, 0.8, 0.3, 1, 1]"
      ]
     },
     "execution_count": 262,
     "metadata": {},
     "output_type": "execute_result"
    }
   ],
   "source": [
    "animals['fish']"
   ]
  },
  {
   "cell_type": "code",
   "execution_count": 263,
   "id": "opened-cover",
   "metadata": {
    "scrolled": true
   },
   "outputs": [
    {
     "data": {
      "text/plain": [
       "[0.3, 0.5, 0.8, 0.3, 1, 1]"
      ]
     },
     "execution_count": 263,
     "metadata": {},
     "output_type": "execute_result"
    }
   ],
   "source": [
    "animals.get('fish')"
   ]
  },
  {
   "cell_type": "code",
   "execution_count": 264,
   "id": "elegant-prison",
   "metadata": {},
   "outputs": [
    {
     "ename": "KeyError",
     "evalue": "3",
     "output_type": "error",
     "traceback": [
      "\u001b[1;31m---------------------------------------------------------------------------\u001b[0m",
      "\u001b[1;31mKeyError\u001b[0m                                  Traceback (most recent call last)",
      "\u001b[1;32m<ipython-input-264-3fea7a107abd>\u001b[0m in \u001b[0;36m<module>\u001b[1;34m\u001b[0m\n\u001b[1;32m----> 1\u001b[1;33m \u001b[0manimals\u001b[0m\u001b[1;33m[\u001b[0m\u001b[1;36m3\u001b[0m\u001b[1;33m]\u001b[0m \u001b[1;31m#dictionaries are unordered\u001b[0m\u001b[1;33m\u001b[0m\u001b[1;33m\u001b[0m\u001b[0m\n\u001b[0m",
      "\u001b[1;31mKeyError\u001b[0m: 3"
     ]
    }
   ],
   "source": [
    "animals[3] #dictionaries are unordered"
   ]
  },
  {
   "cell_type": "code",
   "execution_count": 265,
   "id": "theoretical-controversy",
   "metadata": {},
   "outputs": [
    {
     "data": {
      "text/plain": [
       "{'dogs': [20, 10, 15, 8, 32, 15],\n",
       " 'cats': [3, 4, 2, 8, 2, 4],\n",
       " 'rabbits': [2, 3, 1, 1, 1, 3],\n",
       " 'fish': [0.3, 0.5, 0.8, 0.3, 1, 1]}"
      ]
     },
     "execution_count": 265,
     "metadata": {},
     "output_type": "execute_result"
    }
   ],
   "source": [
    "animals"
   ]
  },
  {
   "cell_type": "code",
   "execution_count": 161,
   "id": "naughty-southwest",
   "metadata": {},
   "outputs": [
    {
     "data": {
      "text/html": [
       "<div>\n",
       "<style scoped>\n",
       "    .dataframe tbody tr th:only-of-type {\n",
       "        vertical-align: middle;\n",
       "    }\n",
       "\n",
       "    .dataframe tbody tr th {\n",
       "        vertical-align: top;\n",
       "    }\n",
       "\n",
       "    .dataframe thead th {\n",
       "        text-align: right;\n",
       "    }\n",
       "</style>\n",
       "<table border=\"1\" class=\"dataframe\">\n",
       "  <thead>\n",
       "    <tr style=\"text-align: right;\">\n",
       "      <th></th>\n",
       "      <th>dogs</th>\n",
       "      <th>cats</th>\n",
       "      <th>rabbits</th>\n",
       "      <th>fish</th>\n",
       "    </tr>\n",
       "  </thead>\n",
       "  <tbody>\n",
       "    <tr>\n",
       "      <th>0</th>\n",
       "      <td>20</td>\n",
       "      <td>3</td>\n",
       "      <td>2</td>\n",
       "      <td>0.3</td>\n",
       "    </tr>\n",
       "    <tr>\n",
       "      <th>1</th>\n",
       "      <td>10</td>\n",
       "      <td>4</td>\n",
       "      <td>3</td>\n",
       "      <td>0.5</td>\n",
       "    </tr>\n",
       "    <tr>\n",
       "      <th>2</th>\n",
       "      <td>15</td>\n",
       "      <td>2</td>\n",
       "      <td>1</td>\n",
       "      <td>0.8</td>\n",
       "    </tr>\n",
       "    <tr>\n",
       "      <th>3</th>\n",
       "      <td>8</td>\n",
       "      <td>8</td>\n",
       "      <td>1</td>\n",
       "      <td>0.3</td>\n",
       "    </tr>\n",
       "    <tr>\n",
       "      <th>4</th>\n",
       "      <td>32</td>\n",
       "      <td>2</td>\n",
       "      <td>1</td>\n",
       "      <td>1.0</td>\n",
       "    </tr>\n",
       "    <tr>\n",
       "      <th>5</th>\n",
       "      <td>15</td>\n",
       "      <td>4</td>\n",
       "      <td>3</td>\n",
       "      <td>1.0</td>\n",
       "    </tr>\n",
       "  </tbody>\n",
       "</table>\n",
       "</div>"
      ],
      "text/plain": [
       "   dogs  cats  rabbits  fish\n",
       "0    20     3        2   0.3\n",
       "1    10     4        3   0.5\n",
       "2    15     2        1   0.8\n",
       "3     8     8        1   0.3\n",
       "4    32     2        1   1.0\n",
       "5    15     4        3   1.0"
      ]
     },
     "execution_count": 161,
     "metadata": {},
     "output_type": "execute_result"
    }
   ],
   "source": [
    "import pandas as pd\n",
    "pd.DataFrame(data=animals)"
   ]
  },
  {
   "cell_type": "markdown",
   "id": "reduced-arnold",
   "metadata": {},
   "source": [
    "____"
   ]
  },
  {
   "cell_type": "markdown",
   "id": "controlled-harvey",
   "metadata": {},
   "source": [
    "___"
   ]
  },
  {
   "cell_type": "markdown",
   "id": "extra-commerce",
   "metadata": {},
   "source": [
    "# Compound Data Structures\n",
    "We can include containers in other containers to create compound data structures. For example, this dictionary maps keys to values that are also dictionaries!"
   ]
  },
  {
   "cell_type": "code",
   "execution_count": 267,
   "id": "national-simple",
   "metadata": {},
   "outputs": [],
   "source": [
    "elements = {\"hydrogen\": {\"number\": 1,\n",
    "                         \"weight\": 1.00794,\n",
    "                         \"symbol\": \"H\"},\n",
    "              \"helium\": {\"number\": 2,\n",
    "                         \"weight\": 4.002602,\n",
    "                         \"symbol\": \"He\"}}"
   ]
  },
  {
   "cell_type": "code",
   "execution_count": 268,
   "id": "prompt-foster",
   "metadata": {},
   "outputs": [
    {
     "data": {
      "text/plain": [
       "{'number': 2, 'weight': 4.002602, 'symbol': 'He'}"
      ]
     },
     "execution_count": 268,
     "metadata": {},
     "output_type": "execute_result"
    }
   ],
   "source": [
    "elements[\"helium\"] "
   ]
  },
  {
   "cell_type": "code",
   "execution_count": 175,
   "id": "interior-adobe",
   "metadata": {},
   "outputs": [
    {
     "data": {
      "text/plain": [
       "4.002602"
      ]
     },
     "execution_count": 175,
     "metadata": {},
     "output_type": "execute_result"
    }
   ],
   "source": [
    "elements[\"helium\"][\"weight\"] "
   ]
  },
  {
   "cell_type": "markdown",
   "id": "uniform-undergraduate",
   "metadata": {},
   "source": [
    "___"
   ]
  },
  {
   "cell_type": "markdown",
   "id": "suspected-background",
   "metadata": {},
   "source": [
    "# Conclusion"
   ]
  },
  {
   "cell_type": "markdown",
   "id": "attempted-removal",
   "metadata": {},
   "source": [
    "Data Structure |Ordered | Mutable | Constructor | Example\n",
    "---------------|--------|---------|-------------|--------\n",
    "List           | Yes    | Yes     |[ ] or  list()| [1,2,3]\n",
    "Tuple          | Yes    | No      | ( ) or tuple()| (1,2,3)\n",
    "Set            | No     | Yes     | {} or set()   | {1,2,3}\n",
    "Dictionary     | No     | Yes     | {} or dict()  | {'Jun': 75, 'Jul': 89}"
   ]
  },
  {
   "cell_type": "markdown",
   "id": "explicit-client",
   "metadata": {},
   "source": [
    "If you leave the curly braces empty like this: {} , Python will instead create an empty dictionary. So to create an empty set, use set()"
   ]
  },
  {
   "cell_type": "markdown",
   "id": "defined-recorder",
   "metadata": {},
   "source": [
    "** **A dictionary itself is mutable, but each of its individual keys must be immutable.**"
   ]
  },
  {
   "cell_type": "markdown",
   "id": "advisory-dollar",
   "metadata": {},
   "source": [
    "## Place Holders (string formats)"
   ]
  },
  {
   "cell_type": "markdown",
   "id": "provincial-filename",
   "metadata": {},
   "source": [
    "## 1."
   ]
  },
  {
   "cell_type": "markdown",
   "id": "consolidated-scanning",
   "metadata": {},
   "source": [
    "The ‘f-string’ syntax was introduced in Python 3.6. It is not available in earlier versions of Python."
   ]
  },
  {
   "cell_type": "code",
   "execution_count": 270,
   "id": "careful-german",
   "metadata": {},
   "outputs": [
    {
     "name": "stdout",
     "output_type": "stream",
     "text": [
      "our stocks have fallen to 18 percent\n"
     ]
    }
   ],
   "source": [
    "x=18\n",
    "print(f\"our stocks have fallen to {x} percent\")"
   ]
  },
  {
   "cell_type": "markdown",
   "id": "pregnant-sperm",
   "metadata": {},
   "source": [
    "## 2."
   ]
  },
  {
   "cell_type": "code",
   "execution_count": 271,
   "id": "advised-hampshire",
   "metadata": {},
   "outputs": [
    {
     "name": "stdout",
     "output_type": "stream",
     "text": [
      "our stocks have fallen to 17percent\n"
     ]
    }
   ],
   "source": [
    "x=17\n",
    "print(\"our stocks have fallen to {}percent\".format(x))"
   ]
  },
  {
   "cell_type": "code",
   "execution_count": 272,
   "id": "finished-colorado",
   "metadata": {
    "scrolled": false
   },
   "outputs": [
    {
     "name": "stdout",
     "output_type": "stream",
     "text": [
      "this is a string with 3 reserved spaces.\n"
     ]
    }
   ],
   "source": [
    "print(\"this is {} string with {} reserved spaces{}\".format('a',3,'.'))"
   ]
  },
  {
   "cell_type": "code",
   "execution_count": 236,
   "id": "listed-destination",
   "metadata": {},
   "outputs": [
    {
     "name": "stdout",
     "output_type": "stream",
     "text": [
      "Unsupervised algorithms try to find patterns in the dataset\n"
     ]
    }
   ],
   "source": [
    "tool=\"Unsupervised algorithms\"\n",
    "goal=\"patterns\"\n",
    "\n",
    "print(\"{title} try to find {aim} in the dataset\".format(title=tool, aim=goal))"
   ]
  },
  {
   "cell_type": "code",
   "execution_count": 273,
   "id": "stuffed-possible",
   "metadata": {},
   "outputs": [
    {
     "name": "stdout",
     "output_type": "stream",
     "text": [
      "Only 0.515567% of the data produced worldwide is analyzed!\n"
     ]
    }
   ],
   "source": [
    "print(\"Only {0:f}% of the {1} produced worldwide is {2}!\". format(0.5155675, \"data\", \"analyzed\"))"
   ]
  },
  {
   "cell_type": "code",
   "execution_count": 241,
   "id": "honest-protocol",
   "metadata": {},
   "outputs": [
    {
     "name": "stdout",
     "output_type": "stream",
     "text": [
      "Only 0.52% of the data produced worldwide is analyzed!\n"
     ]
    }
   ],
   "source": [
    "print(\"Only {0:.2f}% of the {1} produced worldwide is {2}!\".format(0.5155675, \"data\", \"analyzed\"))"
   ]
  },
  {
   "cell_type": "code",
   "execution_count": 242,
   "id": "alike-tennessee",
   "metadata": {},
   "outputs": [
    {
     "name": "stdout",
     "output_type": "stream",
     "text": [
      "Only 0.516% of the data produced worldwide is analyzed!\n"
     ]
    }
   ],
   "source": [
    "print(\"Only {0:.3f}% of the {1} produced worldwide is {2}!\".format(0.5155675, \"data\", \"analyzed\"))"
   ]
  },
  {
   "cell_type": "markdown",
   "id": "incorrect-lottery",
   "metadata": {},
   "source": [
    "__________"
   ]
  },
  {
   "cell_type": "markdown",
   "id": "altered-ecology",
   "metadata": {},
   "source": [
    "_________"
   ]
  },
  {
   "cell_type": "code",
   "execution_count": 9,
   "id": "attempted-cocktail",
   "metadata": {},
   "outputs": [
    {
     "name": "stdout",
     "output_type": "stream",
     "text": [
      "A     2\n",
      "B     4\n",
      "C     6\n",
      "D     8\n",
      "E    10\n",
      "dtype: int64\n"
     ]
    }
   ],
   "source": [
    "import pandas as pd\n",
    "ds1 = pd.Series([2, 4, 6, 8, 10],index=['A','B','C','D','E'])\n",
    "\n",
    "print(ds1)"
   ]
  },
  {
   "cell_type": "code",
   "execution_count": 8,
   "id": "realistic-smoke",
   "metadata": {},
   "outputs": [
    {
     "data": {
      "text/plain": [
       "a    1\n",
       "b    2\n",
       "dtype: int64"
      ]
     },
     "execution_count": 8,
     "metadata": {},
     "output_type": "execute_result"
    }
   ],
   "source": [
    "a={'a':1,'b':2}\n",
    "pd.Series(a)"
   ]
  },
  {
   "cell_type": "code",
   "execution_count": 13,
   "id": "given-convertible",
   "metadata": {},
   "outputs": [],
   "source": []
  },
  {
   "cell_type": "code",
   "execution_count": 14,
   "id": "bacterial-uncertainty",
   "metadata": {},
   "outputs": [
    {
     "data": {
      "text/html": [
       "<div>\n",
       "<style scoped>\n",
       "    .dataframe tbody tr th:only-of-type {\n",
       "        vertical-align: middle;\n",
       "    }\n",
       "\n",
       "    .dataframe tbody tr th {\n",
       "        vertical-align: top;\n",
       "    }\n",
       "\n",
       "    .dataframe thead th {\n",
       "        text-align: right;\n",
       "    }\n",
       "</style>\n",
       "<table border=\"1\" class=\"dataframe\">\n",
       "  <thead>\n",
       "    <tr style=\"text-align: right;\">\n",
       "      <th></th>\n",
       "      <th>col1</th>\n",
       "      <th>col2</th>\n",
       "    </tr>\n",
       "  </thead>\n",
       "  <tbody>\n",
       "    <tr>\n",
       "      <th>0</th>\n",
       "      <td>16</td>\n",
       "      <td>2</td>\n",
       "    </tr>\n",
       "    <tr>\n",
       "      <th>1</th>\n",
       "      <td>17</td>\n",
       "      <td>3</td>\n",
       "    </tr>\n",
       "    <tr>\n",
       "      <th>2</th>\n",
       "      <td>18</td>\n",
       "      <td>4</td>\n",
       "    </tr>\n",
       "  </tbody>\n",
       "</table>\n",
       "</div>"
      ],
      "text/plain": [
       "   col1  col2\n",
       "0    16     2\n",
       "1    17     3\n",
       "2    18     4"
      ]
     },
     "execution_count": 14,
     "metadata": {},
     "output_type": "execute_result"
    }
   ],
   "source": [
    "df"
   ]
  },
  {
   "cell_type": "code",
   "execution_count": 15,
   "id": "thousand-distinction",
   "metadata": {},
   "outputs": [],
   "source": [
    "df['col2']=df['col2']/df['col1']"
   ]
  },
  {
   "cell_type": "code",
   "execution_count": 16,
   "id": "violent-bleeding",
   "metadata": {},
   "outputs": [
    {
     "data": {
      "text/html": [
       "<div>\n",
       "<style scoped>\n",
       "    .dataframe tbody tr th:only-of-type {\n",
       "        vertical-align: middle;\n",
       "    }\n",
       "\n",
       "    .dataframe tbody tr th {\n",
       "        vertical-align: top;\n",
       "    }\n",
       "\n",
       "    .dataframe thead th {\n",
       "        text-align: right;\n",
       "    }\n",
       "</style>\n",
       "<table border=\"1\" class=\"dataframe\">\n",
       "  <thead>\n",
       "    <tr style=\"text-align: right;\">\n",
       "      <th></th>\n",
       "      <th>col1</th>\n",
       "      <th>col2</th>\n",
       "    </tr>\n",
       "  </thead>\n",
       "  <tbody>\n",
       "    <tr>\n",
       "      <th>0</th>\n",
       "      <td>16</td>\n",
       "      <td>0.125000</td>\n",
       "    </tr>\n",
       "    <tr>\n",
       "      <th>1</th>\n",
       "      <td>17</td>\n",
       "      <td>0.176471</td>\n",
       "    </tr>\n",
       "    <tr>\n",
       "      <th>2</th>\n",
       "      <td>18</td>\n",
       "      <td>0.222222</td>\n",
       "    </tr>\n",
       "  </tbody>\n",
       "</table>\n",
       "</div>"
      ],
      "text/plain": [
       "   col1      col2\n",
       "0    16  0.125000\n",
       "1    17  0.176471\n",
       "2    18  0.222222"
      ]
     },
     "execution_count": 16,
     "metadata": {},
     "output_type": "execute_result"
    }
   ],
   "source": [
    "df"
   ]
  },
  {
   "cell_type": "code",
   "execution_count": null,
   "id": "fatty-vietnam",
   "metadata": {},
   "outputs": [],
   "source": []
  }
 ],
 "metadata": {
  "kernelspec": {
   "display_name": "Python 3",
   "language": "python",
   "name": "python3"
  },
  "language_info": {
   "codemirror_mode": {
    "name": "ipython",
    "version": 3
   },
   "file_extension": ".py",
   "mimetype": "text/x-python",
   "name": "python",
   "nbconvert_exporter": "python",
   "pygments_lexer": "ipython3",
   "version": "3.9.1"
  }
 },
 "nbformat": 4,
 "nbformat_minor": 5
}
