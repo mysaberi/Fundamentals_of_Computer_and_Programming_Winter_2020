{
 "cells": [
  {
   "cell_type": "markdown",
   "id": "activated-louis",
   "metadata": {},
   "source": [
    "# Comment"
   ]
  },
  {
   "cell_type": "markdown",
   "id": "pressing-device",
   "metadata": {},
   "source": [
    "#this is a comment to make your code more readable\n",
    "\n",
    "anithing after \"#\" will not be exected"
   ]
  },
  {
   "cell_type": "code",
   "execution_count": 1,
   "id": "involved-symposium",
   "metadata": {},
   "outputs": [
    {
     "data": {
      "text/plain": [
       "7"
      ]
     },
     "execution_count": 1,
     "metadata": {},
     "output_type": "execute_result"
    }
   ],
   "source": [
    "3+4 #first comment\n"
   ]
  },
  {
   "cell_type": "code",
   "execution_count": 2,
   "id": "statistical-consistency",
   "metadata": {},
   "outputs": [],
   "source": [
    "#fisrt comment 3+4"
   ]
  },
  {
   "cell_type": "markdown",
   "id": "manufactured-congo",
   "metadata": {},
   "source": [
    "Sometimes we want to write a text in **more than one line**,\n",
    "for example a text that describes what your program should do.\n",
    "you can put your code in: <br>\n",
    "<br>\n",
    "**'''** some text <br>\n",
    "another line <br>\n",
    "another line **'''**"
   ]
  },
  {
   "cell_type": "code",
   "execution_count": 35,
   "id": "concerned-fortune",
   "metadata": {},
   "outputs": [
    {
     "data": {
      "text/plain": [
       "7"
      ]
     },
     "execution_count": 35,
     "metadata": {},
     "output_type": "execute_result"
    }
   ],
   "source": [
    "'''in khotoot ejra\n",
    "nemishe \n",
    "va hamash comment mahsoob \n",
    "mishe\n",
    "'''\n",
    "4+3"
   ]
  },
  {
   "cell_type": "markdown",
   "id": "disciplinary-selling",
   "metadata": {},
   "source": [
    "_______"
   ]
  },
  {
   "cell_type": "markdown",
   "id": "concrete-collective",
   "metadata": {},
   "source": [
    "## if / else / elif"
   ]
  },
  {
   "cell_type": "markdown",
   "id": "engaged-sheffield",
   "metadata": {},
   "source": [
    "if (گزاره منطقی صحیح):<br>\n",
    "         در صورت صحبح بودنِ گزاره منطقی و ورود به بلاکِ شرط، کدهای این بلاک اجرا میشود"
   ]
  },
  {
   "cell_type": "code",
   "execution_count": 36,
   "id": "stunning-robin",
   "metadata": {},
   "outputs": [
    {
     "data": {
      "text/plain": [
       "True"
      ]
     },
     "execution_count": 36,
     "metadata": {},
     "output_type": "execute_result"
    }
   ],
   "source": [
    "4>3"
   ]
  },
  {
   "cell_type": "code",
   "execution_count": 38,
   "id": "italic-warren",
   "metadata": {},
   "outputs": [
    {
     "data": {
      "text/plain": [
       "False"
      ]
     },
     "execution_count": 38,
     "metadata": {},
     "output_type": "execute_result"
    }
   ],
   "source": [
    "3<2"
   ]
  },
  {
   "cell_type": "code",
   "execution_count": 40,
   "id": "crude-regular",
   "metadata": {},
   "outputs": [],
   "source": [
    "grade=80\n",
    "\n",
    "if(grade >=90) :\n",
    "    print('Passed')\n",
    "    "
   ]
  },
  {
   "cell_type": "code",
   "execution_count": 5,
   "id": "engaging-cowboy",
   "metadata": {},
   "outputs": [],
   "source": [
    "g= 80\n",
    "\n",
    "if (g>=90):\n",
    "    \n",
    "    print('passed')"
   ]
  },
  {
   "cell_type": "markdown",
   "id": "reflected-glucose",
   "metadata": {},
   "source": [
    "___"
   ]
  },
  {
   "cell_type": "markdown",
   "id": "double-field",
   "metadata": {},
   "source": [
    " اجرا میشهelse زمانی که گزارهِ منطقیِ جلوی شرط غلط باشه، گزاره "
   ]
  },
  {
   "cell_type": "code",
   "execution_count": 41,
   "id": "inclusive-yesterday",
   "metadata": {},
   "outputs": [
    {
     "name": "stdout",
     "output_type": "stream",
     "text": [
      "bye!\n"
     ]
    }
   ],
   "source": [
    "grade=40\n",
    "\n",
    "if(grade >=60) :\n",
    "    print('Passed')\n",
    "\n",
    "else:\n",
    "    print('bye!')\n",
    "    "
   ]
  },
  {
   "cell_type": "code",
   "execution_count": 6,
   "id": "backed-swiss",
   "metadata": {},
   "outputs": [
    {
     "name": "stdout",
     "output_type": "stream",
     "text": [
      "4\n"
     ]
    }
   ],
   "source": [
    "g=4\n",
    "if (g>5):\n",
    "    print(\"1\")\n",
    "else:\n",
    "    print(g)"
   ]
  },
  {
   "cell_type": "markdown",
   "id": "straight-biotechnology",
   "metadata": {},
   "source": [
    "___"
   ]
  },
  {
   "cell_type": "code",
   "execution_count": 7,
   "id": "internal-beginning",
   "metadata": {},
   "outputs": [
    {
     "name": "stdout",
     "output_type": "stream",
     "text": [
      "C\n"
     ]
    }
   ],
   "source": [
    "grade = 77\n",
    "\n",
    "if grade >= 90:\n",
    "    print('A')\n",
    "elif grade >= 80:\n",
    "    print('B')\n",
    "elif grade >= 70:\n",
    "    print('C')\n",
    "elif grade == 77:\n",
    "    print('check')\n",
    "else:\n",
    "    print('F')"
   ]
  },
  {
   "cell_type": "code",
   "execution_count": 42,
   "id": "aboriginal-grain",
   "metadata": {},
   "outputs": [
    {
     "name": "stdout",
     "output_type": "stream",
     "text": [
      "fghfg\n",
      "80\n",
      "60\n"
     ]
    }
   ],
   "source": [
    "g=77\n",
    "if g>=90:\n",
    "    print('a')\n",
    "if g==77:\n",
    "    print('fghfg')\n",
    "if g<80:\n",
    "    print(80)\n",
    "if g>60:\n",
    "    print(60)"
   ]
  },
  {
   "cell_type": "markdown",
   "id": "ranging-branch",
   "metadata": {},
   "source": [
    "An if…elif…else is faster than separate if\n",
    "statements, because condition testing stops as soon as a condition is True."
   ]
  },
  {
   "cell_type": "markdown",
   "id": "simplified-observer",
   "metadata": {},
   "source": [
    "______"
   ]
  },
  {
   "cell_type": "markdown",
   "id": "victorian-outside",
   "metadata": {},
   "source": [
    "# while"
   ]
  },
  {
   "cell_type": "markdown",
   "id": "stopped-thriller",
   "metadata": {},
   "source": [
    "نوعی حلقه که بهت اجازه میده تا زمانی که گزاره ی منطقیش صحیح هست، بلاکِ کدش اجرا بشه"
   ]
  },
  {
   "cell_type": "code",
   "execution_count": 44,
   "id": "individual-honey",
   "metadata": {},
   "outputs": [
    {
     "name": "stdout",
     "output_type": "stream",
     "text": [
      "10\n"
     ]
    }
   ],
   "source": [
    "n=10\n",
    "while(3==3):\n",
    "    print(n)\n",
    "    break\n",
    "    #n=n-1"
   ]
  },
  {
   "cell_type": "code",
   "execution_count": 9,
   "id": "based-jones",
   "metadata": {},
   "outputs": [
    {
     "name": "stdout",
     "output_type": "stream",
     "text": [
      "9\n",
      "27\n",
      "81\n"
     ]
    }
   ],
   "source": [
    "product = 3\n",
    "while product <= 50:\n",
    "    product = product * 3\n",
    "    print(product)"
   ]
  },
  {
   "cell_type": "markdown",
   "id": "continuous-reunion",
   "metadata": {},
   "source": [
    "___"
   ]
  },
  {
   "cell_type": "markdown",
   "id": "covered-overhead",
   "metadata": {},
   "source": [
    "# for"
   ]
  },
  {
   "cell_type": "code",
   "execution_count": 11,
   "id": "jewish-switzerland",
   "metadata": {},
   "outputs": [],
   "source": [
    "x=[1,2,3,4,5,6,7,8]"
   ]
  },
  {
   "cell_type": "code",
   "execution_count": 12,
   "id": "handmade-edgar",
   "metadata": {},
   "outputs": [
    {
     "name": "stdout",
     "output_type": "stream",
     "text": [
      "1\n",
      "2\n",
      "3\n",
      "4\n",
      "5\n",
      "6\n",
      "7\n",
      "8\n"
     ]
    }
   ],
   "source": [
    "for i in x :\n",
    "    print(i)"
   ]
  },
  {
   "cell_type": "code",
   "execution_count": 13,
   "id": "efficient-christianity",
   "metadata": {},
   "outputs": [
    {
     "name": "stdout",
     "output_type": "stream",
     "text": [
      "1\n",
      "33\n",
      "4\n",
      "5\n",
      "6\n"
     ]
    }
   ],
   "source": [
    "for i in [1,33,4,5,6]:\n",
    "    print(i)"
   ]
  },
  {
   "cell_type": "code",
   "execution_count": 45,
   "id": "complicated-organizer",
   "metadata": {},
   "outputs": [
    {
     "name": "stdout",
     "output_type": "stream",
     "text": [
      "apple\n",
      "orange\n",
      "plum\n"
     ]
    }
   ],
   "source": [
    "for i in ['apple', 'orange','plum']:\n",
    "    print(i)"
   ]
  },
  {
   "cell_type": "code",
   "execution_count": 46,
   "id": "atlantic-illinois",
   "metadata": {},
   "outputs": [
    {
     "data": {
      "text/plain": [
       "'e'"
      ]
     },
     "execution_count": 46,
     "metadata": {},
     "output_type": "execute_result"
    }
   ],
   "source": [
    "x='mehrnoosh google'\n",
    "x[-1]"
   ]
  },
  {
   "cell_type": "code",
   "execution_count": 23,
   "id": "aboriginal-garage",
   "metadata": {},
   "outputs": [
    {
     "name": "stdout",
     "output_type": "stream",
     "text": [
      "h\n",
      "e\n",
      "l\n",
      "l\n",
      "o\n",
      " \n",
      "w\n",
      "o\n",
      "r\n",
      "l\n",
      "d\n",
      "!\n"
     ]
    }
   ],
   "source": [
    "for i in 'hello world!':\n",
    "    print(i)"
   ]
  },
  {
   "cell_type": "markdown",
   "id": "significant-hindu",
   "metadata": {},
   "source": [
    "### range"
   ]
  },
  {
   "cell_type": "code",
   "execution_count": 48,
   "id": "marine-discovery",
   "metadata": {},
   "outputs": [
    {
     "name": "stdout",
     "output_type": "stream",
     "text": [
      "[0, 1, 2, 3, 4, 5, 6, 7, 8, 9, 10]\n"
     ]
    }
   ],
   "source": [
    "print(list(range(0,11)))"
   ]
  },
  {
   "cell_type": "code",
   "execution_count": 54,
   "id": "after-harassment",
   "metadata": {},
   "outputs": [
    {
     "name": "stdout",
     "output_type": "stream",
     "text": [
      "[1, 2, 3, 4, 5, 6, 7, 8, 9]\n"
     ]
    }
   ],
   "source": [
    "print(list(range(1,10)))"
   ]
  },
  {
   "cell_type": "code",
   "execution_count": 55,
   "id": "rocky-cathedral",
   "metadata": {},
   "outputs": [
    {
     "name": "stdout",
     "output_type": "stream",
     "text": [
      "[0, 2, 4, 6, 8]\n"
     ]
    }
   ],
   "source": [
    "print(list(range(0,10,2)))"
   ]
  },
  {
   "cell_type": "code",
   "execution_count": 32,
   "id": "equal-memphis",
   "metadata": {},
   "outputs": [
    {
     "data": {
      "text/plain": [
       "[0, 4, 8]"
      ]
     },
     "execution_count": 32,
     "metadata": {},
     "output_type": "execute_result"
    }
   ],
   "source": [
    "list(range(0,10,4))"
   ]
  },
  {
   "cell_type": "code",
   "execution_count": 26,
   "id": "korean-basic",
   "metadata": {},
   "outputs": [
    {
     "data": {
      "text/plain": [
       "range(0, 10)"
      ]
     },
     "execution_count": 26,
     "metadata": {},
     "output_type": "execute_result"
    }
   ],
   "source": [
    "range(10)\n",
    "'''\n",
    "range(10) creates an iterable object that represents a sequence of consecutive\n",
    "integer values starting from 0 and continuing up to, but not including, the argument\n",
    "value (10)\n",
    "'''"
   ]
  },
  {
   "cell_type": "code",
   "execution_count": 28,
   "id": "dated-bottom",
   "metadata": {
    "scrolled": false
   },
   "outputs": [
    {
     "name": "stdout",
     "output_type": "stream",
     "text": [
      "0\n",
      "1\n",
      "2\n",
      "3\n",
      "4\n",
      "5\n",
      "6\n",
      "7\n",
      "8\n",
      "9\n"
     ]
    }
   ],
   "source": [
    "for i in range(10):\n",
    "    print(i)"
   ]
  },
  {
   "cell_type": "code",
   "execution_count": 49,
   "id": "russian-arena",
   "metadata": {},
   "outputs": [
    {
     "name": "stdout",
     "output_type": "stream",
     "text": [
      "salam\n",
      "salam\n",
      "salam\n"
     ]
    }
   ],
   "source": [
    "for _ in range(3):\n",
    "    print('salam')"
   ]
  },
  {
   "cell_type": "markdown",
   "id": "electrical-sight",
   "metadata": {},
   "source": [
    "# Difference between break and continue"
   ]
  },
  {
   "cell_type": "code",
   "execution_count": 52,
   "id": "common-morocco",
   "metadata": {},
   "outputs": [
    {
     "name": "stdout",
     "output_type": "stream",
     "text": [
      "0\n",
      "1\n",
      "2\n",
      "3\n",
      "4\n",
      "6\n",
      "7\n",
      "8\n",
      "9\n"
     ]
    }
   ],
   "source": [
    "for i in range(10):\n",
    "    if i==5:\n",
    "        continue\n",
    "    print(i)"
   ]
  },
  {
   "cell_type": "code",
   "execution_count": 53,
   "id": "responsible-keyboard",
   "metadata": {},
   "outputs": [
    {
     "name": "stdout",
     "output_type": "stream",
     "text": [
      "i is 0 and t is 4\n",
      "i is 1 and t is 8\n",
      "i is 2 and t is 12\n",
      "i is 3 and t is 16\n",
      "i is 4 and t is 20\n"
     ]
    }
   ],
   "source": [
    "t=0\n",
    "\n",
    "for i in range(10):\n",
    "    if i==5:\n",
    "        break\n",
    "    t=t+4\n",
    "    print(f\"i is {i} and t is {t}\")"
   ]
  },
  {
   "cell_type": "code",
   "execution_count": 54,
   "id": "cleared-stopping",
   "metadata": {},
   "outputs": [
    {
     "name": "stdout",
     "output_type": "stream",
     "text": [
      "i is 0 and t is 4\n",
      "i is 1 and t is 8\n",
      "i is 2 and t is 12\n",
      "i is 3 and t is 16\n",
      "i is 4 and t is 20\n",
      "i is 6 and t is 24\n",
      "i is 7 and t is 28\n",
      "i is 8 and t is 32\n",
      "i is 9 and t is 36\n"
     ]
    }
   ],
   "source": [
    "t=0\n",
    "for i in range(10):\n",
    "    if i==5:\n",
    "        continue\n",
    "    t=t+4\n",
    "    print(f\"i is {i} and t is {t}\")"
   ]
  },
  {
   "cell_type": "markdown",
   "id": "constitutional-cambridge",
   "metadata": {},
   "source": [
    "# Nested Statements"
   ]
  },
  {
   "cell_type": "markdown",
   "id": "conventional-perth",
   "metadata": {},
   "source": [
    "برنامه ای بنویسید که 3 عدد را به وسیله ی حلقه دریافت کند و مشخص کند که این اعداد زوج هستند یا فرد\n"
   ]
  },
  {
   "cell_type": "code",
   "execution_count": 9,
   "id": "beneficial-check",
   "metadata": {},
   "outputs": [
    {
     "name": "stdout",
     "output_type": "stream",
     "text": [
      "enter an integer : 3\n",
      "number 3.0 is odd\n",
      "enter an integer : 2\n",
      "number 2.0 is even\n",
      "enter an integer : 1\n",
      "number 1.0 is odd\n"
     ]
    }
   ],
   "source": [
    "for _ in range(3):\n",
    "    x=float(input('enter an integer : '))\n",
    "    if x%2==0 :\n",
    "        print(f\"number {x} is even\")\n",
    "    else:\n",
    "        print(f\"number {x} is odd\")"
   ]
  },
  {
   "cell_type": "code",
   "execution_count": 10,
   "id": "altered-xerox",
   "metadata": {},
   "outputs": [
    {
     "name": "stdout",
     "output_type": "stream",
     "text": [
      "enter some number : 3\n",
      "odd\n",
      "enter some number : 2\n",
      "even\n",
      "enter some number : 1\n",
      "odd\n"
     ]
    }
   ],
   "source": [
    "n=3 \n",
    "while(n>0):\n",
    "    n=n-1\n",
    "    x=int(input('enter some number : '))\n",
    "    if x%2==0:\n",
    "        print('even')\n",
    "    else:\n",
    "        print('odd')"
   ]
  },
  {
   "cell_type": "markdown",
   "id": "after-poster",
   "metadata": {},
   "source": [
    "___"
   ]
  },
  {
   "cell_type": "code",
   "execution_count": 59,
   "id": "expressed-maple",
   "metadata": {},
   "outputs": [],
   "source": [
    "import statistics"
   ]
  },
  {
   "cell_type": "code",
   "execution_count": 60,
   "id": "verified-stability",
   "metadata": {},
   "outputs": [],
   "source": [
    "lst=[1,2,2,3,4,55,6,76,65,77,77,77,77,6,54]"
   ]
  },
  {
   "cell_type": "code",
   "execution_count": 61,
   "id": "formed-liver",
   "metadata": {},
   "outputs": [
    {
     "data": {
      "text/plain": [
       "15"
      ]
     },
     "execution_count": 61,
     "metadata": {},
     "output_type": "execute_result"
    }
   ],
   "source": [
    "len(lst)"
   ]
  },
  {
   "cell_type": "code",
   "execution_count": 42,
   "id": "supported-tokyo",
   "metadata": {},
   "outputs": [
    {
     "data": {
      "text/plain": [
       "38.8"
      ]
     },
     "execution_count": 42,
     "metadata": {},
     "output_type": "execute_result"
    }
   ],
   "source": [
    "lst=[1,2,2,3,4,55,6,76,65,77,77,77,77,6,54]\n",
    "\n",
    "sum(lst)/len(lst)"
   ]
  },
  {
   "cell_type": "code",
   "execution_count": 62,
   "id": "terminal-pastor",
   "metadata": {},
   "outputs": [
    {
     "data": {
      "text/plain": [
       "38.8"
      ]
     },
     "execution_count": 62,
     "metadata": {},
     "output_type": "execute_result"
    }
   ],
   "source": [
    "statistics.mean(lst)"
   ]
  },
  {
   "cell_type": "code",
   "execution_count": 63,
   "id": "turned-seller",
   "metadata": {},
   "outputs": [
    {
     "data": {
      "text/plain": [
       "77"
      ]
     },
     "execution_count": 63,
     "metadata": {},
     "output_type": "execute_result"
    }
   ],
   "source": [
    "statistics.mode(lst)"
   ]
  },
  {
   "cell_type": "code",
   "execution_count": 64,
   "id": "elementary-satisfaction",
   "metadata": {},
   "outputs": [
    {
     "data": {
      "text/plain": [
       "54"
      ]
     },
     "execution_count": 64,
     "metadata": {},
     "output_type": "execute_result"
    }
   ],
   "source": [
    "statistics.median(lst)"
   ]
  },
  {
   "cell_type": "markdown",
   "id": "designing-parking",
   "metadata": {},
   "source": [
    "____"
   ]
  },
  {
   "cell_type": "markdown",
   "id": "happy-being",
   "metadata": {},
   "source": [
    "# EXAMPLES"
   ]
  },
  {
   "cell_type": "markdown",
   "id": "cosmetic-alloy",
   "metadata": {},
   "source": [
    " جمله از سری فیبوناچی را تولید کند n برنامه ای بنویسید که تعداد \n",
    "    <br>\n",
    "    \n",
    "سری فیبوناچی : <br>\n",
    "1 1 2 3 5 8 13 21 , ..."
   ]
  },
  {
   "cell_type": "markdown",
   "id": "common-humidity",
   "metadata": {},
   "source": [
    "A1=1 <br>\n",
    "A2=1 <br>\n",
    "A3= A2+A1 <br>\n",
    ".<br>\n",
    ".<br>\n",
    ".<br>\n",
    "An=An-1  + An-2 "
   ]
  },
  {
   "cell_type": "code",
   "execution_count": 12,
   "id": "recorded-bryan",
   "metadata": {},
   "outputs": [
    {
     "name": "stdout",
     "output_type": "stream",
     "text": [
      "enter : 8\n",
      "1\n",
      "1\n",
      "2\n",
      "3\n",
      "5\n",
      "8\n",
      "13\n",
      "21\n"
     ]
    }
   ],
   "source": [
    "n=int(input('enter : '))\n",
    "\n",
    "a1=1\n",
    "a2=1\n",
    "if n==1:\n",
    "    print(a1)\n",
    "elif n==2:\n",
    "    print(a1)\n",
    "    print(a2)\n",
    "elif n<0:\n",
    "    print('you have entered an in valid value')\n",
    "    \n",
    "else:\n",
    "    print(a1)\n",
    "    print(a2)\n",
    "    for _ in range(3,n+1):\n",
    "        a3=a2+a1\n",
    "        print(a3)\n",
    "        a1=a2\n",
    "        a2=a3"
   ]
  },
  {
   "cell_type": "code",
   "execution_count": 7,
   "id": "seasonal-surgeon",
   "metadata": {},
   "outputs": [
    {
     "name": "stdout",
     "output_type": "stream",
     "text": [
      "enter the number of fibonacci numbers you desire :  7\n"
     ]
    }
   ],
   "source": [
    "n= int(input('enter the number of fibonacci numbers you desire :  '))"
   ]
  },
  {
   "cell_type": "code",
   "execution_count": 11,
   "id": "another-report",
   "metadata": {
    "scrolled": true
   },
   "outputs": [
    {
     "name": "stdout",
     "output_type": "stream",
     "text": [
      "1\n",
      "1\n"
     ]
    }
   ],
   "source": [
    "f1=1\n",
    "f2=1\n",
    "\n",
    "if n==1:\n",
    "    print(f1)\n",
    "\n",
    "elif n==2:\n",
    "    print(f1)\n",
    "    print(f2)\n",
    "    \n",
    "else:\n",
    "    print(f1)\n",
    "    print(f2)\n",
    "    i=3\n",
    "    while(i<=n):\n",
    "        f3=f1+ f2\n",
    "        print(f3)\n",
    "        f1=f2\n",
    "        f2=f3\n",
    "        i=i+1"
   ]
  },
  {
   "cell_type": "markdown",
   "id": "sunset-newton",
   "metadata": {},
   "source": [
    "___"
   ]
  },
  {
   "cell_type": "code",
   "execution_count": 68,
   "id": "valuable-roads",
   "metadata": {},
   "outputs": [],
   "source": [
    "n=[1,2,3]"
   ]
  },
  {
   "cell_type": "code",
   "execution_count": 69,
   "id": "obvious-instruction",
   "metadata": {},
   "outputs": [
    {
     "data": {
      "text/plain": [
       "[1, 2, 3, 4]"
      ]
     },
     "execution_count": 69,
     "metadata": {},
     "output_type": "execute_result"
    }
   ],
   "source": [
    "n.append(4)\n",
    "n"
   ]
  },
  {
   "cell_type": "code",
   "execution_count": 70,
   "id": "proud-selling",
   "metadata": {},
   "outputs": [
    {
     "data": {
      "text/plain": [
       "[1, 2, 3, 4, 'apple']"
      ]
     },
     "execution_count": 70,
     "metadata": {},
     "output_type": "execute_result"
    }
   ],
   "source": [
    "n.append('apple')\n",
    "n"
   ]
  },
  {
   "cell_type": "markdown",
   "id": "educated-queensland",
   "metadata": {},
   "source": [
    "برنامه ای بنویسید که از بین اعداد در بازه ی (1500,2700)آنان که همزمان بر 7 و 5 بخشپذیرند را چاپ کند"
   ]
  },
  {
   "cell_type": "code",
   "execution_count": 69,
   "id": "touched-netherlands",
   "metadata": {},
   "outputs": [
    {
     "name": "stdout",
     "output_type": "stream",
     "text": [
      "[1505, 1540, 1575, 1610, 1645, 1680, 1715, 1750, 1785, 1820, 1855, 1890, 1925, 1960, 1995, 2030, 2065, 2100, 2135, 2170, 2205, 2240, 2275, 2310, 2345, 2380, 2415, 2450, 2485, 2520, 2555, 2590, 2625, 2660, 2695]\n"
     ]
    }
   ],
   "source": [
    "n=[]\n",
    "\n",
    "for x in range(1500, 2701):\n",
    "    if (x%7==0) and (x%5==0):\n",
    "        n.append(x)\n",
    "print (n)"
   ]
  },
  {
   "cell_type": "code",
   "execution_count": 3,
   "id": "accredited-function",
   "metadata": {},
   "outputs": [
    {
     "name": "stdout",
     "output_type": "stream",
     "text": [
      "10737418.24\n"
     ]
    }
   ],
   "source": [
    "print( (0.01)* (2**30) )"
   ]
  },
  {
   "cell_type": "code",
   "execution_count": 4,
   "id": "contemporary-internet",
   "metadata": {},
   "outputs": [
    {
     "data": {
      "text/plain": [
       "1073741824"
      ]
     },
     "execution_count": 4,
     "metadata": {},
     "output_type": "execute_result"
    }
   ],
   "source": [
    "2**30"
   ]
  },
  {
   "cell_type": "code",
   "execution_count": 15,
   "id": "owned-internship",
   "metadata": {},
   "outputs": [
    {
     "data": {
      "text/plain": [
       "0"
      ]
     },
     "execution_count": 15,
     "metadata": {},
     "output_type": "execute_result"
    }
   ],
   "source": []
  },
  {
   "cell_type": "code",
   "execution_count": 38,
   "id": "reported-prayer",
   "metadata": {},
   "outputs": [
    {
     "name": "stdout",
     "output_type": "stream",
     "text": [
      "153\n",
      "370\n",
      "371\n",
      "407\n"
     ]
    }
   ],
   "source": [
    "for i in range(100,1000):\n",
    "    sum=0\n",
    "    r=i\n",
    "    while(r!=0):\n",
    "        sum+= (r%10)**3\n",
    "        r=r//10\n",
    "    \n",
    "    if sum==i:\n",
    "        print(i)"
   ]
  },
  {
   "cell_type": "code",
   "execution_count": 21,
   "id": "hearing-curve",
   "metadata": {},
   "outputs": [
    {
     "data": {
      "text/plain": [
       "0"
      ]
     },
     "execution_count": 21,
     "metadata": {},
     "output_type": "execute_result"
    }
   ],
   "source": [
    "100%10"
   ]
  },
  {
   "cell_type": "code",
   "execution_count": 35,
   "id": "several-ranch",
   "metadata": {},
   "outputs": [],
   "source": [
    "r=371\n",
    "sum=0\n",
    "while((r//10)!=0):\n",
    "    sum+= (r%10)**3\n",
    "    r=r//10\n",
    "if(sum==371):\n",
    "    print(sum)"
   ]
  },
  {
   "cell_type": "code",
   "execution_count": 34,
   "id": "generic-spending",
   "metadata": {},
   "outputs": [
    {
     "name": "stdout",
     "output_type": "stream",
     "text": [
      "True\n",
      "True\n",
      "False\n",
      "0 371\n"
     ]
    }
   ],
   "source": [
    "r=371\n",
    "sum=0\n",
    "print((r//10)!=0)\n",
    "sum=sum+(r%10)**3\n",
    "r=r//10\n",
    "\n",
    "print((r//10)!=0)\n",
    "sum=sum+(r%10)**3\n",
    "r=r//10\n",
    "\n",
    "print((r//10)!=0)\n",
    "sum=sum+(r%10)**3\n",
    "r=r//10\n",
    "\n",
    "print(r, sum)"
   ]
  },
  {
   "cell_type": "code",
   "execution_count": 32,
   "id": "material-castle",
   "metadata": {},
   "outputs": [
    {
     "data": {
      "text/plain": [
       "1"
      ]
     },
     "execution_count": 32,
     "metadata": {},
     "output_type": "execute_result"
    }
   ],
   "source": [
    "r=371\n",
    "sum=0\n",
    "r%10"
   ]
  },
  {
   "cell_type": "code",
   "execution_count": null,
   "id": "streaming-grounds",
   "metadata": {},
   "outputs": [],
   "source": []
  }
 ],
 "metadata": {
  "kernelspec": {
   "display_name": "Python 3",
   "language": "python",
   "name": "python3"
  },
  "language_info": {
   "codemirror_mode": {
    "name": "ipython",
    "version": 3
   },
   "file_extension": ".py",
   "mimetype": "text/x-python",
   "name": "python",
   "nbconvert_exporter": "python",
   "pygments_lexer": "ipython3",
   "version": "3.9.1"
  }
 },
 "nbformat": 4,
 "nbformat_minor": 5
}
