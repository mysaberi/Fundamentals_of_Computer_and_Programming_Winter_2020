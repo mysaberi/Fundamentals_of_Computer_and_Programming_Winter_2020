{
 "cells": [
  {
   "cell_type": "markdown",
   "metadata": {
    "id": "P837SRq1S0nI"
   },
   "source": [
    "# **Session 1**"
   ]
  },
  {
   "cell_type": "markdown",
   "metadata": {
    "id": "_-MVT032wKE3"
   },
   "source": [
    "## **pip**\n",
    "\n",
    "A package manager for Python packages. When we install pip, it is added to the system as a command line program which can be run from the command line"
   ]
  },
  {
   "cell_type": "code",
   "execution_count": null,
   "metadata": {
    "colab": {
     "base_uri": "https://localhost:8080/",
     "height": 346
    },
    "id": "en_vjfFLgriW",
    "outputId": "c69fb21f-4c79-436c-c385-cd9293bf205a"
   },
   "outputs": [
    {
     "name": "stdout",
     "output_type": "stream",
     "text": [
      "Collecting numpy==1.16.4\n",
      "  Downloading numpy-1.16.4-cp36-cp36m-manylinux1_x86_64.whl (17.3 MB)\n",
      "\u001b[K     |████████████████████████████████| 17.3 MB 1.2 MB/s \n",
      "\u001b[?25hInstalling collected packages: numpy\n",
      "  Attempting uninstall: numpy\n",
      "    Found existing installation: numpy 1.19.5\n",
      "    Uninstalling numpy-1.19.5:\n",
      "      Successfully uninstalled numpy-1.19.5\n",
      "\u001b[31mERROR: pip's dependency resolver does not currently take into account all the packages that are installed. This behaviour is the source of the following dependency conflicts.\n",
      "umap-learn 0.5.0 requires numpy>=1.17, but you have numpy 1.16.4 which is incompatible.\n",
      "tensorflow 2.4.1 requires numpy~=1.19.2, but you have numpy 1.16.4 which is incompatible.\n",
      "datascience 0.10.6 requires folium==0.2.1, but you have folium 0.8.3 which is incompatible.\u001b[0m\n",
      "Successfully installed numpy-1.16.4\n"
     ]
    },
    {
     "data": {
      "application/vnd.colab-display-data+json": {
       "pip_warning": {
        "packages": [
         "numpy"
        ]
       }
      }
     },
     "metadata": {
      "tags": []
     },
     "output_type": "display_data"
    }
   ],
   "source": [
    "pip install numpy==1.16.4\n"
   ]
  },
  {
   "cell_type": "code",
   "execution_count": null,
   "metadata": {
    "colab": {
     "base_uri": "https://localhost:8080/"
    },
    "id": "UJbymWWrT7gH",
    "outputId": "ca57cc66-6d0f-40c1-ae00-5c59e08f0a27"
   },
   "outputs": [
    {
     "name": "stdout",
     "output_type": "stream",
     "text": [
      "Found existing installation: numpy 1.16.4\n",
      "Uninstalling numpy-1.16.4:\n",
      "  Would remove:\n",
      "    /usr/local/bin/f2py\n",
      "    /usr/local/bin/f2py3\n",
      "    /usr/local/bin/f2py3.6\n",
      "    /usr/local/lib/python3.6/dist-packages/numpy-1.16.4.dist-info/*\n",
      "    /usr/local/lib/python3.6/dist-packages/numpy/*\n",
      "Proceed (y/n)? y\n",
      "  Successfully uninstalled numpy-1.16.4\n"
     ]
    }
   ],
   "source": [
    "!pip uninstall numpy"
   ]
  },
  {
   "cell_type": "code",
   "execution_count": null,
   "metadata": {
    "colab": {
     "base_uri": "https://localhost:8080/"
    },
    "id": "pQRfg7elhEtv",
    "outputId": "6b4dbea0-9eaa-4243-bc4f-fed1c83fc6a8"
   },
   "outputs": [
    {
     "name": "stdout",
     "output_type": "stream",
     "text": [
      "Collecting scipy\n",
      "  Using cached scipy-1.5.4-cp36-cp36m-manylinux1_x86_64.whl (25.9 MB)\n",
      "Requirement already satisfied: numpy>=1.14.5 in /usr/local/lib/python3.6/dist-packages (from scipy) (1.19.5)\n",
      "Installing collected packages: scipy\n",
      "Successfully installed scipy-1.5.4\n"
     ]
    }
   ],
   "source": [
    "!pip install scipy"
   ]
  },
  {
   "cell_type": "code",
   "execution_count": null,
   "metadata": {
    "colab": {
     "base_uri": "https://localhost:8080/"
    },
    "id": "Q-sRuHq5hEpA",
    "outputId": "457a45ce-e819-4b4a-9c6f-a160a0e6c0fa"
   },
   "outputs": [
    {
     "name": "stdout",
     "output_type": "stream",
     "text": [
      "Collecting scipy==1.4.1\n",
      "  Using cached scipy-1.4.1-cp36-cp36m-manylinux1_x86_64.whl (26.1 MB)\n",
      "Requirement already satisfied: numpy>=1.13.3 in /usr/local/lib/python3.6/dist-packages (from scipy==1.4.1) (1.19.5)\n",
      "Installing collected packages: scipy\n",
      "  Attempting uninstall: scipy\n",
      "    Found existing installation: scipy 1.5.4\n",
      "    Uninstalling scipy-1.5.4:\n",
      "      Successfully uninstalled scipy-1.5.4\n",
      "Successfully installed scipy-1.4.1\n"
     ]
    }
   ],
   "source": [
    "!pip install scipy==1.4.1"
   ]
  },
  {
   "cell_type": "code",
   "execution_count": null,
   "metadata": {
    "colab": {
     "base_uri": "https://localhost:8080/"
    },
    "id": "pCp0ZDFYhEjv",
    "outputId": "32bce3ac-68d9-4e70-e30f-b4928dfd25ef"
   },
   "outputs": [
    {
     "name": "stdout",
     "output_type": "stream",
     "text": [
      "Name: tensorflow\n",
      "Version: 2.4.1\n",
      "Summary: TensorFlow is an open source machine learning framework for everyone.\n",
      "Home-page: https://www.tensorflow.org/\n",
      "Author: Google Inc.\n",
      "Author-email: packages@tensorflow.org\n",
      "License: Apache 2.0\n",
      "Location: /usr/local/lib/python3.6/dist-packages\n",
      "Requires: wheel, opt-einsum, astunparse, google-pasta, protobuf, termcolor, tensorflow-estimator, h5py, gast, tensorboard, typing-extensions, flatbuffers, grpcio, keras-preprocessing, numpy, wrapt, absl-py, six\n",
      "Required-by: fancyimpute\n"
     ]
    }
   ],
   "source": [
    "pip show tensorflow"
   ]
  },
  {
   "cell_type": "code",
   "execution_count": null,
   "metadata": {
    "colab": {
     "base_uri": "https://localhost:8080/"
    },
    "id": "EVFKv4NdhEeA",
    "outputId": "6db798ad-966d-4d07-f181-4397dde29730"
   },
   "outputs": [
    {
     "name": "stdout",
     "output_type": "stream",
     "text": [
      "Package                       Version        Latest       Type\n",
      "----------------------------- -------------- ------------ -----\n",
      "absl-py                       0.10.0         0.11.0       wheel\n",
      "albumentations                0.1.12         0.5.2        wheel\n",
      "beautifulsoup4                4.6.3          4.9.3        wheel\n",
      "blis                          0.4.1          0.7.4        wheel\n",
      "bokeh                         2.1.1          2.2.3        sdist\n",
      "catalogue                     1.0.0          2.0.1        wheel\n",
      "cffi                          1.14.4         1.14.5       wheel\n",
      "chainer                       7.4.0          7.7.0        sdist\n",
      "chardet                       3.0.4          4.0.0        wheel\n",
      "cloudpickle                   1.3.0          1.6.0        wheel\n",
      "cmake                         3.12.0         3.18.4.post1 wheel\n",
      "cmdstanpy                     0.9.5          0.9.68       wheel\n",
      "contextlib2                   0.5.5          0.6.0.post1  wheel\n",
      "coverage                      3.7.1          5.4          wheel\n",
      "coveralls                     0.5            3.0.0        wheel\n",
      "cvxpy                         1.0.31         1.1.10       sdist\n",
      "daft                          0.0.4          0.1.0        sdist\n",
      "dask                          2.12.0         2021.2.0     wheel\n",
      "datascience                   0.10.6         0.17.0       sdist\n",
      "debugpy                       1.0.0          1.2.1        wheel\n",
      "distributed                   1.25.3         2021.2.0     wheel\n",
      "dlib                          19.18.0        19.21.1      sdist\n",
      "dopamine-rl                   1.0.5          3.1.9        wheel\n",
      "earthengine-api               0.1.238        0.1.251      sdist\n",
      "fancyimpute                   0.4.3          0.5.5        sdist\n",
      "fastai                        1.0.61         2.2.5        wheel\n",
      "firebase-admin                4.4.0          4.5.1        wheel\n",
      "fix-yahoo-finance             0.0.22         0.1.37       sdist\n",
      "folium                        0.8.3          0.12.1       wheel\n",
      "future                        0.16.0         0.18.2       sdist\n",
      "gast                          0.3.3          0.4.0        wheel\n",
      "GDAL                          2.2.2          3.2.1        sdist\n",
      "gdown                         3.6.4          3.12.2       sdist\n",
      "gensim                        3.6.0          3.8.3        wheel\n",
      "geopy                         1.17.0         2.1.0        wheel\n",
      "google                        2.0.3          3.0.0        wheel\n",
      "google-api-core               1.16.0         1.26.0       wheel\n",
      "google-api-python-client      1.7.12         1.12.8       wheel\n",
      "google-auth                   1.25.0         1.26.1       wheel\n",
      "google-cloud-bigquery         1.21.0         2.8.0        wheel\n",
      "google-cloud-bigquery-storage 1.1.0          2.2.1        wheel\n",
      "google-cloud-core             1.0.3          1.6.0        wheel\n",
      "google-cloud-datastore        1.8.0          2.1.0        wheel\n",
      "google-cloud-firestore        1.7.0          2.0.2        wheel\n",
      "google-cloud-language         1.2.0          2.0.0        wheel\n",
      "google-cloud-storage          1.18.1         1.36.0       wheel\n",
      "google-cloud-translate        1.5.0          3.0.2        wheel\n",
      "google-resumable-media        0.4.1          1.2.0        wheel\n",
      "graphviz                      0.10.1         0.16         wheel\n",
      "grpcio                        1.32.0         1.35.0       wheel\n",
      "gspread                       3.0.1          3.6.0        wheel\n",
      "gspread-dataframe             3.0.8          3.2.1        wheel\n",
      "gym                           0.17.3         0.18.0       sdist\n",
      "h5py                          2.10.0         3.1.0        wheel\n",
      "holoviews                     1.13.5         1.14.1       wheel\n",
      "html5lib                      1.0.1          1.1          wheel\n",
      "httpimport                    0.5.18         0.7.2        wheel\n",
      "httplib2                      0.17.4         0.19.0       wheel\n",
      "humanize                      0.5.1          3.2.0        wheel\n",
      "hyperopt                      0.1.2          0.2.5        wheel\n",
      "idna                          2.10           3.1          wheel\n",
      "imageio                       2.4.1          2.9.0        wheel\n",
      "imbalanced-learn              0.4.3          0.7.0        wheel\n",
      "imgaug                        0.2.5          0.4.0        wheel\n",
      "inflect                       2.1.0          5.0.2        wheel\n",
      "intervaltree                  2.1.0          3.1.0        sdist\n",
      "ipykernel                     4.10.1         5.4.3        wheel\n",
      "ipython                       5.5.0          7.16.1       wheel\n",
      "ipython-sql                   0.3.9          0.4.0        wheel\n",
      "jaxlib                        0.1.60+cuda101 0.1.61       wheel\n",
      "joblib                        1.0.0          1.0.1        wheel\n",
      "jsonschema                    2.6.0          3.2.0        wheel\n",
      "jupyter-client                5.3.5          6.1.11       wheel\n",
      "jupyter-console               5.2.0          6.2.0        wheel\n",
      "kapre                         0.1.3.1        0.3.4        sdist\n",
      "lightgbm                      2.2.3          3.1.1        wheel\n",
      "llvmlite                      0.34.0         0.35.0       wheel\n",
      "lmdb                          0.99           1.1.1        wheel\n",
      "lxml                          4.2.6          4.6.2        wheel\n",
      "matplotlib                    3.2.2          3.3.4        wheel\n",
      "mizani                        0.6.0          0.7.2        wheel\n",
      "mkl                           2019.0         2021.1.1     wheel\n",
      "mlxtend                       0.14.0         0.18.0       wheel\n",
      "moviepy                       0.2.3.5        1.0.3        sdist\n",
      "mpmath                        1.1.0          1.2.1        wheel\n",
      "music21                       5.5.0          6.7.0        sdist\n",
      "natsort                       5.5.0          7.1.1        wheel\n",
      "nbconvert                     5.6.1          6.0.7        wheel\n",
      "nibabel                       3.0.2          3.2.1        wheel\n",
      "nltk                          3.2.5          3.5          sdist\n",
      "notebook                      5.3.1          6.2.0        wheel\n",
      "numba                         0.51.2         0.52.0       wheel\n",
      "opencv-contrib-python         4.1.2.30       4.5.1.48     wheel\n",
      "opencv-python                 4.1.2.30       4.5.1.48     wheel\n",
      "openpyxl                      2.5.9          3.0.6        wheel\n",
      "pandas-gbq                    0.13.3         0.14.1       wheel\n",
      "pandas-profiling              1.4.1          2.10.1       wheel\n",
      "panel                         0.9.7          0.10.3       wheel\n",
      "Pillow                        7.0.0          8.1.0        wheel\n",
      "pip-tools                     4.5.1          5.5.0        wheel\n",
      "plac                          1.1.3          1.3.2        wheel\n",
      "plotly                        4.4.1          4.14.3       wheel\n",
      "plotnine                      0.6.0          0.7.1        wheel\n",
      "pluggy                        0.7.1          0.13.1       wheel\n",
      "progressbar2                  3.38.0         3.53.1       wheel\n",
      "prompt-toolkit                1.0.18         3.0.16       wheel\n",
      "protobuf                      3.12.4         3.14.0       wheel\n",
      "psutil                        5.4.8          5.8.0        wheel\n",
      "psycopg2                      2.7.6.1        2.8.6        sdist\n",
      "pyarrow                       0.14.1         3.0.0        wheel\n",
      "pydot                         1.3.0          1.4.2        wheel\n",
      "pyglet                        1.5.0          1.5.15       wheel\n",
      "Pygments                      2.6.1          2.8.0        wheel\n",
      "pygobject                     3.26.1         3.38.0       sdist\n",
      "pymc3                         3.7            3.10.0       wheel\n",
      "PyMeeus                       0.3.7          0.3.9        sdist\n",
      "pynndescent                   0.5.1          0.5.2        sdist\n",
      "pysndfile                     1.3.8          1.4.3        sdist\n",
      "pytest                        3.6.4          6.2.2        wheel\n",
      "python-chess                  0.23.11        1.999        wheel\n",
      "pytz                          2018.9         2021.1       wheel\n",
      "PyYAML                        3.13           5.4.1        wheel\n",
      "pyzmq                         22.0.2         22.0.3       wheel\n",
      "regex                         2019.12.20     2020.11.13   wheel\n",
      "requests                      2.23.0         2.25.1       wheel\n",
      "rpy2                          3.2.7          3.4.2        sdist\n",
      "rsa                           4.7            4.7.1        wheel\n",
      "scikit-image                  0.16.2         0.17.2       wheel\n",
      "scikit-learn                  0.22.2.post1   0.24.1       wheel\n",
      "scipy                         1.4.1          1.5.4        wheel\n",
      "sklearn-pandas                1.8.0          2.0.4        wheel\n",
      "smart-open                    4.1.2          4.2.0        sdist\n",
      "spacy                         2.2.4          3.0.3        wheel\n",
      "Sphinx                        1.8.5          3.5.1        wheel\n",
      "srsly                         1.0.5          2.4.0        wheel\n",
      "statsmodels                   0.10.2         0.12.2       wheel\n",
      "sympy                         1.1.1          1.7.1        wheel\n",
      "tables                        3.4.4          3.6.1        wheel\n",
      "tensorflow-datasets           4.0.1          4.2.0        wheel\n",
      "textgenrnn                    1.4.1          2.0.0        sdist\n",
      "thinc                         7.4.0          8.0.1        wheel\n",
      "torch                         1.7.0+cu101    1.7.1        wheel\n",
      "torchtext                     0.3.1          0.8.1        wheel\n",
      "torchvision                   0.8.1+cu101    0.8.2        wheel\n",
      "tornado                       5.1.1          6.1          wheel\n",
      "tqdm                          4.41.1         4.56.2       wheel\n",
      "tweepy                        3.6.0          3.10.0       wheel\n",
      "typeguard                     2.7.1          2.11.1       wheel\n",
      "tzlocal                       1.5.1          2.1          wheel\n",
      "umap-learn                    0.5.0          0.5.1        sdist\n",
      "urllib3                       1.24.3         1.26.3       wheel\n",
      "wordcloud                     1.5.0          1.8.1        wheel\n",
      "xarray                        0.15.1         0.16.2       wheel\n",
      "xgboost                       0.90           1.3.3        wheel\n",
      "yellowbrick                   0.9.1          1.3.post1    wheel\n"
     ]
    }
   ],
   "source": [
    "!pip list -o"
   ]
  },
  {
   "cell_type": "code",
   "execution_count": null,
   "metadata": {
    "colab": {
     "base_uri": "https://localhost:8080/"
    },
    "id": "NuN6vYzMijFC",
    "outputId": "4ab18d8d-9f6b-446d-ad5b-37cc7f3bc178"
   },
   "outputs": [
    {
     "name": "stdout",
     "output_type": "stream",
     "text": [
      "Collecting xlrd==2.0.1\n",
      "  Downloading xlrd-2.0.1-py2.py3-none-any.whl (96 kB)\n",
      "\u001b[?25l\r",
      "\u001b[K     |███▍                            | 10 kB 25.5 MB/s eta 0:00:01\r",
      "\u001b[K     |██████▉                         | 20 kB 31.9 MB/s eta 0:00:01\r",
      "\u001b[K     |██████████▏                     | 30 kB 13.0 MB/s eta 0:00:01\r",
      "\u001b[K     |█████████████▋                  | 40 kB 10.3 MB/s eta 0:00:01\r",
      "\u001b[K     |█████████████████               | 51 kB 8.4 MB/s eta 0:00:01\r",
      "\u001b[K     |████████████████████▍           | 61 kB 7.1 MB/s eta 0:00:01\r",
      "\u001b[K     |███████████████████████▊        | 71 kB 8.0 MB/s eta 0:00:01\r",
      "\u001b[K     |███████████████████████████▏    | 81 kB 8.9 MB/s eta 0:00:01\r",
      "\u001b[K     |██████████████████████████████▌ | 92 kB 8.8 MB/s eta 0:00:01\r",
      "\u001b[K     |████████████████████████████████| 96 kB 3.0 MB/s \n",
      "\u001b[?25hInstalling collected packages: xlrd\n",
      "  Attempting uninstall: xlrd\n",
      "    Found existing installation: xlrd 1.1.0\n",
      "    Uninstalling xlrd-1.1.0:\n",
      "      Successfully uninstalled xlrd-1.1.0\n",
      "Successfully installed xlrd-2.0.1\n"
     ]
    }
   ],
   "source": [
    "pip install xlrd==2.0.1"
   ]
  },
  {
   "cell_type": "code",
   "execution_count": null,
   "metadata": {
    "colab": {
     "base_uri": "https://localhost:8080/"
    },
    "id": "McEPcHxfVqzu",
    "outputId": "bbf3cefe-25b4-445f-9f46-a9f5c161fec2"
   },
   "outputs": [
    {
     "name": "stdout",
     "output_type": "stream",
     "text": [
      "Package                       Version\n",
      "----------------------------- ------------\n",
      "alabaster                     0.7.12\n",
      "altair                        4.1.0\n",
      "appdirs                       1.4.4\n",
      "argon2-cffi                   20.1.0\n",
      "asgiref                       3.3.1\n",
      "astor                         0.8.1\n",
      "astropy                       4.1\n",
      "astunparse                    1.6.3\n",
      "async-generator               1.10\n",
      "atari-py                      0.2.6\n",
      "atomicwrites                  1.4.0\n",
      "attrs                         20.3.0\n",
      "audioread                     2.1.9\n",
      "autograd                      1.3\n",
      "Babel                         2.9.0\n",
      "backcall                      0.2.0\n",
      "bleach                        3.3.0\n",
      "Bottleneck                    1.3.2\n",
      "branca                        0.4.2\n",
      "bs4                           0.0.1\n",
      "CacheControl                  0.12.6\n",
      "cachetools                    4.2.1\n",
      "certifi                       2020.12.5\n",
      "click                         7.1.2\n",
      "colorlover                    0.3.0\n",
      "convertdate                   2.3.0\n",
      "crcmod                        1.7\n",
      "cufflinks                     0.17.3\n",
      "cvxopt                        1.2.5\n",
      "cycler                        0.10.0\n",
      "cymem                         2.0.5\n",
      "Cython                        0.29.21\n",
      "dataclasses                   0.8\n",
      "decorator                     4.4.2\n",
      "defusedxml                    0.6.0\n",
      "descartes                     1.1.0\n",
      "dill                          0.3.3\n",
      "Django                        3.1.6\n",
      "dm-tree                       0.1.5\n",
      "docopt                        0.6.2\n",
      "docutils                      0.16\n",
      "easydict                      1.9\n",
      "ecos                          2.0.7.post1\n",
      "editdistance                  0.5.3\n",
      "entrypoints                   0.3\n",
      "ephem                         3.7.7.1\n",
      "et-xmlfile                    1.0.1\n",
      "fa2                           0.3.5\n",
      "fastdtw                       0.3.4\n",
      "fastprogress                  1.0.0\n",
      "fastrlock                     0.5\n",
      "fbprophet                     0.7.1\n",
      "feather-format                0.4.1\n",
      "filelock                      3.0.12\n",
      "Flask                         1.1.2\n",
      "flatbuffers                   1.12\n",
      "geographiclib                 1.50\n",
      "gin-config                    0.4.0\n",
      "glob2                         0.7\n",
      "google-auth-httplib2          0.0.4\n",
      "google-auth-oauthlib          0.4.2\n",
      "google-colab                  1.0.0\n",
      "google-pasta                  0.2.0\n",
      "googleapis-common-protos      1.52.0\n",
      "googledrivedownloader         0.4\n",
      "HeapDict                      1.0.1\n",
      "hijri-converter               2.1.1\n",
      "holidays                      0.10.5.2\n",
      "httplib2shim                  0.0.3\n",
      "ideep4py                      2.0.0.post3\n",
      "image                         1.5.33\n",
      "imagesize                     1.2.0\n",
      "imblearn                      0.0\n",
      "importlib-metadata            3.4.0\n",
      "importlib-resources           5.1.0\n",
      "imutils                       0.5.4\n",
      "iniconfig                     1.1.1\n",
      "intel-openmp                  2021.1.2\n",
      "ipython-genutils              0.2.0\n",
      "ipywidgets                    7.6.3\n",
      "itsdangerous                  1.1.0\n",
      "jax                           0.2.9\n",
      "jdcal                         1.4.1\n",
      "jedi                          0.18.0\n",
      "jieba                         0.42.1\n",
      "Jinja2                        2.11.3\n",
      "jpeg4py                       0.1.4\n",
      "jupyter                       1.0.0\n",
      "jupyter-core                  4.7.1\n",
      "jupyterlab-pygments           0.1.2\n",
      "jupyterlab-widgets            1.0.0\n",
      "kaggle                        1.5.10\n",
      "Keras                         2.4.3\n",
      "Keras-Preprocessing           1.1.2\n",
      "keras-vis                     0.4.1\n",
      "kiwisolver                    1.3.1\n",
      "knnimpute                     0.1.0\n",
      "korean-lunar-calendar         0.2.1\n",
      "librosa                       0.8.0\n",
      "lucid                         0.3.8\n",
      "LunarCalendar                 0.0.9\n",
      "Markdown                      3.3.3\n",
      "MarkupSafe                    1.1.1\n",
      "matplotlib-venn               0.11.6\n",
      "missingno                     0.4.2\n",
      "mistune                       0.8.4\n",
      "more-itertools                8.7.0\n",
      "msgpack                       1.0.2\n",
      "multiprocess                  0.70.11.1\n",
      "multitasking                  0.0.9\n",
      "murmurhash                    1.0.5\n",
      "nbclient                      0.5.2\n",
      "nbformat                      5.1.2\n",
      "nest-asyncio                  1.5.1\n",
      "networkx                      2.5\n",
      "np-utils                      0.5.12.1\n",
      "numexpr                       2.7.2\n",
      "nvidia-ml-py3                 7.352.0\n",
      "oauth2client                  4.1.3\n",
      "oauthlib                      3.1.0\n",
      "okgrade                       0.4.3\n",
      "opt-einsum                    3.3.0\n",
      "osqp                          0.6.2.post0\n",
      "packaging                     20.9\n",
      "palettable                    3.3.0\n",
      "pandas                        1.1.5\n",
      "pandas-datareader             0.9.0\n",
      "pandocfilters                 1.4.3\n",
      "param                         1.10.1\n",
      "parso                         0.8.1\n",
      "pathlib                       1.0.1\n",
      "patsy                         0.5.1\n",
      "pexpect                       4.8.0\n",
      "pickleshare                   0.7.5\n",
      "pip                           21.0.1\n",
      "pooch                         1.3.0\n",
      "portpicker                    1.3.1\n",
      "prefetch-generator            1.0.1\n",
      "preshed                       3.0.5\n",
      "prettytable                   2.0.0\n",
      "prometheus-client             0.9.0\n",
      "promise                       2.3\n",
      "ptyprocess                    0.7.0\n",
      "py                            1.10.0\n",
      "pyasn1                        0.4.8\n",
      "pyasn1-modules                0.2.8\n",
      "pycocotools                   2.0.2\n",
      "pycparser                     2.20\n",
      "pyct                          0.4.8\n",
      "pydata-google-auth            1.1.0\n",
      "pydot-ng                      2.0.0\n",
      "pydotplus                     2.0.2\n",
      "PyDrive                       1.3.1\n",
      "pyemd                         0.5.1\n",
      "pymongo                       3.11.3\n",
      "pymystem3                     0.2.0\n",
      "PyOpenGL                      3.1.5\n",
      "pyparsing                     2.4.7\n",
      "pyrsistent                    0.17.3\n",
      "PySocks                       1.7.1\n",
      "pystan                        2.19.1.1\n",
      "python-dateutil               2.8.1\n",
      "python-louvain                0.15\n",
      "python-slugify                4.0.1\n",
      "python-utils                  2.5.6\n",
      "pyviz-comms                   2.0.1\n",
      "PyWavelets                    1.1.1\n",
      "qdldl                         0.1.5.post0\n",
      "qtconsole                     5.0.2\n",
      "QtPy                          1.9.0\n",
      "requests-oauthlib             1.3.0\n",
      "resampy                       0.2.2\n",
      "retrying                      1.3.3\n",
      "scs                           2.1.2\n",
      "seaborn                       0.11.1\n",
      "Send2Trash                    1.5.0\n",
      "setuptools                    53.0.0\n",
      "setuptools-git                1.2\n",
      "Shapely                       1.7.1\n",
      "simplegeneric                 0.8.1\n",
      "six                           1.15.0\n",
      "sklearn                       0.0\n",
      "snowballstemmer               2.1.0\n",
      "sortedcontainers              2.3.0\n",
      "SoundFile                     0.10.3.post1\n",
      "sphinxcontrib-serializinghtml 1.1.4\n",
      "sphinxcontrib-websupport      1.2.4\n",
      "SQLAlchemy                    1.3.23\n",
      "sqlparse                      0.4.1\n",
      "tabulate                      0.8.7\n",
      "tblib                         1.7.0\n",
      "tensorboard                   2.4.1\n",
      "tensorboard-plugin-wit        1.8.0\n",
      "tensorflow                    2.4.1\n",
      "tensorflow-estimator          2.4.0\n",
      "tensorflow-gcs-config         2.4.0\n",
      "tensorflow-hub                0.11.0\n",
      "tensorflow-metadata           0.27.0\n",
      "tensorflow-probability        0.12.1\n",
      "termcolor                     1.1.0\n",
      "terminado                     0.9.2\n",
      "testpath                      0.4.4\n",
      "text-unidecode                1.3\n",
      "textblob                      0.15.3\n",
      "Theano                        1.0.5\n",
      "tifffile                      2020.9.3\n",
      "toml                          0.10.2\n",
      "toolz                         0.11.1\n",
      "torchsummary                  1.5.1\n",
      "traitlets                     4.3.3\n",
      "typing-extensions             3.7.4.3\n",
      "uritemplate                   3.0.1\n",
      "vega-datasets                 0.9.0\n",
      "wasabi                        0.8.2\n",
      "wcwidth                       0.2.5\n",
      "webencodings                  0.5.1\n",
      "Werkzeug                      1.0.1\n",
      "wheel                         0.36.2\n",
      "widgetsnbextension            3.5.1\n",
      "wrapt                         1.12.1\n",
      "xlrd                          2.0.1\n",
      "xlwt                          1.3.0\n",
      "zict                          2.0.0\n",
      "zipp                          3.4.0\n"
     ]
    }
   ],
   "source": [
    "pip list -u"
   ]
  },
  {
   "cell_type": "code",
   "execution_count": null,
   "metadata": {
    "colab": {
     "base_uri": "https://localhost:8080/"
    },
    "id": "u4_DZQd_Vqgp",
    "outputId": "0f587341-8e4d-4995-99b4-f40fe8d73fe1"
   },
   "outputs": [
    {
     "name": "stdout",
     "output_type": "stream",
     "text": [
      "nbclient 0.5.2 has requirement jupyter-client>=6.1.5, but you have jupyter-client 5.3.5.\n",
      "datascience 0.10.6 has requirement folium==0.2.1, but you have folium 0.8.3.\n",
      "albumentations 0.1.12 has requirement imgaug<0.2.7,>=0.2.5, but you have imgaug 0.2.9.\n"
     ]
    }
   ],
   "source": [
    "pip check"
   ]
  },
  {
   "cell_type": "code",
   "execution_count": null,
   "metadata": {
    "colab": {
     "base_uri": "https://localhost:8080/",
     "height": 493
    },
    "id": "0J59lH06XmiJ",
    "outputId": "ca1389d8-8e4d-461b-bd7d-ac3d65f69a0a"
   },
   "outputs": [
    {
     "name": "stdout",
     "output_type": "stream",
     "text": [
      "Requirement already satisfied: imgaug==0.2.5 in /usr/local/lib/python3.6/dist-packages (0.2.5)\n",
      "Requirement already satisfied: six in /usr/local/lib/python3.6/dist-packages (from imgaug==0.2.5) (1.15.0)\n",
      "Requirement already satisfied: scikit-image>=0.11.0 in /usr/local/lib/python3.6/dist-packages (from imgaug==0.2.5) (0.16.2)\n",
      "Requirement already satisfied: scipy in /usr/local/lib/python3.6/dist-packages (from imgaug==0.2.5) (1.4.1)\n",
      "Collecting numpy>=1.7.0\n",
      "  Downloading numpy-1.19.5-cp36-cp36m-manylinux2010_x86_64.whl (14.8 MB)\n",
      "\u001b[K     |████████████████████████████████| 14.8 MB 274 kB/s \n",
      "\u001b[?25hRequirement already satisfied: imageio>=2.3.0 in /usr/local/lib/python3.6/dist-packages (from scikit-image>=0.11.0->imgaug==0.2.5) (2.4.1)\n",
      "Requirement already satisfied: pillow>=4.3.0 in /usr/local/lib/python3.6/dist-packages (from scikit-image>=0.11.0->imgaug==0.2.5) (7.0.0)\n",
      "Requirement already satisfied: PyWavelets>=0.4.0 in /usr/local/lib/python3.6/dist-packages (from scikit-image>=0.11.0->imgaug==0.2.5) (1.1.1)\n",
      "Requirement already satisfied: networkx>=2.0 in /usr/local/lib/python3.6/dist-packages (from scikit-image>=0.11.0->imgaug==0.2.5) (2.5)\n",
      "Requirement already satisfied: matplotlib!=3.0.0,>=2.0.0 in /usr/local/lib/python3.6/dist-packages (from scikit-image>=0.11.0->imgaug==0.2.5) (3.2.2)\n",
      "Requirement already satisfied: pyparsing!=2.0.4,!=2.1.2,!=2.1.6,>=2.0.1 in /usr/local/lib/python3.6/dist-packages (from matplotlib!=3.0.0,>=2.0.0->scikit-image>=0.11.0->imgaug==0.2.5) (2.4.7)\n",
      "Requirement already satisfied: kiwisolver>=1.0.1 in /usr/local/lib/python3.6/dist-packages (from matplotlib!=3.0.0,>=2.0.0->scikit-image>=0.11.0->imgaug==0.2.5) (1.3.1)\n",
      "Requirement already satisfied: cycler>=0.10 in /usr/local/lib/python3.6/dist-packages (from matplotlib!=3.0.0,>=2.0.0->scikit-image>=0.11.0->imgaug==0.2.5) (0.10.0)\n",
      "Requirement already satisfied: python-dateutil>=2.1 in /usr/local/lib/python3.6/dist-packages (from matplotlib!=3.0.0,>=2.0.0->scikit-image>=0.11.0->imgaug==0.2.5) (2.8.1)\n",
      "Requirement already satisfied: decorator>=4.3.0 in /usr/local/lib/python3.6/dist-packages (from networkx>=2.0->scikit-image>=0.11.0->imgaug==0.2.5) (4.4.2)\n",
      "Installing collected packages: numpy\n",
      "\u001b[31mERROR: pip's dependency resolver does not currently take into account all the packages that are installed. This behaviour is the source of the following dependency conflicts.\n",
      "datascience 0.10.6 requires folium==0.2.1, but you have folium 0.8.3 which is incompatible.\u001b[0m\n",
      "Successfully installed numpy-1.19.5\n"
     ]
    },
    {
     "data": {
      "application/vnd.colab-display-data+json": {
       "pip_warning": {
        "packages": [
         "numpy"
        ]
       }
      }
     },
     "metadata": {
      "tags": []
     },
     "output_type": "display_data"
    }
   ],
   "source": [
    "pip install imgaug==0.2.5"
   ]
  },
  {
   "cell_type": "code",
   "execution_count": null,
   "metadata": {
    "colab": {
     "base_uri": "https://localhost:8080/"
    },
    "id": "Mee_e7YbXrm8",
    "outputId": "ab70519f-31ab-4a84-c733-340c33c6f467"
   },
   "outputs": [
    {
     "name": "stdout",
     "output_type": "stream",
     "text": [
      "nbclient 0.5.2 has requirement jupyter-client>=6.1.5, but you have jupyter-client 5.3.5.\n",
      "datascience 0.10.6 has requirement folium==0.2.1, but you have folium 0.8.3.\n"
     ]
    }
   ],
   "source": [
    "pip check"
   ]
  },
  {
   "cell_type": "code",
   "execution_count": null,
   "metadata": {
    "id": "vtjFN6wvXxIp"
   },
   "outputs": [],
   "source": [
    "pip install --upgrade pip\n",
    "#alternative\n",
    "#pip install pip==21.0.1"
   ]
  },
  {
   "cell_type": "code",
   "execution_count": null,
   "metadata": {
    "colab": {
     "base_uri": "https://localhost:8080/"
    },
    "id": "mF5Q7DTIYHig",
    "outputId": "814470a1-69f2-413c-bd84-d1e8277c912d"
   },
   "outputs": [
    {
     "name": "stdout",
     "output_type": "stream",
     "text": [
      "pip 21.0.1 from /usr/local/lib/python3.6/dist-packages/pip (python 3.6)\n"
     ]
    }
   ],
   "source": [
    "!pip --version"
   ]
  },
  {
   "cell_type": "code",
   "execution_count": null,
   "metadata": {
    "colab": {
     "base_uri": "https://localhost:8080/"
    },
    "id": "brPAW7V-YLzK",
    "outputId": "2fabe15d-8e22-409b-b725-f55d8be3f8af"
   },
   "outputs": [
    {
     "name": "stdout",
     "output_type": "stream",
     "text": [
      "Python 3.6.9\n"
     ]
    }
   ],
   "source": [
    "!python --version #can not be run without exclamation mark"
   ]
  },
  {
   "cell_type": "code",
   "execution_count": null,
   "metadata": {
    "colab": {
     "base_uri": "https://localhost:8080/",
     "height": 36
    },
    "id": "Un0ROWfLYy1G",
    "outputId": "e9e0046b-ffef-4d04-eaed-045100c178f4"
   },
   "outputs": [
    {
     "data": {
      "application/vnd.google.colaboratory.intrinsic+json": {
       "type": "string"
      },
      "text/plain": [
       "'1.19.5'"
      ]
     },
     "execution_count": 20,
     "metadata": {
      "tags": []
     },
     "output_type": "execute_result"
    }
   ],
   "source": [
    "import numpy as np\n",
    "\n",
    "np.__version__"
   ]
  },
  {
   "cell_type": "markdown",
   "metadata": {
    "id": "0QoMM8VNaC-d"
   },
   "source": [
    "___________"
   ]
  },
  {
   "cell_type": "code",
   "execution_count": null,
   "metadata": {
    "colab": {
     "base_uri": "https://localhost:8080/",
     "height": 54
    },
    "id": "RZCP_Vu9x0K6",
    "outputId": "8958a57b-a5c8-4d11-fbfb-f0570f45dd14"
   },
   "outputs": [
    {
     "name": "stdout",
     "output_type": "stream",
     "text": [
      "please enter something : 57567\n"
     ]
    },
    {
     "data": {
      "application/vnd.google.colaboratory.intrinsic+json": {
       "type": "string"
      },
      "text/plain": [
       "'57567'"
      ]
     },
     "execution_count": 65,
     "metadata": {
      "tags": []
     },
     "output_type": "execute_result"
    }
   ],
   "source": [
    "input(\"please enter something : \")"
   ]
  },
  {
   "cell_type": "code",
   "execution_count": null,
   "metadata": {
    "colab": {
     "base_uri": "https://localhost:8080/"
    },
    "id": "V8QtTzzWWFtv",
    "outputId": "fcae8a0e-9ec0-44ce-d520-4cd6752e7fea"
   },
   "outputs": [
    {
     "name": "stdout",
     "output_type": "stream",
     "text": [
      "546\n"
     ]
    },
    {
     "data": {
      "text/plain": [
       "str"
      ]
     },
     "execution_count": 60,
     "metadata": {
      "tags": []
     },
     "output_type": "execute_result"
    }
   ],
   "source": [
    "type(input())"
   ]
  },
  {
   "cell_type": "code",
   "execution_count": null,
   "metadata": {
    "colab": {
     "base_uri": "https://localhost:8080/"
    },
    "id": "SftDx-RqdL_h",
    "outputId": "cc332e88-c9cf-4845-c2bb-0a7a69863a0b"
   },
   "outputs": [
    {
     "name": "stdout",
     "output_type": "stream",
     "text": [
      "56\n"
     ]
    },
    {
     "data": {
      "text/plain": [
       "56"
      ]
     },
     "execution_count": 61,
     "metadata": {
      "tags": []
     },
     "output_type": "execute_result"
    }
   ],
   "source": [
    "int(input())"
   ]
  },
  {
   "cell_type": "code",
   "execution_count": null,
   "metadata": {
    "colab": {
     "base_uri": "https://localhost:8080/"
    },
    "id": "-3RyguyBdO6Z",
    "outputId": "22f6c3af-f09e-4ecc-f205-2c78b5c0b000"
   },
   "outputs": [
    {
     "name": "stdout",
     "output_type": "stream",
     "text": [
      "567\n"
     ]
    },
    {
     "data": {
      "text/plain": [
       "567.0"
      ]
     },
     "execution_count": 63,
     "metadata": {
      "tags": []
     },
     "output_type": "execute_result"
    }
   ],
   "source": [
    "float(input())"
   ]
  },
  {
   "cell_type": "markdown",
   "metadata": {
    "id": "DcoRKHtpjYPg"
   },
   "source": [
    "## Boolean type"
   ]
  },
  {
   "cell_type": "code",
   "execution_count": null,
   "metadata": {
    "colab": {
     "base_uri": "https://localhost:8080/"
    },
    "id": "3JT9aAD6jXxB",
    "outputId": "8f7b40ad-2627-4f3c-f2f8-39553c773dc0"
   },
   "outputs": [
    {
     "name": "stdout",
     "output_type": "stream",
     "text": [
      "False\n"
     ]
    }
   ],
   "source": [
    "print(4==3)"
   ]
  },
  {
   "cell_type": "code",
   "execution_count": null,
   "metadata": {
    "colab": {
     "base_uri": "https://localhost:8080/"
    },
    "id": "bz29mNC_jgph",
    "outputId": "7b654233-472f-4e28-b6d7-f23f6246d2d5"
   },
   "outputs": [
    {
     "name": "stdout",
     "output_type": "stream",
     "text": [
      "True\n"
     ]
    }
   ],
   "source": [
    "print(4!=3)"
   ]
  },
  {
   "cell_type": "code",
   "execution_count": null,
   "metadata": {
    "colab": {
     "base_uri": "https://localhost:8080/"
    },
    "id": "HDhTDdvajjl5",
    "outputId": "cb883536-e631-447d-a753-d6757f1449ce"
   },
   "outputs": [
    {
     "name": "stdout",
     "output_type": "stream",
     "text": [
      "False\n"
     ]
    }
   ],
   "source": [
    "print(3>3)"
   ]
  },
  {
   "cell_type": "code",
   "execution_count": null,
   "metadata": {
    "colab": {
     "base_uri": "https://localhost:8080/"
    },
    "id": "Urmfm6fKjlxq",
    "outputId": "0d7aabd5-a971-4d4e-a42f-c47c3aba3c6b"
   },
   "outputs": [
    {
     "name": "stdout",
     "output_type": "stream",
     "text": [
      "True\n"
     ]
    }
   ],
   "source": [
    "print(3<=3)"
   ]
  },
  {
   "cell_type": "markdown",
   "metadata": {
    "id": "EXOLyalvk1d-"
   },
   "source": [
    "## if Statements"
   ]
  },
  {
   "cell_type": "code",
   "execution_count": null,
   "metadata": {
    "id": "Tvtgmj3ek4mL"
   },
   "outputs": [],
   "source": [
    "'''\n",
    "if (a True False expression):\n",
    "  statements\n",
    "\n",
    "'''"
   ]
  },
  {
   "cell_type": "code",
   "execution_count": null,
   "metadata": {
    "colab": {
     "base_uri": "https://localhost:8080/"
    },
    "id": "BRv48Si2mc9G",
    "outputId": "25fb80ba-fe6b-4032-f352-befcea45214a"
   },
   "outputs": [
    {
     "name": "stdout",
     "output_type": "stream",
     "text": [
      "567\n"
     ]
    }
   ],
   "source": [
    "if 3==3:\n",
    "  print(567)"
   ]
  },
  {
   "cell_type": "code",
   "execution_count": null,
   "metadata": {
    "colab": {
     "base_uri": "https://localhost:8080/"
    },
    "id": "Y5FySbollrua",
    "outputId": "3d02ead9-f799-4a26-c54c-0d289f0754fc"
   },
   "outputs": [
    {
     "name": "stdout",
     "output_type": "stream",
     "text": [
      "please enter a natural number : 56\n"
     ]
    }
   ],
   "source": [
    "x=int(input('please enter a natural number : '))"
   ]
  },
  {
   "cell_type": "code",
   "execution_count": null,
   "metadata": {
    "colab": {
     "base_uri": "https://localhost:8080/"
    },
    "id": "nFO9XV80lzzy",
    "outputId": "d60eaf6e-e8de-455c-beef-23a818047f3f"
   },
   "outputs": [
    {
     "data": {
      "text/plain": [
       "56"
      ]
     },
     "execution_count": 77,
     "metadata": {
      "tags": []
     },
     "output_type": "execute_result"
    }
   ],
   "source": [
    "x"
   ]
  },
  {
   "cell_type": "code",
   "execution_count": null,
   "metadata": {
    "colab": {
     "base_uri": "https://localhost:8080/"
    },
    "id": "cFC62aM3lflK",
    "outputId": "590364ce-05c6-4f0d-db5f-9809e3eb8e01"
   },
   "outputs": [
    {
     "name": "stdout",
     "output_type": "stream",
     "text": [
      "salam\n"
     ]
    }
   ],
   "source": [
    "if x==56 :\n",
    "  print('salam')"
   ]
  },
  {
   "cell_type": "code",
   "execution_count": null,
   "metadata": {
    "colab": {
     "base_uri": "https://localhost:8080/"
    },
    "id": "o9G888zglYia",
    "outputId": "47a22c73-65fc-475c-93d4-a1a263497a23"
   },
   "outputs": [
    {
     "name": "stdout",
     "output_type": "stream",
     "text": [
      "3\n",
      "4\n"
     ]
    }
   ],
   "source": [
    "if True:\n",
    "  print('3')\n",
    "\n",
    "if True:\n",
    "  print('4')\n",
    "\n",
    "if False:\n",
    "  print('777')"
   ]
  },
  {
   "cell_type": "markdown",
   "metadata": {
    "id": "1vo3FWZwmAu5"
   },
   "source": [
    "## else Statements"
   ]
  },
  {
   "cell_type": "markdown",
   "metadata": {
    "id": "uLLUsphSmPEC"
   },
   "source": [
    "When the **if statement** is False, **else statement** will be executed."
   ]
  },
  {
   "cell_type": "code",
   "execution_count": null,
   "metadata": {
    "id": "R3kZYOQnmOZG"
   },
   "outputs": [],
   "source": [
    "if 3==3:\n",
    "  "
   ]
  },
  {
   "cell_type": "code",
   "execution_count": null,
   "metadata": {
    "colab": {
     "base_uri": "https://localhost:8080/"
    },
    "id": "aZkyvQi6mCLP",
    "outputId": "657bfc73-50ce-4262-a635-366fd81cf1c0"
   },
   "outputs": [
    {
     "name": "stdout",
     "output_type": "stream",
     "text": [
      "x is 5\n"
     ]
    }
   ],
   "source": [
    "x = 5\n",
    "if x == 5:\n",
    "    print(\"x is 5\")\n",
    "else:\n",
    "    print(\"x is not 5\")"
   ]
  },
  {
   "cell_type": "markdown",
   "metadata": {
    "id": "jcuVWTOKm1zJ"
   },
   "source": [
    "## elif Statements"
   ]
  },
  {
   "cell_type": "code",
   "execution_count": null,
   "metadata": {
    "colab": {
     "base_uri": "https://localhost:8080/"
    },
    "id": "53QT6NLJm5PB",
    "outputId": "fe118ec6-4196-48ae-81f7-4a0129490616"
   },
   "outputs": [
    {
     "name": "stdout",
     "output_type": "stream",
     "text": [
      "Two\n"
     ]
    }
   ],
   "source": [
    "num = 2\n",
    "if num == 1:\n",
    "    print(\"One\")\n",
    "elif num == 2:\n",
    "    print(\"Two\")\n",
    "elif num == 2: \n",
    "    print(\"2\")\n",
    "elif num == 2: \n",
    "    print(\"2\")\n",
    "elif num == 2: \n",
    "    print(\"2\")\n",
    "elif num == 2: \n",
    "    print(\"2\")\n",
    "else: \n",
    "    print(\"Something else\")"
   ]
  },
  {
   "cell_type": "code",
   "execution_count": null,
   "metadata": {
    "colab": {
     "base_uri": "https://localhost:8080/"
    },
    "id": "gEBZVlUgv9gD",
    "outputId": "a5dce81e-88ad-477e-b3be-5713121f6cbd"
   },
   "outputs": [
    {
     "name": "stdout",
     "output_type": "stream",
     "text": [
      "Two\n",
      "Two\n",
      "Two\n",
      "Two\n",
      "2\n"
     ]
    }
   ],
   "source": [
    "num = 2\n",
    "if num == 1:\n",
    "    print(\"One\")\n",
    "if num == 2:\n",
    "    print(\"Two\")\n",
    "if num == 2:\n",
    "    print(\"Two\")\n",
    "if num == 2:\n",
    "    print(\"Two\")\n",
    "if num == 2:\n",
    "    print(\"Two\")\n",
    "if num == 2: \n",
    "    print(\"2\")\n",
    "else: \n",
    "    print(\"Something else\")"
   ]
  },
  {
   "cell_type": "code",
   "execution_count": null,
   "metadata": {
    "colab": {
     "base_uri": "https://localhost:8080/"
    },
    "id": "36EvkeXYom_A",
    "outputId": "447f929c-f63e-4130-9bff-daff733f3b95"
   },
   "outputs": [
    {
     "data": {
      "text/plain": [
       "False"
      ]
     },
     "execution_count": 91,
     "metadata": {
      "tags": []
     },
     "output_type": "execute_result"
    }
   ],
   "source": [
    "True and False"
   ]
  },
  {
   "cell_type": "code",
   "execution_count": null,
   "metadata": {
    "colab": {
     "base_uri": "https://localhost:8080/"
    },
    "id": "yniIuikSpGwH",
    "outputId": "a880b858-d80f-4713-bdc0-f46ba3c3c5bc"
   },
   "outputs": [
    {
     "data": {
      "text/plain": [
       "True"
      ]
     },
     "execution_count": 92,
     "metadata": {
      "tags": []
     },
     "output_type": "execute_result"
    }
   ],
   "source": [
    "True and True"
   ]
  },
  {
   "cell_type": "code",
   "execution_count": null,
   "metadata": {
    "colab": {
     "base_uri": "https://localhost:8080/"
    },
    "id": "G8jCV5SYpJmw",
    "outputId": "211dcd3e-7e32-46df-c48e-0dd3c8b9a76e"
   },
   "outputs": [
    {
     "data": {
      "text/plain": [
       "False"
      ]
     },
     "execution_count": 93,
     "metadata": {
      "tags": []
     },
     "output_type": "execute_result"
    }
   ],
   "source": [
    "False and False"
   ]
  },
  {
   "cell_type": "code",
   "execution_count": null,
   "metadata": {
    "colab": {
     "base_uri": "https://localhost:8080/"
    },
    "id": "Pj-LKADopN1n",
    "outputId": "785b750f-6b2e-4242-9f67-2695589ecbd9"
   },
   "outputs": [
    {
     "data": {
      "text/plain": [
       "True"
      ]
     },
     "execution_count": 94,
     "metadata": {
      "tags": []
     },
     "output_type": "execute_result"
    }
   ],
   "source": [
    "True or False "
   ]
  },
  {
   "cell_type": "code",
   "execution_count": null,
   "metadata": {
    "colab": {
     "base_uri": "https://localhost:8080/"
    },
    "id": "CKOkgozFnmF7",
    "outputId": "2a0e7c39-e28b-4245-e6fc-db0f7a3df990"
   },
   "outputs": [
    {
     "name": "stdout",
     "output_type": "stream",
     "text": [
      "False\n",
      "False\n",
      "True\n"
     ]
    }
   ],
   "source": [
    "print(True and False)\n",
    "print(False and False)\n",
    "print(True and True)"
   ]
  },
  {
   "cell_type": "code",
   "execution_count": null,
   "metadata": {
    "colab": {
     "base_uri": "https://localhost:8080/"
    },
    "id": "mG7BJgwawZx9",
    "outputId": "4c9f7090-1557-4254-e4ef-dba7c8564aa7"
   },
   "outputs": [
    {
     "name": "stdout",
     "output_type": "stream",
     "text": [
      "False\n",
      "True\n",
      "False\n"
     ]
    }
   ],
   "source": [
    "print(True and False)\n",
    "print(True or False)\n",
    "print( not True)"
   ]
  },
  {
   "cell_type": "code",
   "execution_count": null,
   "metadata": {
    "colab": {
     "base_uri": "https://localhost:8080/"
    },
    "id": "TnSzVrMmpXCj",
    "outputId": "924ce745-0cac-4c0a-b46a-f6e7ed1b150d"
   },
   "outputs": [
    {
     "data": {
      "text/plain": [
       "False"
      ]
     },
     "execution_count": 95,
     "metadata": {
      "tags": []
     },
     "output_type": "execute_result"
    }
   ],
   "source": [
    "not True"
   ]
  },
  {
   "cell_type": "code",
   "execution_count": null,
   "metadata": {
    "colab": {
     "base_uri": "https://localhost:8080/"
    },
    "id": "x0oOmMKepZ7L",
    "outputId": "5f8bd216-4ac3-485c-cbae-df7d28fc39ac"
   },
   "outputs": [
    {
     "data": {
      "text/plain": [
       "True"
      ]
     },
     "execution_count": 96,
     "metadata": {
      "tags": []
     },
     "output_type": "execute_result"
    }
   ],
   "source": [
    "not False"
   ]
  },
  {
   "cell_type": "markdown",
   "metadata": {
    "id": "urj-IZ9zVO4B"
   },
   "source": [
    "![Capture.PNG](data:image/png;base64,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)"
   ]
  },
  {
   "cell_type": "code",
   "execution_count": null,
   "metadata": {
    "colab": {
     "base_uri": "https://localhost:8080/"
    },
    "id": "m1dRWjmRq4W5",
    "outputId": "ad252ac1-55da-4cd4-e70f-0ef3d33a9689"
   },
   "outputs": [
    {
     "data": {
      "text/plain": [
       "3"
      ]
     },
     "execution_count": 100,
     "metadata": {
      "tags": []
     },
     "output_type": "execute_result"
    }
   ],
   "source": [
    "15//4"
   ]
  },
  {
   "cell_type": "code",
   "execution_count": null,
   "metadata": {
    "colab": {
     "base_uri": "https://localhost:8080/"
    },
    "id": "6_ntC2rUS4PH",
    "outputId": "c3e312b7-1ca3-4ca5-8bb2-e0bb4297a0ac"
   },
   "outputs": [
    {
     "name": "stdout",
     "output_type": "stream",
     "text": [
      "type your income : 400000\n",
      "here is your answer :  340000.0 the end\n"
     ]
    }
   ],
   "source": [
    "x = int(input('type your income : '))\n",
    "'''\n",
    "y = 0.85*x\n",
    "\n",
    "print(y)\n",
    "'''\n",
    "\n",
    "\n",
    "#alternative\n",
    "b=0.05*x + 0.1*x\n",
    "y=x-b\n",
    "\n",
    "print('here is your answer : ' , y , 'the end' )\n",
    "\n"
   ]
  },
  {
   "cell_type": "code",
   "execution_count": null,
   "metadata": {
    "colab": {
     "base_uri": "https://localhost:8080/"
    },
    "id": "UNNJQjYZoIr3",
    "outputId": "1af7bc57-38ba-41f2-b559-997f17f0b1c3"
   },
   "outputs": [
    {
     "name": "stdout",
     "output_type": "stream",
     "text": [
      "first \t second\n"
     ]
    }
   ],
   "source": [
    "print('first \\t' , 'second')"
   ]
  },
  {
   "cell_type": "markdown",
   "metadata": {
    "id": "dIG4I5MpX-EZ"
   },
   "source": [
    "_____"
   ]
  },
  {
   "cell_type": "markdown",
   "metadata": {
    "id": "5oxSBDr9YDUr"
   },
   "source": [
    "_____"
   ]
  },
  {
   "cell_type": "markdown",
   "metadata": {
    "id": "2MTmIT-PYE5s"
   },
   "source": [
    "![Capture1.PNG](data:image/png;base64,iVBORw0KGgoAAAANSUhEUgAABDoAAAJgCAYAAABr6AMSAAAAAXNSR0IArs4c6QAAAARnQU1BAACxjwv8YQUAAAAJcEhZcwAADsMAAA7DAcdvqGQAAC9LSURBVHhe7d3NayRnnidws//DHnRc6uqbb33SZXWpy8Dgw/ZBhzqsDz4YGkZQh158mMUHQcHAgJkCgfFgaEaTYDBuTHWLmp3uha4dbc/sepoaDV7a21SLnu0Gt7fosQuv/Gw8kRGRkZER+aaUKvXT5wM/XJZS+RIvTzzPN56IfCUBAAAABCHoAAAAAMIQdAAAAABhCDoAAACAMAQdAAAAQBiCDgAAACAMQQcAAAAQhqADAAAACEPQAQAAAIQh6AAAAADCEHQAAAAAYQg6AAAAgDAEHQAAAEAYgg4AAAAgDEEHAAAAEIagAwAAAAhD0AEAAACEIegAAAAAwhB0AAAAAGEIOgAAAIAwBB0AAABAGIIOAAAAIAxBBwAAABCGoAMAAAAIQ9ABAAAAhCHoAAAAAMIQdAAAAABhCDoAAACAMAQdAAAAQBiCDgAAACAMQQcAAAAQhqADAAAACEPQAQAAAIQh6AAAAADCEHQAAAAAYQg6AAAAgDAEHQAAAEAYgg4AAAAgDEEHAAAAEIagAwAAAAhD0AEAAACEIegAAAAAwhB0AAAAAGEIOgAAAIAwBB0AAABAGIIOAAAAIAxBBwAAABCGoAMAAAAIQ9ABAAAAhCHoAAAAAMIQdAAAAABhCDoAAACAMAQdAAAAQBiCDgAAACAMQQcAAAAQhqADAAAACEPQAQAAAIQh6AAAAADCEHQAAAAAYQg6AAAAgDAEHQAAAEAYgg4AAAAgDEEHAAAAEIagAwAAAAhD0AEAAACEIegAAAAAwhB0AAAAAGEIOgAAAIAwBB0AAABAGIIOAAAAIAxBBwAAABCGoAMAAAAIQ9ABAAAAhCHoAAAAAMIQdAAAAABhCDoAAACAMAQdAAAAQBiCDgAAACAMQQcAAAAQhqADAAAACEPQAQAAAIQh6AAAAADCEHQAAAAAYQg6AAAAgDAEHQAAAEAYgg4AAAAgDEEHAAAAEIagAwAAAAhD0AEAAACEIegAAAAAwhB0AAAAAGEIOgAAAIAwBB0AAABAGIIOACC255+mdO+tlJ5+Wf2gcP4opf0/Lf77ovoBABCFoAMAiCuHHPuvFj2eosuzc28cduSQY3dn/LPdt4UdABCMoAMAiOni85TuVSFHXTvfSek7VchR1+6DlJ5fVH8EANx0xdEdACCii5SevpfSTh1qvJrS0WlKJ29PQo5X9or/f1Y9HgCIQNABAARWhx055Pi08zMhBwBEJOgAAG6hi5Se/6H6NwAQiaADAAAACEPQAQDcMi9S+vmn5aQOACAeQQcAsJ78rSZvvDX+ytab5NkopZ2dlA6fVD8AACIRdAAAa3iR0ujNoidRdCVu0tezTn3l7OspnX1V/QIAiELQAQDRlTMYNvwNI+Vz5rAg16spjT6vfrHNvkzp6F71nqs6OKl+BwBEURzhAYCwzh+ltLtTDew3FHY8/zSl/XpWRFXXMqujeP6zxykd7k9ed6f493Hxs4WvXfz+tHiP7fdcllkdABBNcYQHAEKaCjnqumzY8UVKh3c7z5nrteJ5f1s95iq8KJ7/7Z7XrWq3+N158Zghz5/0LItcxc+OnlYPAgAiKI7wAEBIfTMvdu5d4uahQ7Miqjo8rR63aQtet657o/Khs4ofntzv/5tcLl8BgFCKozsAEFY77LhUyFHpnSVS1d7RQNDQ4+I8pcdn1f8s8tuUDl7rf82pmjerpOf+HHXdOUzpm+phAMCNVxzdAYDQcthxb97XwOYZEx+ldLZkCDIUdiwdGNQzNF5N6ah4b4t8edK68Wmr9ovXGx2ndLA3+dnce4UMhB0794tfLZvQAADbrji6AwC32sXTlPZ2xjf2fHJe/XCB3rDjjeLnSyQdU1/xukTYcXrYeo26doufPx//vvt8c78Bpu8eI0u+bwDgRiiO7gDA7fUipdGbrUH/qykdjoqB/5wbe5bqWRn13+VaJjDo+7v8mp8Mz8Q4O+o8Plcr6MjP2b4Hx6LAZmaGiKADACIpju4AwK0179tIDh6mNBqldNoTGuR7bIwOVw8MpmZfdKr8qtji9UZ/ldKf3C3qL4p/F++h9/3dKX73q+pJC32Xt+z8h5S+9++Lv/+T8efIdXQw/ZiyBB0AEElxdAcAbqfubI5L1sJ7XfTN5rhEtb9lpb78pu9xi8rNSAEglOLoDgDcePU9M1b55pPB2Rxr1qLAYN5sjrWqdT+Ob06L1+97zBK1yjIDALZecXQHAG621tevLv0NIsVjnr43e7nHZWp/VD33gOdPp78hZSOV7+/x/uWe9+CkeoMAQATF0R0AuNHaN+tc9TKMoa+KXbmK5zh6Wj3pPANf8frSqnOvDwDgxiuO8ADAzfVVSkevTwbui2ZV9NlI2PFaSie/rZ5wgYtnKd3f9MyONWvnzZSeLfqGGQDgJimO8ADAzdW6bCXX4Wn18xU9G13uMpZV73Ox6v06dt5K6fj7/b9rqni+o/dXCG2Kxx0+qd4QABBFcZQHAG6s7k041w06ujNDVqmdeyk9/bJ6nhX0fSVsb9U3HS1eY3S/5/dVld/C8iKlk7f7f9+t9re2AABhFEd5AODGOi8G6+3B++6DlJ6vM3rvzAz5zu5yIcTOfkpPzqvnWNHUV8IW//3e92ZfMz//o7PqD7Lis509Tumw+Hn7MaPTVmjxIqXTPLOj9TxN5ZuXfpDSh+3HAwCRFEd8AODGOj3sDOSL2v/zlM5XuO/E87Pp4KB8jnyvjxwYfJzS6K9S+pP/mNJR8d9R8fOyPkzpbI1ZHI3iuUdvtl7TTUEBgM0oehYAwI3VF3TUtV/8rgkm+uqD4jED98lY56amS+u7BEXQAQBsRtGzAABurHlBx9q1k5b7qtg1XJyn9KAze6SsFb61BQBgjqJnAQDcWN17dGykekKHfHnLaedeHM8/W+HylXxvjeK9Dn4jyuvF77+qHgsAsL6iZwEA3FhTN/TcUHVvaPr80+oSl72UTp5N/2ypb1xZ8G0puVb9eloAgAFFzwIAuLku8bWwvVV/lWulCTnq3+8Vv/9o+meDYUeexfFJ5+/76govlQEAbp2idwEA3GjPn8y5JGTFujeanllx/qjz3MW/Z74G9tWUjj6t/qCSL3U5Omg9Zl65bAUA2JyidwEA3HgzgcSqVfztwShNXbJSa567qPvFvy+Kxzx9rwo7OiFHvtno6LAThCyog5PqjwEALq/oXQAAIaw0i6JVO/spPSr+dp7z05Q+LKqdgzx7XPysfclJ8cuTBffi6Fb3fiAAAJdU9DAAgFDyrIoPRykdz5lZsV/8blQ8pvtNKpf1rHjOZWdzLHUjUwCA1RS9DAAAAIAYBB0AAABAGIIOAAAAIAxBBwAAABCGoAMAAAAIQ9ABAAAAhCHoAAAAAMIQdAAAAABhCDoAAACAMAQdAAAAQBiCDgAAACAMQQcAAAAQhqADAAAACEPQAQAAAIQh6AAAAADCEHQAAAAAYQg6AAAAgDAEHQAAAEAYgg4AAAAgDEEHAAAAEIagAwAAAAhD0AEAAACEIegAAAAAwhB0AAAAAGEIOgAAAIAwBB0AAABAGIIOAAAAIAxBBwAAMOt8lPZfeSW9smTdOTxN31R/CvAyCToAAIBZgg5Y0kV6fvY4jUYP08Hud9LByW+rn/OyCDq4Rb5MZ6P76e61H4RzwzdKBwcfpvPqJ+niWTq5fzft3n+Uzi+qn7GmL9PTo3vpzv576emXvyqW6+tp/8FPLde15f3k7XQw+lX1/0wbd2SOD++lu0dPi/+7Zs/P0snxYdq/e5TObOPb6brW0fOnaXRQHEcORunseeeFyt+9nUbn0Yacfe3Ti3R+8nba3X07nZy/qH7GtEv0f1560NHTh9oqxbI9+UE63L+Xjs6+qn7G7ZHX/4dpdHSQdst94NW0f/hBGp2cpefVI8ZyX/WNTr/hEvslSxF0cDuUwcLeFR2E23JD9la6d/Rp1cBVHbDc+O2PqoN0cdB++l7a3yl+tlMcGJ9+Wf70dhsfAPZy8PNNXlevp/1mGc53cf7T9GD/1WJZ7qfD45yi76RXdu+n0ZnlurJmP7mT9gUd0y7O0+mH1fZVdmZeu8azNUU7cvpROjoYt2G5dg5Oir3m5Rjvc7srBorjDt1u2H3zutdRtTzL19orBv5Pm/by4vxRul9up2/c8KCjczwdap+ef5qO8jEgDzCWPG7cKhvv/zxPp4e75fNd/TbW14faDhfnp+nDZnBb1M79dPKl9Pl2+SqdHb1erP+iDT46Th+enlchRhV+NGHH+ITcTt5O9qoA/NrGJbeboIPb4eJpOtobD1CuskG5ODtKe+VB7/Uq2a8bwclBuuyE7r2RHj56nB4/ejft723yLNSL9Gz0Vto7fHKjOnsXz0bpXhn87KfDh1XHYZWzcxf/ks4+Gw8pLs4/TT93Vm89zX6yHUFHuV3sPUin3bPV16aevbE/7qDUVYZqH6fTjWxnc/bZemZA3jea1x+fLZp0qK7ZxXl68qBaHqsEteUMg9ypmx6U3wzbuo7y9vm36aQTHE2OQzc76Jg5nva1T+Vg4fW0//Dj9Pjxx+nh/uvp/smzl7NvbKuN93+uM+iY7UO9XHkAm2dv5GAtf/5x7ewfpuMPT0PPJH35x+NtloPuj6tLVsb72iuv7KS9ZvZGe5+pTpJc07jkthN0cEv8Ko3271x9g1IltDv3RulZ2bp9k85Hb4wbt/IgPUl1d/bfSQ/Ljv9O2t1UMNFMMd1Nh6c3KupoddjzAeNkQ4NIVlPvJ9sQdFzTPjvPlyfpoBnAXtHgdXCf/W06OXiteu1t60ivuI+WZ9xfKy/Ve/YszzZ47Wadeb9p66h5vzd8RsfM8bTbPrVnR7ZDcoOxaZtuS68z6Oj2oVZVbSMbGaBfFIeE+5PQe6OB97bbguPxFpqZ1TNV7VmffduxZXodBB28XPXZwd2D9N7Jo3RcDPx39h+kRxuf2jzpkC7doORO1vf/7NJTEb85PUx3phq3fEbgb8fXVOfp8B+t2DHOg4Z7fzrwvr4oOiB/tL33/tjQMp3VmhY4dJa5TM/v3sCzyV3FIPPJnxed+7108N4n6eT4ftrNHa5H3etB11F3YK8r6Mjr7Xvpfu8lIEUH9fTBtV13n2daff/wcfGOJpp999JTkud9zoF99pvTdHin21m6mepLKXb2j9KTJ0fFtruzfW3UOu3qhtbR+FKg19LuwXvp5OSDdJCDoMNPZu+7MaU1yO9estG8rw0PQi/Thm6k7e9rn4Tki63R/5nrOoOOvj7UCpp9YfXPPntMmHzuy12WNt53791/eZcfru56j8eruDh/kt4r71W0Svu5Ca3wIlcZfI3SaPS457VbIVmzHW96v6SPoIOXatxA7VUNxAfj6YA59Nj4lN/JAWq5BqWeLnn5mRGXOkjPyB3uu8X7uomDn0XLtHXN+UoH0+oAnP+urr6BaXN2fp1BVl7u3033Rp9veLtcQw7H3stnEMYzDMaXVeTQ48kSnykPCj6ZTLud2deuM+iYrLeXeb+JUj2F9M5hOm0ah+lOzOSs8qrW/JztGwDuvJlGz15m57IO16r95+DhyjNbLs4/S5+Vnb9ieXz22XaFHOu2qxtZR3lw/n453bmcEVJeBpOX8fvzB+zPn6TDZop0rrtFu/rF+HdXFXSs3YZu6nh6ne1TJKv2fxaZPN/WBx25vcmhwr330tNVBr69x4TJGfgcLq7dH6j3Xff02IBJ+5n7M0dN+3k0c0nf5tVBRX69nhtCdzTbcX2Pjo3vl/QRdHDN8kDr8bVcX56vJ3zjjdlLSJZqUKops6t3qKpBTWvqbHOd8dRBujpDuPIlK5PrVVcfHOZlP6quHxwPVmbvCr2E9jX6K91HY94yrZZbfs6qlv9844NN+fjmvc0OWCbXe+fqnAGdq/XeFg5mNrSMu/J9AC49Jb54b80Z4Ha1BkjN9rXOQCLfx+AgvbFC569ZJ+t0+Jp7PhR/nzs4vWdRljN488Zmm83LqVifa15itt7nLDpw9U34ys94hdPxc3g2mtxnYmf/z9OTZr+e3Teb2qqp2+0wZm/F+zSs266uu47yrL5PLrHcqrOD5fb0VfO5m/feXPvd2Z7LAdZ31/5miLXb0I0dT4fap+7jhlSPmxq8XrMmqB5vpwdHo8sPyMr1+ketdrxrxf7PQhsMOopj26PD/XRnzkze/j7U1Ro6Jkx+nj97+9i5gmb/vOYTVpfc/4ctu/+9LOP+9uR+GZvSOjlX1E7+5r95n78Oxpv2Z9P7JX0EHVyvsoG/s2KDU3Qmzz5fcYBRJ631TUGXbVCKhuvRg6nB4Eod3+YsW+sAVjduzUG6NXBYY4A3uXHn0N/mzuB3Z5Zx83fV55rUKp2tPJh9cxxyVLX4TPcSy7TcLqrr9utO8bKd0dbU1Hb1refmG1rKx9TbxhIuPk+je68tHOhuZhl3VZ375izAciZn0CvltnlnwZniej9ZI+ioz/au8j7L5ZrXx3CHr+zkdp+z+bvucl4xXKo62ZPtued9tMOOdQKZbOHn7N9npwfSV9Qpbr6xol4G42r263rbr87gD1+TfIkznD2m9tUlvqllZt9bcYbFuu3qOutoPHBbof3JWjdcLlZaa6DZqmY/qc88twdp9ayVFY9pHau1oZs+ng60T33H3V5Vv2DFAfPmbnA9e/xsau2wdpn1uq1BRzuczDMUBy43mOlD1dp/P/+s+szxcMgSx4R22LHevjTZDi6zL65m0XbSasfm3GS693i89P63pvbJtZ399ODJ0InSvjb6cv3tbLK++8Ld4vlbJ5Dmhh11H0nQca0EHVyrcQdvlUFU1fj2NFAzDW5uRO5Uj2sGFpPXqqeNDTco1YGgvt9BnboPDNz6Gvx2Z7t5nZmDdLuzs6CjWL6HbgJfhzhDB5XWDIfqJ+OOyR81HYm5N1Aa+LylJqj6Rfqymbkw7zMsuUzLZVQ/T/ts5fQb6T3IFp+yuT9HqwbXczNwbd8Re7GpjlI+K/e4O5je1DLO2+7u5IBaL7MVOufjA/N3WttHFZYs7IjMCzq6nYjxerpTbWeTbX+o49vfCamvW+3vfPVvC3lffrU+A5jXxdTXvrZrzrZZdc7qewKN26aBbaIJA5bpyK3zOfv22VrrBsa9v19N3i4/qmfU1Z+ruYSptS/VnbFy+XYHYNNnssrqOZs3t43Oym17b/Zyhnqbbz//vH2m3r7zY76sZ/rM2b/L599Eu1pbZR3V++IKA8SqzZo893TnuqmmA90TdLTDwXltSd4v9t6Y/206S7WhV3E87W+fJo9b0KbXofil2tKxtbbt/Pqv1gO1om/T+TriSQ18jvycd9+aDvDa63XOPjK3/7PMOp+ywRkd2fPP0mkTZOb+0TvpQXumxEDQMW6z62WWa2j9V/vuopMySx8TWvvfEoPnvm273F7m/X1vG1WZ+V3+fHdnjvdT63ru/t8KA+rqfV/9x+Ol97+19ISDg8u8r41u//28bTW3V9+dDTKaEKd+/b7jw/TyGww76vandRJv8biEyxJ0cK3GO/WyU8AnnenZzmPVWWw1eOPnrq8BrhueSYeoPigONijVgae8TnqUbyhU3TNkhQa/3ag2r9N3kG4OOvODjvF77l7XPEmBezvVCzqUE30HtwVnQcvPUh/M6s86J7hadpnWy6g8q1UNWmfe/9Ay7xp3wsbLPx/4dmffX3XwWu/gUg9al5m2uuoyrrbr9qCxPjguNS20eL06gJpaTvXgKr9+NfCoflNqOppzgo5qu5psc1Vntzlo12eMBjoT1d/PLPN63feu1/p9LwgEs5kOybwZBvU6HN/nZJS3zeorQnv3qcJ4X1wi6Fjncy7aZ2eW/brq5Vlsu09+Pm6Duttjvb0NvZf2JUO5BrfL2TZ6pj0r24fZznHdVo//9osqRJi3DVQD++o9Nx3vgQHtlbSrS6+jepC45LT3ZnnP3/bK49+8oKOwaLkUj6j2i/Z6XbMNvZLj6VD7VD9uwUCr3rZ730PXUFuarb9tz6rbzeJ9VdU/IJ+sm+7vm/XaGkB11fvU7PrqW+eLbDjoaKv3o/Zn7OtDtY5p5T5Xh7Y9++dkID5vH1r1mDC7DfSrHjezbup9dOA9ldtP/+/G67L1u2qZTdbteMDfXRbD+3/1+PLndb+777XrZd5ti3v6vZtSt7vl+/mXKmAa2K+G2uimvz1nW63aq+l2ud4m8t+9aNqD/u1hej/uDzuqdd7aFob3SzZF0MH1ahqTfDAZ9U6hL8+E152ioUajGdRUg5nWGabxFOt6gNlqkKcG6bPqZLV+zUl1B0ytDlD+HA9+OnXvhJmDUP2Zp6YDLneQbIKh1o3fmhu4lu+t01luT/HLl0v03R2/PEN73DqTlC+rOC4O7Etca193OKZqOOhYepm2zzb0/X7BMp8oDtInR8Xjqsujqo7tdMcwn0nLN69acAnV0H0x2u916B4l6y7j3sFS1QkpnicPGkb12fi28vVG1Y1Jq2XYmX5aH1DH76dTzWC31Zme2ufq/Wny2Ml0zvp+CNWBfmgg2AQ2rWWW33dzvXo3AF1mWnJelx+nUTNzJj/uYdlJnX8foHZHvVO9QVTx+csO1hKBy6qfs/jdwn227MS/tsSgqTK07Tbtb13Tnbp8/6TxNtRdF4X8nFXHP//tzv7D9OjoXrG8BqYSL2yjJ53j7gBr0m5U21bZ7swJVJtBQ/25qhoY0F9Ju7r0OmoNLHPoOOq79061XbeWd9nu9d4TI6+3k3Fb0+x7dZvR+Zve9qWtvc9Vx7A129CrOZ4OtU/dxw2ZbkuP+y5xK9vSdttdVHcq/yW27dq4n9OaiVaG/MXgevBeTMUyby6Rmt52F6/XwmD/p2edL3TJoGOofWqt36l9sLcP1XoPZVv7hyoE63k/c2cz1FY9JlSzuIaOd436edv3Dar3n3rdd7aRVpg8fb+kbDKgHu+Tre2iOuZMgp1uOza0nfS3n9OPa28nxfbXOR4vt/8N650Bm9dVfTxttvnqvXaXWaeNnr5H0+L+dvuSvMnnnoTfU9X3PPU623snHT+sZvd1113dbrS3mQXjEi5P0MGVahrc5kDRf5nBUOXOyA+mrpdcsdoNSnmwnDNQmengFAeJk4+rDk3neRfVVCM86VxNV9FwL5rZMjMwqaroIL/zzpzlsvtmOmgFRb2VO9nHq14T3DNlfd4AZJPLdJWqD0R1wt/7mL7OS23oLEzWGvQvqlWX8dT7rTsp9SC789xDlV/zB+0B0qLqHGSHtrmlat4Be2g/KAY377w95/3upe8dfHdBG1A8x+EPVroHyuxA4zCdnBzOXa/dM6n91vyci/bZudtr27xttzUAW7uKgX71DT9zw7ONV3cGRlt7sNz6m6FBzVW1q8uuo+ZSqJ7nmKm8bR9NBf/91R5ktAeM3eoMfmZ0zs6u24Ze1fF0Xvs0ECq0TQaBy1SxrT98Z4W2dPUaDFx6tcOObi0YZM7t/6x6Rv4yQce89qnQhEjtAedQm9pTi5536PeF1Y8J3dCuz/C+uLP/dnpn6XZgU9W3/7dDjEU153g898TdeNvdmwlZVuzfLKrBNnpxf7tpG1rbyPQ9iRZVvT3MG+d03sfc/ZJNEHRwpWaDjqxo8KbOwnaqHBy2zsjmDlNzNrSunCjX35ldH5TuFx2Gj4ZvYPfNaXrw5jIDlbahRjh3Po+L1/9wtgPac+O86bOF41rm66j6DkD19aNFC9kTOuTfVylyd4p5WXm5PZxz1mhFZSM970xrn75lOn5f5TovO8jTM3rGNWeZN5VnTnzUmjXRNwDqPqbHwjNks9ONJ3WZZdzqyHYGETOdsKnKy+aD1mvmfSyfMZp+3GQaeVGDnev6b7uvkwe4n6ST43qby5/zg3Ty6M+qdZn/f/42PdNpyPt6eRnNwEC1+P14tkD/tj4+C7rJb/0Y6KDk99l75r3f4s/Zeu6i5u+zed32z37rtWjbnZk9Naly+3h0kh41Z8Y6v5u5WeLQtpKr2g9mzlq39u28fh89Ssfdz5zPTJ592ropYLEMBmdx9akGRoNnbzfdrq64jrKZIGC6xst7sm33HUPG1Wo7y0dWeo+bxT7cNxulqw43yuW3Zhvaq6/tzzWnbZ85ng5sc0vcsLaRZxRcqi29xLZdVl5+x+t9+1xv8LTEel3U/5la54tcIuhYeGwttpH6RELrRFVvH+r+J+nsaevr0pvjRZ8qYFk5mOk/JuT9s3d2ZZ9iX5zMNsiVt7Hqxqu97Un1/Ccn6ZO+E33lttZuO8bb02RGZ24vP2odq+tacv8fCpaa5dvTRi7a/8qgqWcGWB1A5WPkcV+/L8/O+EV62rxese/l9f6L2XakbqNnt5XFfZOxRdvIvNCqG1gWy6hzI+be97HWuIRVCDrgVsqd13+oGtyiI/fzT9cYlNeD/VWDjhtg4VT5QnVmcfgM2CaWMUtp3cxuc9+QcEMtET6OZ2LMmyFxk7UGSksN2pixsG3jpbmqdXNd63yJ9qkJY+fMvljZVTxnSFfRftYBwewxZ3yJWw5qNvA1y5dWBTyLZgWtHJbxMgk64NYpDmTVWbWd/XfTo9H3i4NaTslb1/wu1D7LEW/a3fjguyjAGR8U+zuGm1jGLKW+DGDnXnr46Afj+4a0749xyyy17ZbXPUcMOib7XT575rrnNTSX1Sxq/7h2V7VurnGdL3dsre6NsLFQYtJfGZ5JwtW1n/UMoO4xZ2CGxEs5frf6tH0BT/tyw4X3ZWGbCDpgFc00w5xAvz+eZjd3uuR2Gt9I8rW0//DjdDLK93Po3rxpju40zKtu9F/CMq/vPTC3U1Sm+7NfO1i71DJmefVXb+ZA6eS42D5eu9WB0uJttzpjt+BGyDdP93IU1z1P1FPN85T596sp791p7MV2cda+DOAato+tOZ6OZycudw+elyGvm9blQ+3LGsv27+6abd71r/Oljq31+thEKDF1acj6N8u8HvV+mi9xeFhdipIvQ1nlsr0+y+z/67ef477O3Tn9mzro6AtPivd28uH4ctrm5subCuEn+015aUl5uXzP5SPPz1qXSc5uI9OXogrQbxpBB6ykOmBUd0jPB6I73Tsr3xCTxrt7wBvS6RSVtejGdpvwEpZ5NY136lraWvv67gU3v1t9GbOWJnzr6cTcNnO23fad7UOd2ZzqqOYqtoNFN3q+TfL9OnLYeiffK+ZJ8e/cnrauqc9t2tQ9s5a5yeImbMfxdHKD0i0MxxZs25MbAq/43l/WOp93bC0HvaNqIH7ZUKJ4rs49ErY3yKrVA/O75T03yoF/sc9eOvhbYv9fv/2s72tR/N3gSa/2zI283ntuHJ7fY33Poo0Fbvn+OqOiz7pbvObH6fT0eLxsm75Y3t7yt/RVAWJR09vI7Da0zA2P2S6CDri1xp3MvaU6lvmA8XHrZle5igNW79cdRrDEt1N0v3Kw1yrLmPVVHcS9ezdudtXmFfvq4DczjKv/O/5vpjK8mfoa1lif76r13rjv1s2Iyu39W2lvy8Kx5dZNnnL/Vrq3wrH45a7zxe3Tpd9PHjR3bsSrTei3kfYzX9Zx7635/aH2pR9z65pmvvZsI1OXzJTBS+fmqEv1+dg2gg6AXvXZgM7BuTz7uOrX8sJ16t92y+m7m/rGJYC1DBxby0uY1vw2GrZfGR70f9tReWzSr+IKCDoAAACAMAQdAAAAQBiCDgAAACAMQQcAAAAQhqADAAAACEPQAQAAAIQh6AAAAADCEHQAAAAAYQg6AAAAgDAEHQAAAEAYgg4AAAAgDEEHAAAAEIagAwAAAAhD0AEAAACEIegAAAAAwhB0AAAAAGEIOgAAAIAwBB0AAABAGIIOAAAAIAxBBwAAABCGoAMAAAAIQ9ABAAAAhCHoAAAAAMIQdAAAAABhCDoAAACAMAQdAAAAQBiCDgAAACAMQQcAAAAQhqADAAAACEPQAQAAAIQh6AAAAADCEHQAAAAAYQg6AAAAgDAEHQAAAEAYgg4AAAAgDEEHAAAAEIagAwAAAAhD0AEAAACEIegAAAAAwhB0AAAAAGEIOgAAAIAwBB0AAABAGIIOAAAAIAxBBwAAABCGoAMAAAAIQ9ABAAAAhCHoAAAAAMIQdAAAAABhCDoAAACAMAQdAAAAQBiCDgAAACAMQQcAAAAQhqADAAAACEPQAQAAAIQh6AAAAADCEHQAAAAAYQg6AAAAgDAEHQAAAEAYgg4AAAAgDEEHAAAAEIagAwAAAAhD0AEAAACEIegAAAAAwhB0AAAAAGEIOgAAAIAwBB0AAABAGIIOAAAAIAxBBwAAABCGoAMAAAAIQ9ABAAAAhCHoAAAAAMIQdAAAAABhCDoAAACAMAQdAAAAQBiCDgAAACAMQQcAAAAQhqADAAAACEPQAQAAAIQh6AAAAADCEHQAAAAAYQg6AAAAgDAEHQAAAEAYgg4AAAAgDEEHAAAAEIagAwAAAAhD0AEAAACEIegAAAAAwhB0AAAAAGEIOgAAAIAwBB0AAABAGIIOAAAAIAxBBwAAABCGoAMAAAAIQ9ABAAAAhCHoAAAAAMIQdAAAAABhCDoAAACAMAQdAAAAQBiCDgAAACAMQQcAAAAQhqADAAAACEPQAQAAAIQh6AAAAADCEHQAAAAAYQg6AAAAgDAEHQAAAEAYgg4AAAAgDEEHAAAAEIagAwAAAAhD0AEAAACEIegAAAAAwhB0AAAAAGEIOgAAAIAwBB0AAABAGIIOAAAAIAxBBwAAABCGoAMAAAAIQ9ABAAAAhCHoAAAAAMIQdAAAAABhCDoAAACAMAQdAAAAQBiCDgAAACAMQQcAAAAQhqADAAAACEPQAQAAAIQh6AAAAADCEHQAAAAAYQg6AAAAgDAEHQAAAEAYgg4AAAAgDEEHAAAAEIagAwAAAAhD0AEAAACEIegAAAAAwhB0AAAAAGEIOgAAAIAwBB0AAABAGIIOAAAAIAxBBwAAABCGoAMAAAAIQ9ABAAAAhCHoAAAAAMIQdAAAAABhCDoAAACAMAQdAAAAQBiCDgAAACAMQQcAAAAQhqADAAAACEPQAQAAAIQh6AAAAADCEHQAAAAAYQg6AAAAgDAEHQAAAEAYgg4AAAAgDEEHAAAAEIagAwAAAAhD0AEAAACEIegAAAAAwhB0AAAAAGEIOgAAAIAwBB0AAABAGIIOAAAAIAxBBwAAABCGoAMAAAAIQ9ABAAAAhCHoAAAAAMIQdAAAAABhCDoAAACAMAQdAAAAQBiCDgAAACAMQQcAAAAQhqADAAAACEPQAQAAAIQh6AAAAADCEHQAAAAAYQg6AAAAgDAEHQAAAEAYgg4AAAAgDEEHAAAAEIagAwAAAAhD0AEAAACEIegAAAAAwhB0AAAAAGEIOgAAAIAwBB0AAABAGIIOAAAAIAxBBwAAABCGoAMAAAAIQ9ABAAAAhCHoAAAAAMIQdAAAAABhCDoAAACAMAQdAAAAQBiCDgAAACAMQQcAAAAQhqADAAAACEPQAQAAAIQh6AAAAADCEHQAAAAAYQg6AAAAgDAEHQAAAEAYgg4AAAAgDEEHAAAAEIagAwAAAAhD0AEAAACEIegAAAAAwhB0AAAAAGEIOgAAAIAwBB0AAABAGIIOAAAAIAxBBwAAABCGoAMAAAAIQ9ABAAAAhCHoAAAAAMIQdAAAAABhCDoAAACAMAQdAAAAQBiCDgAAACAMQQcAAAAQhqADAAAACEPQAQAAAIQh6AAAAADCEHQAAAAAYQg6AAAAgDAEHQAAAEAYgg4AAAAgDEEHAAAAEIagAwAAAAhD0AEAAACEIegAAAAAwhB0AAAAAGEIOgAAAIAwBB0AAABAGIIOAAAAIAxBBwAAABCGoAMAAAAIQ9ABAAAAhCHoAAAAAMIQdAAAAABhCDoAAACAMAQdAAAAQBiCDgAAACAMQQcAAAAQhqADAAAACEPQAQAAAIQh6AAAAADCEHQAAAAAYQg6AAAAgDAEHQAAAEAYgg4AAAAgDEEHAAAAEIagAwAAAAhD0AEAAACEIegAAAAAwhB0AAAAAGEIOgAAAIAwBB0AAABAGIIOAAAAIAxBBwAAABCGoAMAAAAIQ9ABAAAAhCHoAAAAAMIQdAAAAABhCDoAAACAMAQdAAAAQBiCDgAAACAMQQcAAAAQhqADAAAACEPQAQAAAIQh6AAAAADCEHQAAAAAYQg6AAAAgDAEHQAAAEAYgg4AAAAgDEEHAAAAEIagAwAAAAhD0AEAAACEIegAAAAAwhB0AAAAAGEIOgAAAIAwBB0AAABAGIIOAAAAIAxBBwAAABCGoAMAAAAIQ9ABAAAAhCHoAAAAAMIQdAAAAABhCDoAAACAMAQdAAAAQBiCDgAAACAMQQcAAAAQhqADAAAACEPQAQAAAIQh6AAAAADCEHQAAAAAYQg6AAAAgDAEHQAAAEAYgg4AAAAgDEEHAAAAEIagAwAAAAhD0AEAAACEIegAAAAAwhB0AAAAAGEIOgAAAIAwBB0AAABAGIIOAAAAIAxBBwAAABCGoAMAAAAIQ9ABAAAAhCHoAAAAAMIQdAAAAABhCDoAAACAMAQdAAAAQBiCDgAAACAMQQcAAAAQhqADAAAACEPQAQAAAIQh6AAAAADCEHQAAAAAYQg6AAAAgDAEHQAAAEAYgg4AAAAgDEEHAAAAEIagAwAAAAhD0AEAAACEIegAAAAAwhB0AAAAAGEIOgAAAIAwBB0AAABAGIIOAAAAIAxBBwAAABCGoAMAAAAIQ9ABAAAAhCHoAAAAAMIQdAAAAABhCDoAAACAMAQdAAAAQBiCDgAAACAMQQcAAAAQhqADAAAACEPQAQAAAIQh6AAAAADCEHQAAAAAYQg6AAAAgDAEHQAAAEAYgg4AAAAgDEEHAAAAEIagAwAAAAhD0AEAAACEIegAAAAAwhB0AAAAAGEIOgAAAIAwBB0AAABAGIIOAAAAIAxBBwAAABCGoAMAAAAIQ9ABAAAAhCHoAAAAAMIQdAAAAABhCDoAAACAMAQdAAAAQBiCDgAAACAMQQcAAAAQhqADAAAACEPQAQAAAIQh6AAAAADCEHQAAAAAYQg6AAAAgDAEHQAAAEAYgg4AAAAgDEEHAAAAEIagAwAAAAhD0AEAAACEIegAAAAAwhB0AAAAAGEIOgAAAIAwBB0AAABAGIIOAAAAIAxBBwAAABCGoAMAAAAIQ9ABAAAAhCHoAAAAAMIQdAAAAABhCDoAAACAMAQdAAAAQBiCDgAAACAMQQcAAAAQhqADAAAACEPQAQAAAIQh6AAAAADCEHQAAAAAYQg6AAAAgDAEHQAAAEAYgg4AAAAgDEEHAAAAEIagAwAAAAhD0AEAAACEIegAAAAAwhB0AAAAAGEIOgAAAIAwBB0AAABAGIIOAAAAIAxBBwAAAHAlvn3+m/Q3P3qc3h39fTr7+tvqp0P+X/r9r5+mvx79OP3FT36d/rX66aoEHQAAAMCGfZu+/t0v0w8/OknvHv94iaDjRfrNP/19ej8/tihBBwAAALAlJjMz3v3o79IPF83o+PYP6Zd/97P0F8cn6f3/8t/N6AAAAAC2xbfp6/NfpPdzaPGTX6bfvPjXdPaTv5kTdHyd/vd/+2l69/gn6Yf/9EX6+utfpx8KOgAAAICt8eL36ezs/6Tfl7nGVwuCjnyJy3n6n+d/KP5VEHQAAAAA22tR0NEh6AAAAAC2l6ADAAAACEPQAQAAAIQh6AAAAADCEHQAAAAAYQg6AAAAgDAEHQAAAMCN9iL95pefp3/4p18W9b/S4x89Tu+OfpYeP83/X9Qvf5++rh5ZevH7dFY+tqin/5j+OgcdP/rH9Pflzz5PZ797UT1wOYIOAAAAYHO+/SL97OOT9O7xj/vr439Ov2lN7vj2d/+c/rLvcWWdpL/8H1+kJeaCNAQdAAAAQBiCDgAAACAMQQcAAAAQhqADAAAACEPQAQAAAIQh6AAAAADCeOU//fwiqe2sf/ef/6tSSimllFLqllV699+qLa//+2/+WG1xCTq2uPoaPaWUUkoppVTs6htYq+2qvsG12p4SdGxx9TV6SimllFJKqdjVN7BW21V9g2u1PSXo2OLqa/SUUkoppZRSsatvYK22q/oG12p7StCxxdXX6CmllFJKKaViV9/AWm1X9Q2u1faUoGOLq6/RU0oppZRSSsWuvoG12q7qG1yr7SlBxxZXX6OnlFJKKaWUil19A2u1XdU3uFbbUn+c/j/6STV9d8gFRAAAAABJRU5ErkJggg==)"
   ]
  },
  {
   "cell_type": "code",
   "execution_count": null,
   "metadata": {
    "colab": {
     "base_uri": "https://localhost:8080/"
    },
    "id": "N5YfbhDxsZjk",
    "outputId": "3be8f7d6-b3b7-4f01-9c78-da8602807a94"
   },
   "outputs": [
    {
     "data": {
      "text/plain": [
       "3"
      ]
     },
     "execution_count": 107,
     "metadata": {
      "tags": []
     },
     "output_type": "execute_result"
    }
   ],
   "source": [
    "15//4"
   ]
  },
  {
   "cell_type": "code",
   "execution_count": null,
   "metadata": {
    "colab": {
     "base_uri": "https://localhost:8080/"
    },
    "id": "Qm2OCcm9sHmc",
    "outputId": "3b5673dc-fa87-4a8a-c1a7-39b9af671101"
   },
   "outputs": [
    {
     "name": "stdout",
     "output_type": "stream",
     "text": [
      "enter a time : 7400\n",
      "number of hours is : 2 , number of minutes is : 3 and number of seconds is : 20\n"
     ]
    }
   ],
   "source": [
    "t = int(input('enter a time : '))\n",
    "\n",
    "h = t//3600\n",
    "m = (t - h*3600)//60\n",
    "s = t - (h*3600 + m*60)\n",
    "\n",
    "print(f\"number of hours is : {h} , number of minutes is : {m} and number of seconds is : {s}\")"
   ]
  },
  {
   "cell_type": "code",
   "execution_count": null,
   "metadata": {
    "colab": {
     "base_uri": "https://localhost:8080/"
    },
    "id": "QFitjMO9XenZ",
    "outputId": "07574414-1c02-40da-fac1-e9848eed3a76"
   },
   "outputs": [
    {
     "name": "stdout",
     "output_type": "stream",
     "text": [
      "enter a time in seconds : 567568\n",
      "Your input is 157 hours, 39 minutes and 28 seconds \n"
     ]
    }
   ],
   "source": [
    "time = int(input('enter a time in seconds : '))\n",
    "\n",
    "hour = time //3600\n",
    "minute= (time - hour*3600)//60\n",
    "second= time - hour*3600 - minute*60\n",
    "\n",
    "\n",
    "print(f'Your input is {hour} hours, {minute} minutes and {second} seconds ')"
   ]
  },
  {
   "cell_type": "markdown",
   "metadata": {
    "id": "MJgFvsy3fjrh"
   },
   "source": [
    "____"
   ]
  },
  {
   "cell_type": "markdown",
   "metadata": {
    "id": "MSGfP4OTfjh-"
   },
   "source": [
    "_____________"
   ]
  },
  {
   "cell_type": "markdown",
   "metadata": {
    "id": "5-YI_IZ5kxkY"
   },
   "source": [
    "![Capture2.PNG](data:image/png;base64,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)"
   ]
  },
  {
   "cell_type": "code",
   "execution_count": null,
   "metadata": {
    "colab": {
     "base_uri": "https://localhost:8080/"
    },
    "id": "wTmJSdFMuLW6",
    "outputId": "e12185a3-ea75-4963-c3a2-2012a456e0ac"
   },
   "outputs": [
    {
     "name": "stdout",
     "output_type": "stream",
     "text": [
      "10\n",
      "12\n",
      "14\n",
      "16\n",
      "18\n",
      "20\n",
      "22\n",
      "24\n",
      "26\n",
      "28\n",
      "30\n",
      "32\n",
      "34\n",
      "36\n",
      "38\n",
      "40\n",
      "42\n",
      "44\n",
      "46\n",
      "48\n",
      "50\n",
      "52\n",
      "54\n",
      "56\n",
      "58\n",
      "60\n",
      "62\n",
      "64\n",
      "66\n",
      "68\n",
      "70\n",
      "72\n",
      "74\n",
      "76\n",
      "78\n",
      "80\n",
      "82\n",
      "84\n",
      "86\n",
      "88\n",
      "90\n",
      "92\n",
      "94\n",
      "96\n",
      "98\n"
     ]
    }
   ],
   "source": [
    "n=10\n",
    "while(n<100):\n",
    "  print(n)\n",
    "  #n=n+2\n",
    "  n+=2\n",
    "  \n"
   ]
  },
  {
   "cell_type": "code",
   "execution_count": null,
   "metadata": {
    "colab": {
     "base_uri": "https://localhost:8080/"
    },
    "id": "Lu9SLcQ9YUkK",
    "outputId": "b46c9c48-8cfd-4e67-ad44-f906fd57950a"
   },
   "outputs": [
    {
     "name": "stdout",
     "output_type": "stream",
     "text": [
      "10\n",
      "12\n",
      "14\n",
      "16\n",
      "18\n",
      "20\n",
      "22\n",
      "24\n",
      "26\n",
      "28\n",
      "30\n",
      "32\n",
      "34\n",
      "36\n",
      "38\n",
      "40\n",
      "42\n",
      "44\n",
      "46\n",
      "48\n",
      "50\n",
      "52\n",
      "54\n",
      "56\n",
      "58\n",
      "60\n",
      "62\n",
      "64\n",
      "66\n",
      "68\n",
      "70\n",
      "72\n",
      "74\n",
      "76\n",
      "78\n",
      "80\n",
      "82\n",
      "84\n",
      "86\n",
      "88\n",
      "90\n",
      "92\n",
      "94\n",
      "96\n",
      "98\n"
     ]
    }
   ],
   "source": [
    "n=10\n",
    "while(n<100):\n",
    "  print(n)\n",
    "  n+=2\n",
    "  #above command means n=n+2"
   ]
  },
  {
   "cell_type": "markdown",
   "metadata": {
    "id": "w2rLxv14lCLP"
   },
   "source": [
    "_________"
   ]
  },
  {
   "cell_type": "markdown",
   "metadata": {
    "id": "4NRgVGz0lDXv"
   },
   "source": [
    "_________"
   ]
  },
  {
   "cell_type": "markdown",
   "metadata": {
    "id": "pPpsH0L0oz_E"
   },
   "source": [
    "![Capture3.PNG](data:image/png;base64,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)"
   ]
  },
  {
   "cell_type": "code",
   "execution_count": null,
   "metadata": {
    "colab": {
     "base_uri": "https://localhost:8080/"
    },
    "id": "wtUTQZjmvqjL",
    "outputId": "3ab0eb8a-00aa-4164-a1da-0292487ad0b3"
   },
   "outputs": [
    {
     "data": {
      "text/plain": [
       "2"
      ]
     },
     "execution_count": 117,
     "metadata": {
      "tags": []
     },
     "output_type": "execute_result"
    }
   ],
   "source": [
    "17%5"
   ]
  },
  {
   "cell_type": "code",
   "execution_count": null,
   "metadata": {
    "colab": {
     "base_uri": "https://localhost:8080/"
    },
    "id": "UEl741DSvI7n",
    "outputId": "78fe5d1f-c982-4433-d459-7dd5bd1ab3ce"
   },
   "outputs": [
    {
     "name": "stdout",
     "output_type": "stream",
     "text": [
      "enter a natural number : 14\n",
      "13\n",
      "11\n",
      "9\n",
      "7\n",
      "5\n",
      "3\n",
      "1\n"
     ]
    }
   ],
   "source": [
    "n= int(input('enter a natural number : '))\n",
    "while(n>0):\n",
    "  if n%2==0: #it's an even number \n",
    "    print(n-1)\n",
    "    n=n-2\n",
    "  else:\n",
    "    print(n)\n",
    "    n=n-2"
   ]
  },
  {
   "cell_type": "code",
   "execution_count": null,
   "metadata": {
    "colab": {
     "base_uri": "https://localhost:8080/"
    },
    "id": "tkTCKPv8YiEs",
    "outputId": "0c37e4da-1ab5-4720-bf84-2595c7c7da91"
   },
   "outputs": [
    {
     "name": "stdout",
     "output_type": "stream",
     "text": [
      "enter a natural number : 13\n",
      "13\n",
      "11\n",
      "9\n",
      "7\n",
      "5\n",
      "3\n",
      "1\n"
     ]
    }
   ],
   "source": [
    "n=int(input('enter a natural number : '))\n",
    "\n",
    "while(n>0):\n",
    "  if n%2 !=0: #then it's odd\n",
    "    print(n)\n",
    "    n=n-2\n",
    "  else:\n",
    "    print(n-1)\n",
    "    n=n-2"
   ]
  },
  {
   "cell_type": "code",
   "execution_count": null,
   "metadata": {
    "colab": {
     "base_uri": "https://localhost:8080/"
    },
    "id": "7vpYIAH5xTq1",
    "outputId": "03b4dbbc-bcbd-48a1-e8b2-a4fc8cbbec2d"
   },
   "outputs": [
    {
     "name": "stdout",
     "output_type": "stream",
     "text": [
      "salam\n"
     ]
    }
   ],
   "source": [
    "if(3==3):\n",
    "  print('salam')"
   ]
  },
  {
   "cell_type": "markdown",
   "metadata": {
    "id": "1-fowmkPpZdY"
   },
   "source": [
    "_______"
   ]
  },
  {
   "cell_type": "markdown",
   "metadata": {
    "id": "FCERJZOkpYcU"
   },
   "source": [
    "_____"
   ]
  },
  {
   "cell_type": "markdown",
   "metadata": {
    "id": "dxnULb7uqoLC"
   },
   "source": [
    "![Capture4.PNG](data:image/png;base64,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)"
   ]
  },
  {
   "cell_type": "code",
   "execution_count": null,
   "metadata": {
    "colab": {
     "base_uri": "https://localhost:8080/"
    },
    "id": "9KDlulr7vI6R",
    "outputId": "ef5b1016-b613-4cfd-bc0f-abd87925a752"
   },
   "outputs": [
    {
     "name": "stdout",
     "output_type": "stream",
     "text": [
      "enter n : 5\n",
      "the desired summation is 2.283333333333333\n"
     ]
    }
   ],
   "source": [
    "n= int(input('enter n : '))\n",
    "s=0\n",
    "m=1\n",
    "while(m<=n):\n",
    "  s=s+1/m\n",
    "  m=m+1\n",
    "print(f\"the desired summation is {s}\")"
   ]
  },
  {
   "cell_type": "code",
   "execution_count": null,
   "metadata": {
    "colab": {
     "base_uri": "https://localhost:8080/"
    },
    "id": "RgjYHMuSoVNw",
    "outputId": "f6dd136f-bbaf-4bb7-fc17-27c7d50d070b"
   },
   "outputs": [
    {
     "name": "stdout",
     "output_type": "stream",
     "text": [
      "enter a natural number : 5\n",
      "2.283333333333333\n"
     ]
    }
   ],
   "source": [
    "N= int(input('enter a natural number : '))\n",
    "\n",
    "sum=0\n",
    "m=1\n",
    "\n",
    "while(m<=N):\n",
    "  sum=sum+ 1/m\n",
    "  m=m+1\n",
    "print(sum)"
   ]
  },
  {
   "cell_type": "markdown",
   "metadata": {
    "id": "1HuvgLRnsLy3"
   },
   "source": [
    "![Capture5.PNG](data:image/png;base64,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)"
   ]
  },
  {
   "cell_type": "code",
   "execution_count": null,
   "metadata": {
    "colab": {
     "base_uri": "https://localhost:8080/"
    },
    "id": "H6BkTho3Ur_d",
    "outputId": "d934002b-c3e3-405d-b4cf-9eb397d25b3f"
   },
   "outputs": [
    {
     "name": "stdout",
     "output_type": "stream",
     "text": [
      "enter a :3\n",
      "enter b :1\n",
      "enter c :5\n",
      "nope1\n"
     ]
    }
   ],
   "source": [
    "a= int(input('enter a :'))\n",
    "b= int(input('enter b :'))\n",
    "c= int(input('enter c :'))\n",
    "\n",
    "if a<b+c:\n",
    "  if b<a+c:\n",
    "    if c<a+b:\n",
    "      print('yup')\n",
    "    else:\n",
    "      print('nope1')\n",
    "  else:\n",
    "    print('nope2')\n",
    "else:\n",
    "  print('nope3')"
   ]
  },
  {
   "cell_type": "code",
   "execution_count": null,
   "metadata": {
    "colab": {
     "base_uri": "https://localhost:8080/"
    },
    "id": "6BrnOf24wDqT",
    "outputId": "460995f4-31fa-4fd7-870f-7f6585bcd116"
   },
   "outputs": [
    {
     "name": "stdout",
     "output_type": "stream",
     "text": [
      "enter a :5\n",
      "enter b :3\n",
      "enter c :1\n",
      "mosalas nist\n"
     ]
    }
   ],
   "source": [
    "a= int(input('enter a :'))\n",
    "b= int(input('enter b :'))\n",
    "c= int(input('enter c :'))\n",
    "\n",
    "if (a<=b+c) and (b<=a+c) and (c<=a+b):\n",
    "  print('in yek mosalas ast')\n",
    "else:\n",
    "  print('mosalas nist')"
   ]
  },
  {
   "cell_type": "code",
   "execution_count": null,
   "metadata": {
    "colab": {
     "base_uri": "https://localhost:8080/"
    },
    "id": "34vIY_Q_qaOg",
    "outputId": "41f56b34-d711-4773-b324-1937ed273378"
   },
   "outputs": [
    {
     "name": "stdout",
     "output_type": "stream",
     "text": [
      "enter a : 3\n",
      "enter b : 2\n",
      "enter c : 6\n",
      "you can NOT build a triangle\n"
     ]
    }
   ],
   "source": [
    "a = int(input('enter a : '))\n",
    "b = int(input('enter b : '))\n",
    "c = int(input('enter c : '))\n",
    "\n",
    "\n",
    "if a+b>=c and b+c>=a and c+a>=b:\n",
    "  print('you can build a triangle')\n",
    "else:\n",
    "  print('you can NOT build a triangle')\n"
   ]
  },
  {
   "cell_type": "markdown",
   "metadata": {
    "id": "JOOpVvkaw2mq"
   },
   "source": [
    "_______"
   ]
  },
  {
   "cell_type": "markdown",
   "metadata": {
    "id": "o8D0Ua0lw1zK"
   },
   "source": [
    "___"
   ]
  },
  {
   "cell_type": "markdown",
   "metadata": {
    "id": "UTA4UTLWw32s"
   },
   "source": [
    "![Capture6.PNG](data:image/png;base64,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)"
   ]
  },
  {
   "cell_type": "code",
   "execution_count": null,
   "metadata": {
    "colab": {
     "base_uri": "https://localhost:8080/"
    },
    "id": "jCMb0QiNwvHz",
    "outputId": "6bfab11a-408e-4ac2-f88e-81ae07fa1fb7"
   },
   "outputs": [
    {
     "name": "stdout",
     "output_type": "stream",
     "text": [
      "enter something : 2\n",
      "enter something : 2\n",
      "enter something : 2\n",
      "enter something : 2\n",
      "8\n"
     ]
    }
   ],
   "source": [
    "s=0\n",
    "for i in range (4):\n",
    "  s=s+ int(input('enter something : '))\n",
    "\n",
    "print(s)"
   ]
  },
  {
   "cell_type": "code",
   "execution_count": null,
   "metadata": {
    "colab": {
     "base_uri": "https://localhost:8080/"
    },
    "id": "yNzJS7Z4sO6A",
    "outputId": "0a55914b-766c-41cf-eead-b8d06cb609d6"
   },
   "outputs": [
    {
     "name": "stdout",
     "output_type": "stream",
     "text": [
      "please enter number 1  : 1\n",
      "please enter number 2  : 2\n",
      "please enter number 3  : 3\n",
      "please enter number 4  : 4\n",
      "please enter number 5  : 5\n",
      "The summation of the entered numbers is :  15\n"
     ]
    }
   ],
   "source": [
    "#this program is for 5 numbers, you can change 5 to 100\n",
    "sum=0\n",
    "for i in range(5):\n",
    "  sum=sum + int(input(f\"please enter number {i+1}  : \"))\n",
    "\n",
    "print('The summation of the entered numbers is : ',sum)"
   ]
  },
  {
   "cell_type": "markdown",
   "metadata": {
    "id": "3WjFwINr94hQ"
   },
   "source": [
    "_________"
   ]
  },
  {
   "cell_type": "markdown",
   "metadata": {
    "id": "jo87P-oP955B"
   },
   "source": [
    "________"
   ]
  },
  {
   "cell_type": "markdown",
   "metadata": {
    "id": "Q0pphT4H965c"
   },
   "source": [
    "![Capture7.PNG](data:image/png;base64,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)"
   ]
  },
  {
   "cell_type": "code",
   "execution_count": null,
   "metadata": {
    "colab": {
     "base_uri": "https://localhost:8080/"
    },
    "id": "FVW3h9kd-cc_",
    "outputId": "332eebac-7398-4d87-8058-10f3ba34c663"
   },
   "outputs": [
    {
     "data": {
      "text/plain": [
       "[]"
      ]
     },
     "execution_count": 10,
     "metadata": {
      "tags": []
     },
     "output_type": "execute_result"
    }
   ],
   "source": [
    "x=[]\n",
    "x"
   ]
  },
  {
   "cell_type": "code",
   "execution_count": null,
   "metadata": {
    "colab": {
     "base_uri": "https://localhost:8080/"
    },
    "id": "FXNa3qIO7zQS",
    "outputId": "a9740423-8496-4fa7-db7f-6c4e55aefc29"
   },
   "outputs": [
    {
     "data": {
      "text/plain": [
       "[1, 2, 3, 'apple']"
      ]
     },
     "execution_count": 45,
     "metadata": {
      "tags": []
     },
     "output_type": "execute_result"
    }
   ],
   "source": [
    "x=[1,2,3,'apple']\n",
    "x"
   ]
  },
  {
   "cell_type": "code",
   "execution_count": null,
   "metadata": {
    "colab": {
     "base_uri": "https://localhost:8080/"
    },
    "id": "8UBz860PxQW5",
    "outputId": "d192e246-eefc-45de-c0b2-496437ec879f"
   },
   "outputs": [
    {
     "data": {
      "text/plain": [
       "1"
      ]
     },
     "execution_count": 46,
     "metadata": {
      "tags": []
     },
     "output_type": "execute_result"
    }
   ],
   "source": [
    "x[0]"
   ]
  },
  {
   "cell_type": "code",
   "execution_count": null,
   "metadata": {
    "colab": {
     "base_uri": "https://localhost:8080/"
    },
    "id": "fNqLJG_GcQC1",
    "outputId": "0e7c7fe8-6bae-44d4-a8f8-e7ffbc6a043d"
   },
   "outputs": [
    {
     "data": {
      "text/plain": [
       "4"
      ]
     },
     "execution_count": 47,
     "metadata": {
      "tags": []
     },
     "output_type": "execute_result"
    }
   ],
   "source": [
    "len(x)"
   ]
  },
  {
   "cell_type": "code",
   "execution_count": null,
   "metadata": {
    "colab": {
     "base_uri": "https://localhost:8080/",
     "height": 36
    },
    "id": "3VKt8QOW-lAk",
    "outputId": "308de9ad-7cad-464e-8b4e-4b13b8bd8069"
   },
   "outputs": [
    {
     "data": {
      "application/vnd.google.colaboratory.intrinsic+json": {
       "type": "string"
      },
      "text/plain": [
       "'apple'"
      ]
     },
     "execution_count": 12,
     "metadata": {
      "tags": []
     },
     "output_type": "execute_result"
    }
   ],
   "source": [
    "x[3]"
   ]
  },
  {
   "cell_type": "code",
   "execution_count": null,
   "metadata": {
    "colab": {
     "base_uri": "https://localhost:8080/"
    },
    "id": "fS7dLnYu72bn",
    "outputId": "d9e98ce7-6393-4b16-bdf0-70b019a70ad6"
   },
   "outputs": [
    {
     "data": {
      "text/plain": [
       "[1, 2, 3, 'apple', 'orange']"
      ]
     },
     "execution_count": 48,
     "metadata": {
      "tags": []
     },
     "output_type": "execute_result"
    }
   ],
   "source": [
    "x.append('orange')\n",
    "x"
   ]
  },
  {
   "cell_type": "code",
   "execution_count": null,
   "metadata": {
    "colab": {
     "base_uri": "https://localhost:8080/"
    },
    "id": "NqO0eBGf7-hE",
    "outputId": "b3d89aaa-0122-4a65-a6b7-c89aa4bd5613"
   },
   "outputs": [
    {
     "data": {
      "text/plain": [
       "[1, 2, 3, 'apple', 'orange', 6]"
      ]
     },
     "execution_count": 14,
     "metadata": {
      "tags": []
     },
     "output_type": "execute_result"
    }
   ],
   "source": [
    "x.append(6)\n",
    "x"
   ]
  },
  {
   "cell_type": "markdown",
   "metadata": {
    "id": "RjTAZrItcrKL"
   },
   "source": [
    "1 , 2  , 3   , .... ,  n/3 , n/2 , n"
   ]
  },
  {
   "cell_type": "code",
   "execution_count": null,
   "metadata": {
    "colab": {
     "base_uri": "https://localhost:8080/"
    },
    "id": "rvzgs8lCxdlp",
    "outputId": "ba3b6279-6534-4a32-82fe-f38b55a3cb27"
   },
   "outputs": [
    {
     "name": "stdout",
     "output_type": "stream",
     "text": [
      "enter an integer :  12\n",
      "the diviors are [1, 2, 3, 4, 6, 12] and the number of divisors is 6\n"
     ]
    }
   ],
   "source": [
    "d=[]\n",
    "n=int(input('enter an integer :  '))\n",
    "\n",
    "for i in range(1,(n//2)+1):\n",
    "  if n%i==0 :\n",
    "    d.append(i)\n",
    "d.append(n)\n",
    "print(f\"the diviors are {d} and the number of divisors is {len(d)}\")"
   ]
  },
  {
   "cell_type": "code",
   "execution_count": null,
   "metadata": {
    "colab": {
     "base_uri": "https://localhost:8080/"
    },
    "id": "BIQpdMwuyuam",
    "outputId": "1c169fb0-602c-468e-d0f6-f69bf1ea43f1"
   },
   "outputs": [
    {
     "data": {
      "text/plain": [
       "28"
      ]
     },
     "execution_count": 53,
     "metadata": {
      "tags": []
     },
     "output_type": "execute_result"
    }
   ],
   "source": [
    "import numpy as np\n",
    "\n",
    "np.sum(d)"
   ]
  },
  {
   "cell_type": "code",
   "execution_count": null,
   "metadata": {
    "colab": {
     "base_uri": "https://localhost:8080/"
    },
    "id": "WiySdZkVy7DA",
    "outputId": "0e6ce425-0a39-4e49-fd64-c80a4d86e569"
   },
   "outputs": [
    {
     "data": {
      "text/plain": [
       "28"
      ]
     },
     "execution_count": 54,
     "metadata": {
      "tags": []
     },
     "output_type": "execute_result"
    }
   ],
   "source": [
    "s=0\n",
    "for i in d :\n",
    "  s=s+i\n",
    "s"
   ]
  },
  {
   "cell_type": "code",
   "execution_count": null,
   "metadata": {
    "colab": {
     "base_uri": "https://localhost:8080/"
    },
    "id": "LC2U2zFvslwf",
    "outputId": "756f6293-833f-4647-ad7b-f85c13a26c99"
   },
   "outputs": [
    {
     "name": "stdout",
     "output_type": "stream",
     "text": [
      "enter a number : 30\n",
      "The divisors of the entered number are :  [1, 2, 3, 5, 6, 10, 15, 30]\n",
      "your entered number has 8 divisors\n",
      "summation of the divisors for the entered number is : 72 \n",
      "72\n"
     ]
    }
   ],
   "source": [
    "N= int(input('enter a number : '))\n",
    "div=[]\n",
    "for i in range(1,(int(N/2)+1)):\n",
    "  if N%i ==0 :\n",
    "    div.append(i)\n",
    "div.append(N)\n",
    "\n",
    "print('The divisors of the entered number are : ',div)\n",
    "print(f'your entered number has {len(div)} divisors')\n",
    "\n",
    "sum=0\n",
    "for j in div :\n",
    "  sum=sum+j\n",
    "#alternative\n",
    "import numpy as np\n",
    "sum1=np.sum(div)\n",
    "\n",
    "print(f'summation of the divisors for the entered number is : {sum} ')\n",
    "print(sum1)"
   ]
  },
  {
   "cell_type": "markdown",
   "metadata": {
    "id": "72NUh29knuFl"
   },
   "source": [
    "_____________"
   ]
  },
  {
   "cell_type": "markdown",
   "metadata": {
    "id": "Gdm5EXB-nt-x"
   },
   "source": [
    "________"
   ]
  },
  {
   "cell_type": "markdown",
   "metadata": {
    "id": "vl0HddG8wmbn"
   },
   "source": [
    "![Capture8.PNG](data:image/png;base64,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)"
   ]
  },
  {
   "cell_type": "code",
   "execution_count": null,
   "metadata": {
    "id": "eVT4IipPVwWC"
   },
   "outputs": [],
   "source": [
    "x=[1,2,3,4]"
   ]
  },
  {
   "cell_type": "code",
   "execution_count": null,
   "metadata": {
    "colab": {
     "base_uri": "https://localhost:8080/"
    },
    "id": "8RGXU35vV18d",
    "outputId": "76078946-03c7-4af7-fdfc-7753c4ed3d0c"
   },
   "outputs": [
    {
     "data": {
      "text/plain": [
       "4"
      ]
     },
     "execution_count": 42,
     "metadata": {
      "tags": []
     },
     "output_type": "execute_result"
    }
   ],
   "source": [
    "x[-1]"
   ]
  },
  {
   "cell_type": "code",
   "execution_count": null,
   "metadata": {
    "colab": {
     "base_uri": "https://localhost:8080/"
    },
    "id": "FkZZ1Ps_V4di",
    "outputId": "f7a05072-9530-41e7-8a21-2efd23983041"
   },
   "outputs": [
    {
     "data": {
      "text/plain": [
       "[1, 2, 3]"
      ]
     },
     "execution_count": 48,
     "metadata": {
      "tags": []
     },
     "output_type": "execute_result"
    }
   ],
   "source": [
    "x[:-1]"
   ]
  },
  {
   "cell_type": "markdown",
   "metadata": {
    "id": "6WttjbH3WhSb"
   },
   "source": [
    "1, 2, 3, ... , n/3 , n/2 , n"
   ]
  },
  {
   "cell_type": "code",
   "execution_count": null,
   "metadata": {
    "id": "oPGo3zgFWMIF"
   },
   "outputs": [],
   "source": [
    "def div_finder(n):\n",
    "  div=[]\n",
    "  for i in range(1,(n//2 )+1):\n",
    "    if n%i==0 :\n",
    "      div.append(i)\n",
    "  div.append(n)\n",
    "\n",
    "  return div"
   ]
  },
  {
   "cell_type": "code",
   "execution_count": null,
   "metadata": {
    "colab": {
     "base_uri": "https://localhost:8080/"
    },
    "id": "8-xxTREwGMPb",
    "outputId": "5fb799de-80cf-4a1d-cb03-14e583412f42"
   },
   "outputs": [
    {
     "data": {
      "text/plain": [
       "[1, 2, 3, 4, 5, 6, 10, 12, 15, 20, 30, 60]"
      ]
     },
     "execution_count": 53,
     "metadata": {
      "tags": []
     },
     "output_type": "execute_result"
    }
   ],
   "source": [
    "x=div_finder(60)\n",
    "x"
   ]
  },
  {
   "cell_type": "code",
   "execution_count": null,
   "metadata": {
    "colab": {
     "base_uri": "https://localhost:8080/"
    },
    "id": "xhApLhS0GZgZ",
    "outputId": "e7bab757-aff3-4d1c-eb53-e6498a519f1f"
   },
   "outputs": [
    {
     "data": {
      "text/plain": [
       "[1, 2, 4, 7, 14, 28]"
      ]
     },
     "execution_count": 58,
     "metadata": {
      "tags": []
     },
     "output_type": "execute_result"
    }
   ],
   "source": [
    "div_finder(28)"
   ]
  },
  {
   "cell_type": "code",
   "execution_count": null,
   "metadata": {
    "colab": {
     "base_uri": "https://localhost:8080/"
    },
    "id": "5yzUMC-dXQxD",
    "outputId": "c39a2a60-a9aa-4524-f1c6-7c68c8e34e27"
   },
   "outputs": [
    {
     "name": "stdout",
     "output_type": "stream",
     "text": [
      "enter a number: 28\n",
      "adad kamel ast\n"
     ]
    }
   ],
   "source": [
    "n=int(input('enter a number: '))\n",
    "x=div_finder(n)\n",
    "if sum(x[:-1])<=n :\n",
    "  print('adad kamel ast')\n",
    "else:\n",
    "  print('kamel nist')"
   ]
  },
  {
   "cell_type": "code",
   "execution_count": null,
   "metadata": {
    "id": "hVQzOAglt8XZ"
   },
   "outputs": [],
   "source": [
    "def div_finder(N):\n",
    "  div=[]\n",
    "  for i in range(1,(int(N/2)+1)):\n",
    "    if N%i ==0 :\n",
    "      div.append(i)\n",
    "  div.append(N)\n",
    "  return div\n"
   ]
  },
  {
   "cell_type": "code",
   "execution_count": null,
   "metadata": {
    "colab": {
     "base_uri": "https://localhost:8080/"
    },
    "id": "D_ha8kjPd_cQ",
    "outputId": "3768a72b-9995-4565-e996-2fcbdadc01f0"
   },
   "outputs": [
    {
     "data": {
      "text/plain": [
       "[1, 2, 3, 4, 5, 6, 10, 12, 15, 20, 30, 60]"
      ]
     },
     "execution_count": 4,
     "metadata": {
      "tags": []
     },
     "output_type": "execute_result"
    }
   ],
   "source": [
    "div=div_finder(60)\n",
    "div"
   ]
  },
  {
   "cell_type": "code",
   "execution_count": null,
   "metadata": {
    "colab": {
     "base_uri": "https://localhost:8080/"
    },
    "id": "1Q3U40Rhuy1C",
    "outputId": "67fb77ab-3462-4390-86c9-6352ab8f1832"
   },
   "outputs": [
    {
     "data": {
      "text/plain": [
       "[1, 2, 3, 4, 5, 6, 10, 12, 15, 20, 30]"
      ]
     },
     "execution_count": 5,
     "metadata": {
      "tags": []
     },
     "output_type": "execute_result"
    }
   ],
   "source": [
    "div[:-1]"
   ]
  },
  {
   "cell_type": "code",
   "execution_count": null,
   "metadata": {
    "colab": {
     "base_uri": "https://localhost:8080/"
    },
    "id": "zh73GsqPCEFY",
    "outputId": "b8dfa2b6-1420-46b5-ea29-7e6ded4a529d"
   },
   "outputs": [
    {
     "name": "stdout",
     "output_type": "stream",
     "text": [
      "enter a natural number  : 28\n",
      "28 is a complete number\n"
     ]
    }
   ],
   "source": [
    "N=int(input('enter a natural number  : '))\n",
    "\n",
    "div=div_finder(N)\n",
    "if np.sum(div[:-1])<=N:\n",
    "  print(f'{N} is a complete number')"
   ]
  },
  {
   "cell_type": "markdown",
   "metadata": {
    "id": "ojimcfxO0BCw"
   },
   "source": [
    "________________"
   ]
  },
  {
   "cell_type": "markdown",
   "metadata": {
    "id": "a6NE-iRX0A_Z"
   },
   "source": [
    "____________"
   ]
  },
  {
   "cell_type": "markdown",
   "metadata": {
    "id": "JWpReBXv0A9C"
   },
   "source": [
    "![Capture9.PNG](data:image/png;base64,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)"
   ]
  },
  {
   "cell_type": "code",
   "execution_count": null,
   "metadata": {
    "id": "slDFbFqmX2XA"
   },
   "outputs": [],
   "source": [
    "def fact(n):\n",
    "  if n==1:\n",
    "    return 1\n",
    "  else:\n",
    "    return n*fact(n-1)"
   ]
  },
  {
   "cell_type": "code",
   "execution_count": null,
   "metadata": {
    "colab": {
     "base_uri": "https://localhost:8080/"
    },
    "id": "BOHQp5OIYYuw",
    "outputId": "4a2aa2b5-31d0-4d67-98f4-d10b7e3639f1"
   },
   "outputs": [
    {
     "data": {
      "text/plain": [
       "120"
      ]
     },
     "execution_count": 62,
     "metadata": {
      "tags": []
     },
     "output_type": "execute_result"
    }
   ],
   "source": [
    "fact(5)"
   ]
  },
  {
   "cell_type": "code",
   "execution_count": null,
   "metadata": {
    "colab": {
     "base_uri": "https://localhost:8080/"
    },
    "id": "bkWmRR6vYdao",
    "outputId": "6b761ccb-4704-46df-fb18-ffc940bb126f"
   },
   "outputs": [
    {
     "name": "stdout",
     "output_type": "stream",
     "text": [
      "enter a number : 6\n",
      "6! is 720\n"
     ]
    }
   ],
   "source": [
    "n=int(input('enter a number : '))\n",
    "print(f\"{n}! is {fact(n)}\")"
   ]
  },
  {
   "cell_type": "code",
   "execution_count": null,
   "metadata": {
    "colab": {
     "base_uri": "https://localhost:8080/"
    },
    "id": "JxcJeQV0Yr2X",
    "outputId": "9df534f5-306b-437c-83b0-3b8e0e46768b"
   },
   "outputs": [
    {
     "name": "stdout",
     "output_type": "stream",
     "text": [
      "enter  :5\n",
      "5 factorial is 120\n"
     ]
    }
   ],
   "source": [
    "n=int(input(\"enter  :\"))\n",
    "fct=1\n",
    "nn=n\n",
    "while(n>0):\n",
    "  fct=fct*n\n",
    "  n=n-1\n",
    "print(nn,'factorial is',fct)"
   ]
  },
  {
   "cell_type": "code",
   "execution_count": null,
   "metadata": {
    "colab": {
     "base_uri": "https://localhost:8080/"
    },
    "id": "E527X5NLDlwv",
    "outputId": "83e70897-ae32-4ef7-857a-7639a6b2aeb8"
   },
   "outputs": [
    {
     "name": "stdout",
     "output_type": "stream",
     "text": [
      "enter a natural number : 3\n",
      "3! is equal to 6\n"
     ]
    }
   ],
   "source": [
    "#recursive approach\n",
    "def fact(n):\n",
    "  if n==1:\n",
    "    return 1\n",
    "  else:\n",
    "    return n*fact(n-1)\n",
    "\n",
    "N=int(input('enter a natural number : '))\n",
    "print(f'{N}! is equal to {fact(N)}')\n"
   ]
  },
  {
   "cell_type": "code",
   "execution_count": null,
   "metadata": {
    "colab": {
     "base_uri": "https://localhost:8080/"
    },
    "id": "J-d4mvws1wE5",
    "outputId": "8efbd115-bb6c-4bed-dcc2-98f1b6abb23a"
   },
   "outputs": [
    {
     "name": "stdout",
     "output_type": "stream",
     "text": [
      "enter a natural number : 6\n",
      "6! is equal to 720\n"
     ]
    }
   ],
   "source": [
    "N=int(input('enter a natural number : '))\n",
    "fact=1\n",
    "n=N\n",
    "while(N>0):\n",
    "  fact=fact*N\n",
    "  N=N-1\n",
    "\n",
    "print(f'{n}! is equal to {fact}')"
   ]
  },
  {
   "cell_type": "markdown",
   "metadata": {
    "id": "zylcRCIb3uMD"
   },
   "source": [
    "__________"
   ]
  },
  {
   "cell_type": "markdown",
   "metadata": {
    "id": "wfSX5KY63uDr"
   },
   "source": [
    "_____________"
   ]
  },
  {
   "cell_type": "markdown",
   "metadata": {
    "id": "VG2Ceisw3xOo"
   },
   "source": [
    "![Capture10.PNG](data:image/png;base64,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)"
   ]
  },
  {
   "cell_type": "code",
   "execution_count": null,
   "metadata": {
    "colab": {
     "base_uri": "https://localhost:8080/"
    },
    "id": "A9GsznStba7L",
    "outputId": "07013cd2-e78e-4a43-a6be-1f657f57c2f5"
   },
   "outputs": [
    {
     "data": {
      "text/plain": [
       "27"
      ]
     },
     "execution_count": 69,
     "metadata": {
      "tags": []
     },
     "output_type": "execute_result"
    }
   ],
   "source": [
    "3**3"
   ]
  },
  {
   "cell_type": "code",
   "execution_count": null,
   "metadata": {
    "colab": {
     "base_uri": "https://localhost:8080/"
    },
    "id": "rOdI_O_-Z5MJ",
    "outputId": "e4aae2d2-99bb-4a4e-f222-07ec2512eb36"
   },
   "outputs": [
    {
     "name": "stdout",
     "output_type": "stream",
     "text": [
      "enter a number : 4\n",
      "the summation is 0.5833333333333334\n"
     ]
    }
   ],
   "source": [
    "n=int(input('enter a number : '))\n",
    "s=0\n",
    "num=1\n",
    "denum=2\n",
    "i=0\n",
    "while(denum<=n):\n",
    "  while(num<n):\n",
    "    s=s+ (-1)**(i)*(num/denum)\n",
    "    i=i+1\n",
    "    denum=denum+1\n",
    "    num+=1\n",
    "print(f\"the summation is {s}\")"
   ]
  },
  {
   "cell_type": "code",
   "execution_count": null,
   "metadata": {
    "colab": {
     "base_uri": "https://localhost:8080/"
    },
    "id": "raTLner73Z_m",
    "outputId": "e6db6ce0-e199-48bb-f31d-35c4faab5f67"
   },
   "outputs": [
    {
     "name": "stdout",
     "output_type": "stream",
     "text": [
      "enter a natural number : 4\n",
      "summation for N = 4 is : 0.5833333333333334\n"
     ]
    }
   ],
   "source": [
    "N= int (input('enter a natural number : '))\n",
    "\n",
    "num=1\n",
    "denum=2\n",
    "sum=0\n",
    "i=0\n",
    "while(denum<=N):\n",
    "  while(num<N):\n",
    "    sum=sum + (-1)**(i)*(num/denum)\n",
    "    i=i+1\n",
    "    denum=denum+1\n",
    "    num=num+1\n",
    "print(f'summation for N = {N} is : {sum}')\n"
   ]
  },
  {
   "cell_type": "markdown",
   "metadata": {
    "id": "d4Fdr63W7Nqs"
   },
   "source": [
    "________"
   ]
  },
  {
   "cell_type": "markdown",
   "metadata": {
    "id": "wBenWAJ57NnT"
   },
   "source": [
    "_________"
   ]
  },
  {
   "cell_type": "markdown",
   "metadata": {
    "id": "YzbeIHruW-iS"
   },
   "source": [
    "![Capture11.PNG](data:image/png;base64,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)"
   ]
  },
  {
   "cell_type": "code",
   "execution_count": null,
   "metadata": {
    "colab": {
     "base_uri": "https://localhost:8080/"
    },
    "id": "RdwZHYkncHbO",
    "outputId": "06d3aa6e-cb81-4dc9-9c94-342a135d69eb"
   },
   "outputs": [
    {
     "data": {
      "text/plain": [
       "[1, 2, 3, 4, 6, 12]"
      ]
     },
     "execution_count": 70,
     "metadata": {
      "tags": []
     },
     "output_type": "execute_result"
    }
   ],
   "source": [
    "div_finder(12)"
   ]
  },
  {
   "cell_type": "code",
   "execution_count": null,
   "metadata": {
    "colab": {
     "base_uri": "https://localhost:8080/"
    },
    "id": "NPLmVhnbcPMj",
    "outputId": "900f5f33-ed00-4595-ea06-f19b37df7f4a"
   },
   "outputs": [
    {
     "data": {
      "text/plain": [
       "[1, 2, 3, 5, 6, 10, 15, 30]"
      ]
     },
     "execution_count": 71,
     "metadata": {
      "tags": []
     },
     "output_type": "execute_result"
    }
   ],
   "source": [
    "div_finder(30)"
   ]
  },
  {
   "cell_type": "code",
   "execution_count": null,
   "metadata": {
    "colab": {
     "base_uri": "https://localhost:8080/"
    },
    "id": "BZQu_yQpc4Qv",
    "outputId": "93be4315-9599-47fe-c1c9-6e180c0967e3"
   },
   "outputs": [
    {
     "data": {
      "text/plain": [
       "20"
      ]
     },
     "execution_count": 72,
     "metadata": {
      "tags": []
     },
     "output_type": "execute_result"
    }
   ],
   "source": [
    "abs(-20)"
   ]
  },
  {
   "cell_type": "code",
   "execution_count": null,
   "metadata": {
    "colab": {
     "base_uri": "https://localhost:8080/"
    },
    "id": "5Oojtl8fb6QL",
    "outputId": "65e35d27-e8d3-46a5-fedb-9a3dbaf5657c"
   },
   "outputs": [
    {
     "name": "stdout",
     "output_type": "stream",
     "text": [
      "enter the firdt number: 12\n",
      "enter the second number : 30\n",
      "gcd is 6 and lcm is 60.0\n"
     ]
    }
   ],
   "source": [
    "n=int(input('enter the firdt number: '))\n",
    "m=int(input('enter the second number : '))\n",
    "lst_n=div_finder(n)\n",
    "lst_m=div_finder(m)\n",
    "cm=[]\n",
    "for i in lst_n:\n",
    "  for j in lst_m:\n",
    "    if j==i:\n",
    "      cm.append(j)\n",
    "gcd=max(cm)\n",
    "lcm=abs(n*m)/gcd\n",
    "\n",
    "print(f\"gcd is {gcd} and lcm is {lcm}\")"
   ]
  },
  {
   "cell_type": "code",
   "execution_count": null,
   "metadata": {
    "colab": {
     "base_uri": "https://localhost:8080/"
    },
    "id": "DVe4U2qCgeqF",
    "outputId": "788b6173-0d1f-4787-fec5-d3cc7b736d31"
   },
   "outputs": [
    {
     "data": {
      "text/plain": [
       "[1, 2, 3, 4, 6, 12]"
      ]
     },
     "execution_count": 30,
     "metadata": {
      "tags": []
     },
     "output_type": "execute_result"
    }
   ],
   "source": [
    "div_finder(12)"
   ]
  },
  {
   "cell_type": "code",
   "execution_count": null,
   "metadata": {
    "colab": {
     "base_uri": "https://localhost:8080/"
    },
    "id": "PIESdsvBggcF",
    "outputId": "1040cf03-a5e0-407d-aa7c-ae85fd9bccbb"
   },
   "outputs": [
    {
     "data": {
      "text/plain": [
       "[1, 2, 3, 5, 6, 10, 15, 30]"
      ]
     },
     "execution_count": 31,
     "metadata": {
      "tags": []
     },
     "output_type": "execute_result"
    }
   ],
   "source": [
    "div_finder(30)"
   ]
  },
  {
   "cell_type": "code",
   "execution_count": null,
   "metadata": {
    "colab": {
     "base_uri": "https://localhost:8080/"
    },
    "id": "fioxVSnS5uAH",
    "outputId": "0e3a8a97-84d2-45eb-8704-03b32f15e62d"
   },
   "outputs": [
    {
     "name": "stdout",
     "output_type": "stream",
     "text": [
      "enter a natural number : 12\n",
      "enter another natural number : 30\n",
      "the greatest common divisor of 12 and 30 is 6, and the least common multiple of 12 and 30 is 60.0\n"
     ]
    }
   ],
   "source": [
    "N=int(input('enter a natural number : '))\n",
    "M=int(input('enter another natural number : '))\n",
    "cm=[]\n",
    "lst_n=div_finder(N)\n",
    "lst_m=div_finder(M)\n",
    "\n",
    "for i in lst_n:\n",
    "  for j in lst_m:\n",
    "    if i==j:\n",
    "      cm.append(j)\n",
    "\n",
    "\n",
    "gcd=max(cm)\n",
    "lcm=abs(M*N)/gcd\n",
    "\n",
    "print(f'the greatest common divisor of {N} and {M} is {gcd}, and the least common multiple of {N} and {M} is {lcm}')"
   ]
  },
  {
   "cell_type": "markdown",
   "metadata": {
    "id": "rq2kzn2WXOxn"
   },
   "source": [
    "_______"
   ]
  },
  {
   "cell_type": "markdown",
   "metadata": {
    "id": "6xk8XvxhXOuL"
   },
   "source": [
    "________"
   ]
  },
  {
   "cell_type": "markdown",
   "metadata": {
    "id": "A7uMoJGYXWfY"
   },
   "source": [
    "![Capture12.PNG](data:image/png;base64,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)"
   ]
  },
  {
   "cell_type": "code",
   "execution_count": null,
   "metadata": {
    "colab": {
     "base_uri": "https://localhost:8080/"
    },
    "id": "hSgtdmZ0dRjD",
    "outputId": "10d7d5c4-3dc3-4017-b9ef-6eb17f983f2f"
   },
   "outputs": [
    {
     "data": {
      "text/plain": [
       "3"
      ]
     },
     "execution_count": 74,
     "metadata": {
      "tags": []
     },
     "output_type": "execute_result"
    }
   ],
   "source": [
    "123%10"
   ]
  },
  {
   "cell_type": "code",
   "execution_count": null,
   "metadata": {
    "colab": {
     "base_uri": "https://localhost:8080/"
    },
    "id": "vS3YodQcdY4_",
    "outputId": "a35e747a-e6d9-4e31-a0b8-2f390003cef3"
   },
   "outputs": [
    {
     "data": {
      "text/plain": [
       "12"
      ]
     },
     "execution_count": 75,
     "metadata": {
      "tags": []
     },
     "output_type": "execute_result"
    }
   ],
   "source": [
    "123//10"
   ]
  },
  {
   "cell_type": "code",
   "execution_count": null,
   "metadata": {
    "colab": {
     "base_uri": "https://localhost:8080/"
    },
    "id": "NU3ZkY5Wdcgd",
    "outputId": "6f90b312-8db4-4ea8-c4a9-1af15cf5120d"
   },
   "outputs": [
    {
     "data": {
      "text/plain": [
       "2"
      ]
     },
     "execution_count": 76,
     "metadata": {
      "tags": []
     },
     "output_type": "execute_result"
    }
   ],
   "source": [
    "12%10"
   ]
  },
  {
   "cell_type": "code",
   "execution_count": null,
   "metadata": {
    "colab": {
     "base_uri": "https://localhost:8080/"
    },
    "id": "feDiJoqOdd6g",
    "outputId": "a00c3512-1518-4fe4-b5ac-0d8fe138c417"
   },
   "outputs": [
    {
     "data": {
      "text/plain": [
       "1"
      ]
     },
     "execution_count": 77,
     "metadata": {
      "tags": []
     },
     "output_type": "execute_result"
    }
   ],
   "source": [
    "12//10"
   ]
  },
  {
   "cell_type": "code",
   "execution_count": null,
   "metadata": {
    "colab": {
     "base_uri": "https://localhost:8080/"
    },
    "id": "iEdsVClMdf__",
    "outputId": "4bb0a87c-1140-4194-c58e-453d2feca02f"
   },
   "outputs": [
    {
     "data": {
      "text/plain": [
       "1"
      ]
     },
     "execution_count": 78,
     "metadata": {
      "tags": []
     },
     "output_type": "execute_result"
    }
   ],
   "source": [
    "1%10"
   ]
  },
  {
   "cell_type": "code",
   "execution_count": null,
   "metadata": {
    "colab": {
     "base_uri": "https://localhost:8080/"
    },
    "id": "YUPGNL2udiIb",
    "outputId": "af7a1026-49ff-43d8-9745-53e873e181a1"
   },
   "outputs": [
    {
     "data": {
      "text/plain": [
       "0"
      ]
     },
     "execution_count": 79,
     "metadata": {
      "tags": []
     },
     "output_type": "execute_result"
    }
   ],
   "source": [
    "1//10"
   ]
  },
  {
   "cell_type": "code",
   "execution_count": null,
   "metadata": {
    "colab": {
     "base_uri": "https://localhost:8080/"
    },
    "id": "OhCn4kazdo4i",
    "outputId": "8eeb0961-fef8-4e97-9b8a-53439c02a6d4"
   },
   "outputs": [
    {
     "name": "stdout",
     "output_type": "stream",
     "text": [
      "enter a number : 123\n",
      "the summation is  6\n"
     ]
    }
   ],
   "source": [
    "n=int(input('enter a number : '))\n",
    "s=0\n",
    "while(n>0):\n",
    "  s=s+n%10\n",
    "  n=n//10\n",
    "\n",
    "print('the summation is ',s)"
   ]
  },
  {
   "cell_type": "code",
   "execution_count": null,
   "metadata": {
    "colab": {
     "base_uri": "https://localhost:8080/"
    },
    "id": "V2gAtGclYy8M",
    "outputId": "481c175c-3184-487c-9a90-6c0b9b90510b"
   },
   "outputs": [
    {
     "name": "stdout",
     "output_type": "stream",
     "text": [
      "enter a number : 1234\n",
      "summation of digits is :  10\n"
     ]
    }
   ],
   "source": [
    "N=int(input(\"enter a number : \"))\n",
    "sum=0\n",
    "while(N>0):\n",
    "    dig= N%10\n",
    "    sum=sum+dig\n",
    "    N= N//10\n",
    "print(\"summation of digits is : \",sum)"
   ]
  },
  {
   "cell_type": "markdown",
   "metadata": {
    "id": "HdKLJtm6ejqB"
   },
   "source": [
    "_______"
   ]
  },
  {
   "cell_type": "markdown",
   "metadata": {
    "id": "LPNsmzwZejfx"
   },
   "source": [
    "_______"
   ]
  },
  {
   "cell_type": "markdown",
   "metadata": {
    "id": "EG1AqlLRemfH"
   },
   "source": [
    "![Capture13.PNG](data:image/png;base64,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)"
   ]
  },
  {
   "cell_type": "code",
   "execution_count": null,
   "metadata": {
    "colab": {
     "base_uri": "https://localhost:8080/"
    },
    "id": "VXtgwEZ-eXkR",
    "outputId": "aa9d1768-6bbf-4370-9acf-5103e05c0250"
   },
   "outputs": [
    {
     "data": {
      "text/plain": [
       "120"
      ]
     },
     "execution_count": 81,
     "metadata": {
      "tags": []
     },
     "output_type": "execute_result"
    }
   ],
   "source": [
    "fact(5)"
   ]
  },
  {
   "cell_type": "code",
   "execution_count": null,
   "metadata": {
    "colab": {
     "base_uri": "https://localhost:8080/"
    },
    "id": "zOGyixK4eaxV",
    "outputId": "49f3281d-bbfd-4534-8587-0f44542ee2e5"
   },
   "outputs": [
    {
     "name": "stdout",
     "output_type": "stream",
     "text": [
      "enter a number : 4\n",
      "the result is  33\n"
     ]
    }
   ],
   "source": [
    "n=int(input('enter a number : '))\n",
    "s=0\n",
    "for i in range(n):\n",
    "  s=s+ fact(i+1)\n",
    "print('the result is ', s)"
   ]
  },
  {
   "cell_type": "code",
   "execution_count": null,
   "metadata": {
    "colab": {
     "base_uri": "https://localhost:8080/"
    },
    "id": "n2_w-7OdeCI9",
    "outputId": "82d3f252-1188-482c-bcfb-9f1e0dfb68e4"
   },
   "outputs": [
    {
     "data": {
      "text/plain": [
       "24"
      ]
     },
     "execution_count": 35,
     "metadata": {
      "tags": []
     },
     "output_type": "execute_result"
    }
   ],
   "source": [
    "fact(4)"
   ]
  },
  {
   "cell_type": "code",
   "execution_count": null,
   "metadata": {
    "colab": {
     "base_uri": "https://localhost:8080/"
    },
    "id": "NpSKkIc7fsbu",
    "outputId": "b19c7ed1-bb17-41cf-e171-88ca14f97a4b"
   },
   "outputs": [
    {
     "name": "stdout",
     "output_type": "stream",
     "text": [
      "enter a natural number : 3\n",
      "the summation is :  9\n"
     ]
    }
   ],
   "source": [
    "N=int(input('enter a natural number : '))\n",
    "sum=0\n",
    "for i in range(N):\n",
    "  sum=sum+fact(i+1)\n",
    "\n",
    "print('the summation is : ',sum)"
   ]
  }
 ],
 "metadata": {
  "colab": {
   "collapsed_sections": [],
   "name": "Session 1",
   "provenance": []
  },
  "kernelspec": {
   "display_name": "Python 3",
   "language": "python",
   "name": "python3"
  },
  "language_info": {
   "codemirror_mode": {
    "name": "ipython",
    "version": 3
   },
   "file_extension": ".py",
   "mimetype": "text/x-python",
   "name": "python",
   "nbconvert_exporter": "python",
   "pygments_lexer": "ipython3",
   "version": "3.9.1"
  }
 },
 "nbformat": 4,
 "nbformat_minor": 1
}
