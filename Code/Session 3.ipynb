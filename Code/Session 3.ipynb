{
 "cells": [
  {
   "cell_type": "markdown",
   "id": "banned-newman",
   "metadata": {},
   "source": [
    "# 1) مساحت چند ضلعی"
   ]
  },
  {
   "cell_type": "markdown",
   "id": "greek-exception",
   "metadata": {},
   "source": [
    "**برنامه ای بنویسید که ابتدا تعداد اضلاع $(number \\hspace{1mm} of \\hspace{1mm} sides) $ و سپس طولِ یک ضلع $(length)$ را خوانده، سپس جزصحیح مساحت چند ضلعی را با فرمول زیر محاسبه کند**\n",
    "<br>\n",
    "<br>\n",
    "\n",
    "\n",
    "$$ \\frac{(number \\hspace{1mm} of \\hspace{1mm} sides)*(length)^2}{4* tan(\\frac{\\pi}{number \\hspace{1mm} of \\hspace{1mm} sides})}$$"
   ]
  },
  {
   "cell_type": "code",
   "execution_count": 71,
   "id": "average-weapon",
   "metadata": {},
   "outputs": [
    {
     "name": "stdout",
     "output_type": "stream",
     "text": [
      "12\n",
      "8\n",
      "716\n"
     ]
    }
   ],
   "source": [
    "from math import tan , pi \n",
    "n= int(input())\n",
    "l= float(input())\n",
    "\n",
    "print(int(n*(l**2)/(4*tan(pi/n))))"
   ]
  },
  {
   "cell_type": "code",
   "execution_count": 2,
   "id": "consistent-actor",
   "metadata": {},
   "outputs": [
    {
     "name": "stdout",
     "output_type": "stream",
     "text": [
      "12\n",
      "8\n",
      "716\n"
     ]
    }
   ],
   "source": [
    "from math import tan, pi\n",
    "\n",
    "n_sides = int(input())\n",
    "\n",
    "length = float(input())\n",
    "\n",
    "p_area = n_sides * (length ** 2) / (4 * tan(pi / n_sides))\n",
    "\n",
    "print(int(p_area))"
   ]
  },
  {
   "cell_type": "markdown",
   "id": "several-internship",
   "metadata": {},
   "source": [
    "___"
   ]
  },
  {
   "cell_type": "markdown",
   "id": "empty-service",
   "metadata": {},
   "source": [
    "# 2) عدد چاپ کن"
   ]
  },
  {
   "cell_type": "markdown",
   "id": "finnish-desperate",
   "metadata": {},
   "source": [
    "**برنامه‌ای بنويسيد كه یک عدد صحيح را که تعداد ارقامش مشخص نيست از کاربر گرفته و هر رقم را به تعداد آن رقم چاپ کند**\n",
    "<br>\n",
    "<br>\n",
    "## ورودی  نمونه \n",
    "```\n",
    "50943\n",
    "```\n",
    "\n",
    "## خروجی نمونه \n",
    "\n",
    "```\n",
    "5: 55555\n",
    "0:\n",
    "9: 999999999\n",
    "4: 4444\n",
    "3: 333\n",
    "```"
   ]
  },
  {
   "cell_type": "code",
   "execution_count": 72,
   "id": "informative-director",
   "metadata": {},
   "outputs": [
    {
     "name": "stdout",
     "output_type": "stream",
     "text": [
      "5\n"
     ]
    },
    {
     "data": {
      "text/plain": [
       "str"
      ]
     },
     "execution_count": 72,
     "metadata": {},
     "output_type": "execute_result"
    }
   ],
   "source": [
    "type(input())"
   ]
  },
  {
   "cell_type": "code",
   "execution_count": 75,
   "id": "possible-mercy",
   "metadata": {},
   "outputs": [
    {
     "data": {
      "text/plain": [
       "'444'"
      ]
     },
     "execution_count": 75,
     "metadata": {},
     "output_type": "execute_result"
    }
   ],
   "source": [
    "3*'4'"
   ]
  },
  {
   "cell_type": "code",
   "execution_count": 76,
   "id": "complete-restriction",
   "metadata": {},
   "outputs": [
    {
     "name": "stdout",
     "output_type": "stream",
     "text": [
      "56756\n",
      "5: 55555\n",
      "6: 666666\n",
      "7: 7777777\n",
      "5: 55555\n",
      "6: 666666\n"
     ]
    }
   ],
   "source": [
    "x= input()\n",
    "\n",
    "for i in x:\n",
    "    j=int(i)\n",
    "    print(f\"{j}: {i*j}\")"
   ]
  },
  {
   "cell_type": "code",
   "execution_count": null,
   "id": "wooden-mustang",
   "metadata": {},
   "outputs": [],
   "source": [
    "x=input()\n",
    "\n",
    "for i in x:\n",
    "    j=int(i)\n",
    "    print(f\"{j}: {j*i}\")"
   ]
  },
  {
   "cell_type": "markdown",
   "id": "frequent-seating",
   "metadata": {},
   "source": [
    "# 3) سینوس زاویه"
   ]
  },
  {
   "cell_type": "markdown",
   "id": "functioning-graduate",
   "metadata": {},
   "source": [
    "**برنامه ای بنوبسید که زاویه $x$ و عددِ $n$ را از کاربر خوانده، سپس سینوس زاویه $x$ را به کمک رابطه ی زیر محاسبه کند**\n",
    "<br>\n",
    "<br>\n",
    "$$sin(x)=x-\\frac {x^3}{3!}+\\frac {x^5}{5!}-\\frac{x^7}{7!}+\\frac{x^9}{9!}-...+\\frac{x^n}{n!}$$\n",
    "<br>\n",
    "<br>\n",
    "**توجه شود که مقدار زاویه ی $x$ که توسط کاربر وارد می شود می تواند اعشاری باشد**"
   ]
  },
  {
   "cell_type": "code",
   "execution_count": 78,
   "id": "scenic-legend",
   "metadata": {},
   "outputs": [
    {
     "name": "stdout",
     "output_type": "stream",
     "text": [
      "1.57\n",
      "100\n",
      "0.9999996829318345\n"
     ]
    }
   ],
   "source": [
    "def fact(n):\n",
    "    if n==1:\n",
    "        return 1\n",
    "    else:\n",
    "        return n*fact(n-1)\n",
    "    \n",
    "x=float(input())\n",
    "n=int(input())\n",
    "sum=0\n",
    "j=0\n",
    "for i in range(1,n+1,2):\n",
    "    sum=sum + ((-1)**j)* ((x**i)/fact(i))\n",
    "    j=j+1\n",
    "print(sum)"
   ]
  },
  {
   "cell_type": "code",
   "execution_count": 77,
   "id": "mighty-recipe",
   "metadata": {},
   "outputs": [
    {
     "data": {
      "text/plain": [
       "[1, 2, 3, 4, 5, 6, 7, 8]"
      ]
     },
     "execution_count": 77,
     "metadata": {},
     "output_type": "execute_result"
    }
   ],
   "source": [
    "list(range(1,9))"
   ]
  },
  {
   "cell_type": "code",
   "execution_count": 17,
   "id": "absent-collar",
   "metadata": {},
   "outputs": [
    {
     "data": {
      "text/plain": [
       "[1, 3, 5, 7]"
      ]
     },
     "execution_count": 17,
     "metadata": {},
     "output_type": "execute_result"
    }
   ],
   "source": [
    "list(range(1,8,2))"
   ]
  },
  {
   "cell_type": "code",
   "execution_count": 34,
   "id": "consolidated-property",
   "metadata": {},
   "outputs": [
    {
     "name": "stdout",
     "output_type": "stream",
     "text": [
      "1.57\n",
      "100\n",
      "0.9999996829318345\n"
     ]
    }
   ],
   "source": [
    "def fact (n):\n",
    "    if n == 1:\n",
    "        return 1\n",
    "    else:\n",
    "        return n * fact(n - 1)\n",
    "\n",
    "x=float(input())\n",
    "n=int(input())\n",
    "j=0   \n",
    "sum=0 \n",
    "for i in range(1,(n+1),2):\n",
    "    sum=sum+ ((-1)**j) *   ((x**i)/fact(i))\n",
    "    j=j+1\n",
    "\n",
    "print(sum)"
   ]
  },
  {
   "cell_type": "code",
   "execution_count": 24,
   "id": "uniform-hierarchy",
   "metadata": {},
   "outputs": [
    {
     "data": {
      "text/plain": [
       "32"
      ]
     },
     "execution_count": 24,
     "metadata": {},
     "output_type": "execute_result"
    }
   ],
   "source": [
    "2**5"
   ]
  },
  {
   "cell_type": "markdown",
   "id": "annoying-stereo",
   "metadata": {},
   "source": [
    "# 4) توان دو"
   ]
  },
  {
   "cell_type": "markdown",
   "id": "statistical-theology",
   "metadata": {},
   "source": [
    "**برنامه‌ای بنویسید که عدد $n$ را از ورودی بخواند و اولین توان عدد دو را که از $n$ بزرگتر است چاپ کند**"
   ]
  },
  {
   "cell_type": "markdown",
   "id": "static-identifier",
   "metadata": {},
   "source": [
    "## ورودی نمونه \n",
    "```\n",
    "95\n",
    "```\n",
    "## خروجی نمونه \n",
    "```\n",
    "128\n",
    "```"
   ]
  },
  {
   "cell_type": "code",
   "execution_count": null,
   "id": "bibliographic-perception",
   "metadata": {},
   "outputs": [],
   "source": [
    "[1,2,4,8,16,32,64,128,256,...]"
   ]
  },
  {
   "cell_type": "code",
   "execution_count": 81,
   "id": "placed-inspiration",
   "metadata": {},
   "outputs": [
    {
     "name": "stdout",
     "output_type": "stream",
     "text": [
      "4\n",
      "8\n"
     ]
    }
   ],
   "source": [
    "x=int(input())\n",
    "i=0\n",
    "while(2**i<=x):\n",
    "    i+=1\n",
    "print(2**i)"
   ]
  },
  {
   "cell_type": "code",
   "execution_count": 32,
   "id": "paperback-cassette",
   "metadata": {},
   "outputs": [
    {
     "name": "stdout",
     "output_type": "stream",
     "text": [
      "4\n",
      "8\n"
     ]
    }
   ],
   "source": [
    "x=int(input())\n",
    "i=0\n",
    "while(2**i<=x):\n",
    "    i=i+1\n",
    "print(2**i)"
   ]
  },
  {
   "cell_type": "markdown",
   "id": "pursuant-pendant",
   "metadata": {},
   "source": [
    "___"
   ]
  },
  {
   "cell_type": "markdown",
   "id": "organizational-andorra",
   "metadata": {},
   "source": [
    "## Strings"
   ]
  },
  {
   "cell_type": "code",
   "execution_count": 83,
   "id": "extreme-celtic",
   "metadata": {},
   "outputs": [
    {
     "data": {
      "text/plain": [
       "str"
      ]
     },
     "execution_count": 83,
     "metadata": {},
     "output_type": "execute_result"
    }
   ],
   "source": [
    "x= \"apple and orange\"\n",
    "\n",
    "type(x)"
   ]
  },
  {
   "cell_type": "code",
   "execution_count": 36,
   "id": "industrial-portfolio",
   "metadata": {},
   "outputs": [
    {
     "data": {
      "text/plain": [
       "'a'"
      ]
     },
     "execution_count": 36,
     "metadata": {},
     "output_type": "execute_result"
    }
   ],
   "source": [
    "x[0]"
   ]
  },
  {
   "cell_type": "code",
   "execution_count": 84,
   "id": "brilliant-continent",
   "metadata": {},
   "outputs": [
    {
     "data": {
      "text/plain": [
       "'e'"
      ]
     },
     "execution_count": 84,
     "metadata": {},
     "output_type": "execute_result"
    }
   ],
   "source": [
    "x[-1]"
   ]
  },
  {
   "cell_type": "code",
   "execution_count": 86,
   "id": "equal-cleaner",
   "metadata": {},
   "outputs": [
    {
     "data": {
      "text/plain": [
       "'e and orange'"
      ]
     },
     "execution_count": 86,
     "metadata": {},
     "output_type": "execute_result"
    }
   ],
   "source": [
    "x[4:]"
   ]
  },
  {
   "cell_type": "code",
   "execution_count": 87,
   "id": "descending-romania",
   "metadata": {},
   "outputs": [
    {
     "data": {
      "text/plain": [
       "'apple and orange'"
      ]
     },
     "execution_count": 87,
     "metadata": {},
     "output_type": "execute_result"
    }
   ],
   "source": [
    "x"
   ]
  },
  {
   "cell_type": "code",
   "execution_count": 88,
   "id": "engaged-participation",
   "metadata": {},
   "outputs": [
    {
     "data": {
      "text/plain": [
       "'apple'"
      ]
     },
     "execution_count": 88,
     "metadata": {},
     "output_type": "execute_result"
    }
   ],
   "source": [
    "x[:5]"
   ]
  },
  {
   "cell_type": "code",
   "execution_count": 40,
   "id": "boxed-galaxy",
   "metadata": {},
   "outputs": [
    {
     "data": {
      "text/plain": [
       "'ple '"
      ]
     },
     "execution_count": 40,
     "metadata": {},
     "output_type": "execute_result"
    }
   ],
   "source": [
    "x[2:6]"
   ]
  },
  {
   "cell_type": "code",
   "execution_count": 41,
   "id": "turned-sunglasses",
   "metadata": {},
   "outputs": [
    {
     "data": {
      "text/plain": [
       "'apple and'"
      ]
     },
     "execution_count": 41,
     "metadata": {},
     "output_type": "execute_result"
    }
   ],
   "source": [
    "x[:9]"
   ]
  },
  {
   "cell_type": "markdown",
   "id": "resistant-manner",
   "metadata": {},
   "source": [
    "#### 1) String find"
   ]
  },
  {
   "cell_type": "code",
   "execution_count": 43,
   "id": "tracked-arrangement",
   "metadata": {},
   "outputs": [
    {
     "data": {
      "text/plain": [
       "'apple and orange'"
      ]
     },
     "execution_count": 43,
     "metadata": {},
     "output_type": "execute_result"
    }
   ],
   "source": [
    "x"
   ]
  },
  {
   "cell_type": "code",
   "execution_count": 89,
   "id": "incomplete-neighborhood",
   "metadata": {},
   "outputs": [
    {
     "data": {
      "text/plain": [
       "10"
      ]
     },
     "execution_count": 89,
     "metadata": {},
     "output_type": "execute_result"
    }
   ],
   "source": [
    "x.find('orange')"
   ]
  },
  {
   "cell_type": "markdown",
   "id": "dressed-conclusion",
   "metadata": {},
   "source": [
    "#### 2) string split"
   ]
  },
  {
   "cell_type": "markdown",
   "id": "yellow-giant",
   "metadata": {},
   "source": [
    "مثلا اگه بخوایم اسم و فامیلی رو از هم جدا کنیم میتونیم از متد زیر استفاده کنیم"
   ]
  },
  {
   "cell_type": "code",
   "execution_count": 90,
   "id": "oriented-killing",
   "metadata": {},
   "outputs": [],
   "source": [
    "x='fatemeh saberi'"
   ]
  },
  {
   "cell_type": "code",
   "execution_count": 91,
   "id": "neutral-investigation",
   "metadata": {},
   "outputs": [
    {
     "data": {
      "text/plain": [
       "['fatemeh', 'saberi']"
      ]
     },
     "execution_count": 91,
     "metadata": {},
     "output_type": "execute_result"
    }
   ],
   "source": [
    "x.split()"
   ]
  },
  {
   "cell_type": "code",
   "execution_count": 93,
   "id": "vertical-floating",
   "metadata": {},
   "outputs": [],
   "source": [
    "z=\"zipcode: 1235457\""
   ]
  },
  {
   "cell_type": "code",
   "execution_count": 94,
   "id": "corresponding-burst",
   "metadata": {},
   "outputs": [
    {
     "data": {
      "text/plain": [
       "['zipcode', ' 1235457']"
      ]
     },
     "execution_count": 94,
     "metadata": {},
     "output_type": "execute_result"
    }
   ],
   "source": [
    "z.split(':')"
   ]
  },
  {
   "cell_type": "code",
   "execution_count": 45,
   "id": "korean-halloween",
   "metadata": {},
   "outputs": [
    {
     "data": {
      "text/plain": [
       "['zipcode', ' 123456']"
      ]
     },
     "execution_count": 45,
     "metadata": {},
     "output_type": "execute_result"
    }
   ],
   "source": [
    "y='zipcode: 123456'\n",
    "y.split(':')"
   ]
  },
  {
   "cell_type": "markdown",
   "id": "cubic-wilson",
   "metadata": {},
   "source": [
    "#### 3) string strip"
   ]
  },
  {
   "cell_type": "markdown",
   "id": "concerned-classification",
   "metadata": {},
   "source": [
    "زمانی که میخواهیم فواصل اضافی قبل و بعد از استرینگ را حذف کنیم "
   ]
  },
  {
   "cell_type": "code",
   "execution_count": 95,
   "id": "annual-confidence",
   "metadata": {},
   "outputs": [
    {
     "data": {
      "text/plain": [
       "False"
      ]
     },
     "execution_count": 95,
     "metadata": {},
     "output_type": "execute_result"
    }
   ],
   "source": [
    "x=\" fatemeh   \"\n",
    "y=\"fatemeh\"\n",
    "\n",
    "x==y"
   ]
  },
  {
   "cell_type": "code",
   "execution_count": 96,
   "id": "public-youth",
   "metadata": {},
   "outputs": [
    {
     "data": {
      "text/plain": [
       "True"
      ]
     },
     "execution_count": 96,
     "metadata": {},
     "output_type": "execute_result"
    }
   ],
   "source": [
    "x.strip()==y"
   ]
  },
  {
   "cell_type": "code",
   "execution_count": 97,
   "id": "compliant-reference",
   "metadata": {},
   "outputs": [
    {
     "data": {
      "text/plain": [
       "'fatemeh'"
      ]
     },
     "execution_count": 97,
     "metadata": {},
     "output_type": "execute_result"
    }
   ],
   "source": [
    "x.strip()"
   ]
  },
  {
   "cell_type": "markdown",
   "id": "multiple-caution",
   "metadata": {},
   "source": [
    "دقت کنید که متغیر بعد از اعمال متد تغییری پیدا نکرد<br>\n",
    "\n",
    "Strings are immutable"
   ]
  },
  {
   "cell_type": "code",
   "execution_count": 104,
   "id": "legendary-arrangement",
   "metadata": {},
   "outputs": [],
   "source": [
    "x='dezire'"
   ]
  },
  {
   "cell_type": "code",
   "execution_count": 106,
   "id": "adult-fossil",
   "metadata": {},
   "outputs": [
    {
     "ename": "TypeError",
     "evalue": "'str' object does not support item assignment",
     "output_type": "error",
     "traceback": [
      "\u001b[1;31m---------------------------------------------------------------------------\u001b[0m",
      "\u001b[1;31mTypeError\u001b[0m                                 Traceback (most recent call last)",
      "\u001b[1;32m<ipython-input-106-e860cd1b9771>\u001b[0m in \u001b[0;36m<module>\u001b[1;34m\u001b[0m\n\u001b[1;32m----> 1\u001b[1;33m \u001b[0mx\u001b[0m\u001b[1;33m[\u001b[0m\u001b[1;36m2\u001b[0m\u001b[1;33m]\u001b[0m\u001b[1;33m=\u001b[0m\u001b[1;34m'5'\u001b[0m\u001b[1;33m\u001b[0m\u001b[1;33m\u001b[0m\u001b[0m\n\u001b[0m",
      "\u001b[1;31mTypeError\u001b[0m: 'str' object does not support item assignment"
     ]
    }
   ],
   "source": [
    "x[2]='5'"
   ]
  },
  {
   "cell_type": "code",
   "execution_count": 102,
   "id": "asian-trading",
   "metadata": {},
   "outputs": [
    {
     "data": {
      "text/plain": [
       "list"
      ]
     },
     "execution_count": 102,
     "metadata": {},
     "output_type": "execute_result"
    }
   ],
   "source": [
    "z=[1,2,3]\n",
    "type(z)"
   ]
  },
  {
   "cell_type": "code",
   "execution_count": 103,
   "id": "demonstrated-vacuum",
   "metadata": {},
   "outputs": [
    {
     "data": {
      "text/plain": [
       "['h', 2, 3]"
      ]
     },
     "execution_count": 103,
     "metadata": {},
     "output_type": "execute_result"
    }
   ],
   "source": [
    "z[0]='h'\n",
    "z"
   ]
  },
  {
   "cell_type": "markdown",
   "id": "weighted-bibliography",
   "metadata": {},
   "source": [
    "Because lists are mutable"
   ]
  },
  {
   "cell_type": "markdown",
   "id": "designing-summit",
   "metadata": {},
   "source": [
    "______"
   ]
  },
  {
   "cell_type": "markdown",
   "id": "touched-granny",
   "metadata": {},
   "source": [
    "#### string concatenation"
   ]
  },
  {
   "cell_type": "code",
   "execution_count": 107,
   "id": "competitive-sunset",
   "metadata": {},
   "outputs": [],
   "source": [
    "x='apple'\n",
    "y='orange'"
   ]
  },
  {
   "cell_type": "code",
   "execution_count": 109,
   "id": "offshore-palestinian",
   "metadata": {},
   "outputs": [
    {
     "data": {
      "text/plain": [
       "'apple orange'"
      ]
     },
     "execution_count": 109,
     "metadata": {},
     "output_type": "execute_result"
    }
   ],
   "source": [
    "x+' '+y"
   ]
  },
  {
   "cell_type": "code",
   "execution_count": 110,
   "id": "instrumental-colleague",
   "metadata": {},
   "outputs": [
    {
     "data": {
      "text/plain": [
       "[1, 2, 3, 2, 3, 4]"
      ]
     },
     "execution_count": 110,
     "metadata": {},
     "output_type": "execute_result"
    }
   ],
   "source": [
    "z=[1,2,3]\n",
    "y=[2,3,4]\n",
    "z+y"
   ]
  },
  {
   "cell_type": "markdown",
   "id": "constitutional-newport",
   "metadata": {},
   "source": [
    "#### 4) upper/ lower/ title"
   ]
  },
  {
   "cell_type": "code",
   "execution_count": 111,
   "id": "beneficial-denmark",
   "metadata": {},
   "outputs": [
    {
     "data": {
      "text/plain": [
       "'APPLE'"
      ]
     },
     "execution_count": 111,
     "metadata": {},
     "output_type": "execute_result"
    }
   ],
   "source": [
    "x='apple'\n",
    "x.upper()"
   ]
  },
  {
   "cell_type": "code",
   "execution_count": 112,
   "id": "comparative-lease",
   "metadata": {},
   "outputs": [
    {
     "data": {
      "text/plain": [
       "'pulm'"
      ]
     },
     "execution_count": 112,
     "metadata": {},
     "output_type": "execute_result"
    }
   ],
   "source": [
    "t='PUlM'\n",
    "t.lower()"
   ]
  },
  {
   "cell_type": "code",
   "execution_count": 113,
   "id": "robust-canberra",
   "metadata": {},
   "outputs": [
    {
     "data": {
      "text/plain": [
       "'Apple And Orange'"
      ]
     },
     "execution_count": 113,
     "metadata": {},
     "output_type": "execute_result"
    }
   ],
   "source": [
    "r='apple and orange'\n",
    "r.title()"
   ]
  },
  {
   "cell_type": "code",
   "execution_count": 114,
   "id": "apart-shoot",
   "metadata": {},
   "outputs": [
    {
     "data": {
      "text/plain": [
       "'Apple and orange'"
      ]
     },
     "execution_count": 114,
     "metadata": {},
     "output_type": "execute_result"
    }
   ],
   "source": [
    "r.capitalize()"
   ]
  },
  {
   "cell_type": "code",
   "execution_count": 115,
   "id": "proved-commercial",
   "metadata": {},
   "outputs": [
    {
     "data": {
      "text/plain": [
       "'rEd'"
      ]
     },
     "execution_count": 115,
     "metadata": {},
     "output_type": "execute_result"
    }
   ],
   "source": [
    "e='ReD'\n",
    "e.swapcase()"
   ]
  },
  {
   "cell_type": "code",
   "execution_count": 116,
   "id": "composite-lobby",
   "metadata": {},
   "outputs": [
    {
     "data": {
      "text/plain": [
       "'apple and orange'"
      ]
     },
     "execution_count": 116,
     "metadata": {},
     "output_type": "execute_result"
    }
   ],
   "source": [
    "r"
   ]
  },
  {
   "cell_type": "code",
   "execution_count": 117,
   "id": "automatic-boards",
   "metadata": {},
   "outputs": [
    {
     "data": {
      "text/plain": [
       "True"
      ]
     },
     "execution_count": 117,
     "metadata": {},
     "output_type": "execute_result"
    }
   ],
   "source": [
    "r.islower()"
   ]
  },
  {
   "cell_type": "code",
   "execution_count": 118,
   "id": "informed-slope",
   "metadata": {},
   "outputs": [
    {
     "data": {
      "text/plain": [
       "'ReD'"
      ]
     },
     "execution_count": 118,
     "metadata": {},
     "output_type": "execute_result"
    }
   ],
   "source": [
    "e"
   ]
  },
  {
   "cell_type": "code",
   "execution_count": 119,
   "id": "blocked-oasis",
   "metadata": {},
   "outputs": [
    {
     "data": {
      "text/plain": [
       "False"
      ]
     },
     "execution_count": 119,
     "metadata": {},
     "output_type": "execute_result"
    }
   ],
   "source": [
    "e.islower()"
   ]
  },
  {
   "cell_type": "code",
   "execution_count": 120,
   "id": "veterinary-richmond",
   "metadata": {},
   "outputs": [
    {
     "data": {
      "text/plain": [
       "False"
      ]
     },
     "execution_count": 120,
     "metadata": {},
     "output_type": "execute_result"
    }
   ],
   "source": [
    "r.isupper()"
   ]
  },
  {
   "cell_type": "markdown",
   "id": "restricted-stereo",
   "metadata": {},
   "source": [
    "______"
   ]
  },
  {
   "cell_type": "code",
   "execution_count": 124,
   "id": "liberal-invention",
   "metadata": {},
   "outputs": [
    {
     "data": {
      "text/plain": [
       "True"
      ]
     },
     "execution_count": 124,
     "metadata": {},
     "output_type": "execute_result"
    }
   ],
   "source": [
    "a='taragff'\n",
    "a.isalpha()"
   ]
  },
  {
   "cell_type": "markdown",
   "id": "loaded-international",
   "metadata": {},
   "source": [
    "#### 5) replace"
   ]
  },
  {
   "cell_type": "code",
   "execution_count": 126,
   "id": "authorized-nature",
   "metadata": {},
   "outputs": [],
   "source": [
    "a='apple'"
   ]
  },
  {
   "cell_type": "code",
   "execution_count": 129,
   "id": "formal-killing",
   "metadata": {},
   "outputs": [
    {
     "data": {
      "text/plain": [
       "'appl44'"
      ]
     },
     "execution_count": 129,
     "metadata": {},
     "output_type": "execute_result"
    }
   ],
   "source": [
    "a.replace('e','44')"
   ]
  },
  {
   "cell_type": "markdown",
   "id": "introductory-faculty",
   "metadata": {},
   "source": [
    "#### reverse of a string"
   ]
  },
  {
   "cell_type": "code",
   "execution_count": 130,
   "id": "residential-apparatus",
   "metadata": {},
   "outputs": [
    {
     "data": {
      "text/plain": [
       "'ABAS'"
      ]
     },
     "execution_count": 130,
     "metadata": {},
     "output_type": "execute_result"
    }
   ],
   "source": [
    "a='SABA'\n",
    "\n",
    "#1\n",
    "\n",
    "length=len(a)\n",
    "rev=''\n",
    "\n",
    "while(length>0):\n",
    "    rev+=a[length-1]\n",
    "    length-=1\n",
    "    \n",
    "rev"
   ]
  },
  {
   "cell_type": "code",
   "execution_count": 133,
   "id": "daily-austria",
   "metadata": {},
   "outputs": [
    {
     "data": {
      "text/plain": [
       "'SABA'"
      ]
     },
     "execution_count": 133,
     "metadata": {},
     "output_type": "execute_result"
    }
   ],
   "source": [
    "a"
   ]
  },
  {
   "cell_type": "code",
   "execution_count": 136,
   "id": "regular-coordinator",
   "metadata": {},
   "outputs": [
    {
     "data": {
      "text/plain": [
       "'ABAS'"
      ]
     },
     "execution_count": 136,
     "metadata": {},
     "output_type": "execute_result"
    }
   ],
   "source": [
    "a[::-1]"
   ]
  },
  {
   "cell_type": "code",
   "execution_count": 89,
   "id": "pressed-freeware",
   "metadata": {},
   "outputs": [
    {
     "data": {
      "text/plain": [
       "'ABAS'"
      ]
     },
     "execution_count": 89,
     "metadata": {},
     "output_type": "execute_result"
    }
   ],
   "source": [
    "#2\n",
    "\n",
    "a[::-1]"
   ]
  },
  {
   "cell_type": "markdown",
   "id": "alleged-stress",
   "metadata": {},
   "source": [
    "____"
   ]
  },
  {
   "cell_type": "markdown",
   "id": "intended-capacity",
   "metadata": {},
   "source": [
    "#### String Exercises"
   ]
  },
  {
   "cell_type": "markdown",
   "id": "minute-cambodia",
   "metadata": {},
   "source": [
    "برنامه ای بنویسید که از کاربر اسم و فامیلی بگیرد و هر کدام را با حرف اولِ بزرگ در یک خطِ مجزا چاپ کند\n"
   ]
  },
  {
   "cell_type": "code",
   "execution_count": 137,
   "id": "chronic-baking",
   "metadata": {
    "scrolled": true
   },
   "outputs": [
    {
     "name": "stdout",
     "output_type": "stream",
     "text": [
      "enter your first name and family name : fatemeh saberi\n"
     ]
    }
   ],
   "source": [
    "name=input('enter your first name and family name : ')"
   ]
  },
  {
   "cell_type": "code",
   "execution_count": 139,
   "id": "blocked-point",
   "metadata": {},
   "outputs": [
    {
     "data": {
      "text/plain": [
       "'Fatemeh Saberi'"
      ]
     },
     "execution_count": 139,
     "metadata": {},
     "output_type": "execute_result"
    }
   ],
   "source": [
    "name.title()"
   ]
  },
  {
   "cell_type": "code",
   "execution_count": 140,
   "id": "composed-explosion",
   "metadata": {},
   "outputs": [
    {
     "data": {
      "text/plain": [
       "['fatemeh', 'saberi']"
      ]
     },
     "execution_count": 140,
     "metadata": {},
     "output_type": "execute_result"
    }
   ],
   "source": [
    "lst=name.split()\n",
    "lst"
   ]
  },
  {
   "cell_type": "code",
   "execution_count": 141,
   "id": "golden-facial",
   "metadata": {},
   "outputs": [
    {
     "name": "stdout",
     "output_type": "stream",
     "text": [
      "Fatemeh\n",
      "Saberi\n"
     ]
    }
   ],
   "source": [
    "for n in lst:\n",
    "    print(n.capitalize())"
   ]
  },
  {
   "cell_type": "code",
   "execution_count": 3,
   "id": "working-toolbox",
   "metadata": {},
   "outputs": [],
   "source": [
    "p='aPPle academy'"
   ]
  },
  {
   "cell_type": "code",
   "execution_count": 146,
   "id": "latter-sperm",
   "metadata": {},
   "outputs": [
    {
     "data": {
      "text/plain": [
       "'aPPle academy'"
      ]
     },
     "execution_count": 146,
     "metadata": {},
     "output_type": "execute_result"
    }
   ],
   "source": [
    "p"
   ]
  },
  {
   "cell_type": "code",
   "execution_count": 147,
   "id": "vocal-vampire",
   "metadata": {},
   "outputs": [
    {
     "name": "stdout",
     "output_type": "stream",
     "text": [
      "a\n",
      "P\n",
      "P\n",
      "l\n",
      "e\n",
      " \n",
      "a\n",
      "c\n",
      "a\n",
      "d\n",
      "e\n",
      "m\n",
      "y\n"
     ]
    }
   ],
   "source": [
    "# best debugger ---> print \n",
    "for l in p:\n",
    "    print(l)"
   ]
  },
  {
   "cell_type": "code",
   "execution_count": 149,
   "id": "removed-authentication",
   "metadata": {},
   "outputs": [
    {
     "data": {
      "text/plain": [
       "'aPPle academy'"
      ]
     },
     "execution_count": 149,
     "metadata": {},
     "output_type": "execute_result"
    }
   ],
   "source": [
    "p"
   ]
  },
  {
   "cell_type": "code",
   "execution_count": 150,
   "id": "facial-politics",
   "metadata": {},
   "outputs": [
    {
     "data": {
      "text/plain": [
       "3"
      ]
     },
     "execution_count": 150,
     "metadata": {},
     "output_type": "execute_result"
    }
   ],
   "source": [
    "p.count('a')"
   ]
  },
  {
   "cell_type": "code",
   "execution_count": 4,
   "id": "supreme-folks",
   "metadata": {},
   "outputs": [],
   "source": [
    "def letter_counter(let,word):\n",
    "    '''\n",
    "    DOCUMENTATION OF LETTER COUNTER FUNCTION\n",
    "    '''\n",
    "    c=0\n",
    "    for l in word:\n",
    "        if l==let:\n",
    "            c+=1\n",
    "    return c"
   ]
  },
  {
   "cell_type": "code",
   "execution_count": 5,
   "id": "undefined-regard",
   "metadata": {},
   "outputs": [
    {
     "data": {
      "text/plain": [
       "3"
      ]
     },
     "execution_count": 5,
     "metadata": {},
     "output_type": "execute_result"
    }
   ],
   "source": [
    "letter_counter(\"a\",p)"
   ]
  },
  {
   "cell_type": "code",
   "execution_count": 7,
   "id": "external-frederick",
   "metadata": {},
   "outputs": [
    {
     "name": "stdout",
     "output_type": "stream",
     "text": [
      "\n",
      "    DOCUMENTATION OF LETTER COUNTER FUNCTION\n",
      "    \n"
     ]
    }
   ],
   "source": [
    "print (letter_counter.__doc__)"
   ]
  },
  {
   "cell_type": "code",
   "execution_count": 143,
   "id": "executive-swimming",
   "metadata": {},
   "outputs": [],
   "source": [
    "def upper_counter(word):\n",
    "    c_up=0\n",
    "    for l in word:\n",
    "        if l.isupper():\n",
    "            c_up+=1\n",
    "    return c_up"
   ]
  },
  {
   "cell_type": "code",
   "execution_count": 144,
   "id": "interpreted-messaging",
   "metadata": {},
   "outputs": [],
   "source": [
    "w='SGD sgd'"
   ]
  },
  {
   "cell_type": "code",
   "execution_count": 145,
   "id": "incomplete-combination",
   "metadata": {},
   "outputs": [
    {
     "data": {
      "text/plain": [
       "3"
      ]
     },
     "execution_count": 145,
     "metadata": {},
     "output_type": "execute_result"
    }
   ],
   "source": [
    "upper_counter(w)"
   ]
  },
  {
   "cell_type": "markdown",
   "id": "typical-faith",
   "metadata": {},
   "source": [
    "______"
   ]
  },
  {
   "cell_type": "markdown",
   "id": "cheap-feedback",
   "metadata": {},
   "source": [
    "#### jupyter themes"
   ]
  },
  {
   "cell_type": "code",
   "execution_count": null,
   "id": "sustainable-seafood",
   "metadata": {},
   "outputs": [],
   "source": [
    "!pip install jupyterthemes"
   ]
  },
  {
   "cell_type": "code",
   "execution_count": 1,
   "id": "amber-uncertainty",
   "metadata": {},
   "outputs": [
    {
     "name": "stdout",
     "output_type": "stream",
     "text": [
      "Available Themes: \n",
      "   chesterish\n",
      "   grade3\n",
      "   gruvboxd\n",
      "   gruvboxl\n",
      "   monokai\n",
      "   oceans16\n",
      "   onedork\n",
      "   solarizedd\n",
      "   solarizedl\n"
     ]
    }
   ],
   "source": [
    "!jt -l"
   ]
  },
  {
   "cell_type": "code",
   "execution_count": null,
   "id": "hired-upset",
   "metadata": {},
   "outputs": [],
   "source": [
    "!jt -t monokai"
   ]
  },
  {
   "cell_type": "code",
   "execution_count": 1,
   "id": "miniature-packing",
   "metadata": {},
   "outputs": [
    {
     "name": "stdout",
     "output_type": "stream",
     "text": [
      "Reset css and font defaults in:\n",
      "C:\\Users\\Saberi\\.jupyter\\custom &\n",
      "C:\\Users\\Saberi\\AppData\\Roaming\\jupyter\\nbextensions\n"
     ]
    }
   ],
   "source": [
    "#back to default\n",
    "!jt -r"
   ]
  },
  {
   "cell_type": "code",
   "execution_count": 1,
   "id": "thousand-lincoln",
   "metadata": {},
   "outputs": [],
   "source": [
    "from datetime import datetime"
   ]
  },
  {
   "cell_type": "code",
   "execution_count": 2,
   "id": "acceptable-catalyst",
   "metadata": {},
   "outputs": [
    {
     "data": {
      "text/plain": [
       "datetime.datetime(2021, 4, 23, 15, 35, 3, 668220)"
      ]
     },
     "execution_count": 2,
     "metadata": {},
     "output_type": "execute_result"
    }
   ],
   "source": [
    "datetime.now()"
   ]
  },
  {
   "cell_type": "code",
   "execution_count": 21,
   "id": "assumed-nelson",
   "metadata": {},
   "outputs": [
    {
     "data": {
      "text/plain": [
       "datetime.datetime(2021, 4, 23, 15, 35, 47, 449456)"
      ]
     },
     "execution_count": 21,
     "metadata": {},
     "output_type": "execute_result"
    }
   ],
   "source": [
    "datetime.now()"
   ]
  },
  {
   "cell_type": "code",
   "execution_count": null,
   "id": "polish-eclipse",
   "metadata": {},
   "outputs": [],
   "source": []
  }
 ],
 "metadata": {
  "kernelspec": {
   "display_name": "Python 3",
   "language": "python",
   "name": "python3"
  },
  "language_info": {
   "codemirror_mode": {
    "name": "ipython",
    "version": 3
   },
   "file_extension": ".py",
   "mimetype": "text/x-python",
   "name": "python",
   "nbconvert_exporter": "python",
   "pygments_lexer": "ipython3",
   "version": "3.9.1"
  }
 },
 "nbformat": 4,
 "nbformat_minor": 5
}
