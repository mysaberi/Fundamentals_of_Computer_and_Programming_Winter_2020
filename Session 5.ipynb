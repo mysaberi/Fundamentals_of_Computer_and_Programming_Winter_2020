{
 "cells": [
  {
   "cell_type": "markdown",
   "id": "hollow-school",
   "metadata": {},
   "source": [
    "# List Comprehensions\n",
    "List comprehensions can replace many for statements that iterate over existing sequences and create new lists."
   ]
  },
  {
   "cell_type": "code",
   "execution_count": 282,
   "id": "other-designation",
   "metadata": {},
   "outputs": [
    {
     "data": {
      "text/plain": [
       "[0, 1, 2, 3, 4, 5]"
      ]
     },
     "execution_count": 282,
     "metadata": {},
     "output_type": "execute_result"
    }
   ],
   "source": [
    "#filling a list with for loop\n",
    "\n",
    "lst1=[]\n",
    "for i in range(6):\n",
    "  lst1.append(i)\n",
    "lst1"
   ]
  },
  {
   "cell_type": "code",
   "execution_count": 284,
   "id": "detected-corrections",
   "metadata": {},
   "outputs": [
    {
     "data": {
      "text/plain": [
       "[0, 3, 6, 9, 12, 15]"
      ]
     },
     "execution_count": 284,
     "metadata": {},
     "output_type": "execute_result"
    }
   ],
   "source": [
    "#filling a list with list comprehension\n",
    "\n",
    "lst2 = [i*3 for i in range(6)]\n",
    "lst2"
   ]
  },
  {
   "cell_type": "markdown",
   "id": "forty-arkansas",
   "metadata": {},
   "source": [
    "## Performing Operations in a List Comprehension’s Expression"
   ]
  },
  {
   "cell_type": "code",
   "execution_count": 285,
   "id": "studied-appraisal",
   "metadata": {},
   "outputs": [
    {
     "data": {
      "text/plain": [
       "[0, 1, 8, 27, 64, 125]"
      ]
     },
     "execution_count": 285,
     "metadata": {},
     "output_type": "execute_result"
    }
   ],
   "source": [
    "lst3 = [i**3 for i in range(6)]\n",
    "lst3"
   ]
  },
  {
   "cell_type": "markdown",
   "id": "finite-municipality",
   "metadata": {},
   "source": [
    "## List Comprehensions with if Clauses (to filter elements)\n",
    "we can filter elements to select only those that match a condition<br>\n",
    "حاصل آن لیستی با عناصر کمتر است"
   ]
  },
  {
   "cell_type": "code",
   "execution_count": 286,
   "id": "oriented-statement",
   "metadata": {},
   "outputs": [
    {
     "data": {
      "text/plain": [
       "[0, 1, 2, 3, 4, 5, 6, 7, 8, 9]"
      ]
     },
     "execution_count": 286,
     "metadata": {},
     "output_type": "execute_result"
    }
   ],
   "source": [
    "lst4 = [i for i in range(10)]\n",
    "lst4"
   ]
  },
  {
   "cell_type": "code",
   "execution_count": 287,
   "id": "earned-treasurer",
   "metadata": {
    "scrolled": false
   },
   "outputs": [
    {
     "data": {
      "text/plain": [
       "[0, 2, 4, 6, 8]"
      ]
     },
     "execution_count": 287,
     "metadata": {},
     "output_type": "execute_result"
    }
   ],
   "source": [
    "lst5 = [i for i in range(10) if i % 2 == 0]\n",
    "lst5"
   ]
  },
  {
   "cell_type": "code",
   "execution_count": 289,
   "id": "respected-package",
   "metadata": {},
   "outputs": [
    {
     "data": {
      "text/plain": [
       "[7, 9, 11, 13, 15]"
      ]
     },
     "execution_count": 289,
     "metadata": {},
     "output_type": "execute_result"
    }
   ],
   "source": [
    "lst6 = [i+7 for i in range(10) if i % 2 == 0]\n",
    "lst6"
   ]
  },
  {
   "cell_type": "code",
   "execution_count": 291,
   "id": "fatty-verification",
   "metadata": {},
   "outputs": [
    {
     "data": {
      "text/plain": [
       "[7, 9, 11, 13, 15]"
      ]
     },
     "execution_count": 291,
     "metadata": {},
     "output_type": "execute_result"
    }
   ],
   "source": [
    "def is_odd(x):\n",
    "    return x % 2 != 0\n",
    "\n",
    "[i+6 for i in range(10) if is_odd(i)]"
   ]
  },
  {
   "cell_type": "code",
   "execution_count": 292,
   "id": "documentary-pearl",
   "metadata": {},
   "outputs": [
    {
     "data": {
      "text/plain": [
       "[1, 'nope', 3, 'nope', 5, 'nope', 7, 'nope', 9, 'nope']"
      ]
     },
     "execution_count": 292,
     "metadata": {},
     "output_type": "execute_result"
    }
   ],
   "source": [
    "lst7=[x+1 if x%2==0 else \"nope\" for x in range(10)]\n",
    "lst7"
   ]
  },
  {
   "cell_type": "code",
   "execution_count": 6,
   "id": "choice-aquarium",
   "metadata": {},
   "outputs": [
    {
     "data": {
      "text/plain": [
       "[1, 'nope', 3, 'nope', 5, 'nope', 7, 'nope', 9, 'nope']"
      ]
     },
     "execution_count": 6,
     "metadata": {},
     "output_type": "execute_result"
    }
   ],
   "source": [
    "lst8=[]\n",
    "for x in range(10):  \n",
    "    if x%2==0:\n",
    "        lst8.append(x+1)\n",
    "    else:\n",
    "        lst8.append('nope')\n",
    "lst8\n"
   ]
  },
  {
   "cell_type": "code",
   "execution_count": 293,
   "id": "attractive-spyware",
   "metadata": {},
   "outputs": [
    {
     "data": {
      "text/plain": [
       "[[1, 2, 3], [4, 5, 6], [7, 8, 9]]"
      ]
     },
     "execution_count": 293,
     "metadata": {},
     "output_type": "execute_result"
    }
   ],
   "source": [
    "list_of_list = [[1,2,3],[4,5,6],[7,8,9]]\n",
    "list_of_list"
   ]
  },
  {
   "cell_type": "code",
   "execution_count": 296,
   "id": "arabic-logic",
   "metadata": {},
   "outputs": [
    {
     "data": {
      "text/plain": [
       "[1, 2, 3, 4, 5, 6, 7, 8, 9]"
      ]
     },
     "execution_count": 296,
     "metadata": {},
     "output_type": "execute_result"
    }
   ],
   "source": [
    "[y for x in list_of_list for y in x]"
   ]
  },
  {
   "cell_type": "code",
   "execution_count": 297,
   "id": "considerable-bosnia",
   "metadata": {},
   "outputs": [
    {
     "data": {
      "text/plain": [
       "[1, 2, 3, 4, 5, 6, 7, 8, 9]"
      ]
     },
     "execution_count": 297,
     "metadata": {},
     "output_type": "execute_result"
    }
   ],
   "source": [
    "lst10=[]\n",
    "for x in list_of_list:\n",
    "    for y in x:\n",
    "        lst10.append(y)\n",
    "lst10"
   ]
  },
  {
   "cell_type": "code",
   "execution_count": 300,
   "id": "normal-arrival",
   "metadata": {},
   "outputs": [
    {
     "data": {
      "text/plain": [
       "[[1, 4, 7], [2, 5, 8], [3, 6, 9]]"
      ]
     },
     "execution_count": 300,
     "metadata": {},
     "output_type": "execute_result"
    }
   ],
   "source": [
    "matrix = [[1,2,3],[4,5,6],[7,8,9]]\n",
    "\n",
    "[[row[i] for row in matrix] for i in range(3)]"
   ]
  },
  {
   "cell_type": "code",
   "execution_count": 301,
   "id": "delayed-wireless",
   "metadata": {},
   "outputs": [
    {
     "data": {
      "text/plain": [
       "[[1, 4, 7], [2, 5, 8], [3, 6, 9]]"
      ]
     },
     "execution_count": 301,
     "metadata": {},
     "output_type": "execute_result"
    }
   ],
   "source": [
    "transposed = []\n",
    "\n",
    "for i in range(3):\n",
    "    transposed_row = []\n",
    "    for row in matrix:\n",
    "            transposed_row.append(row[i])\n",
    "    transposed.append(transposed_row)\n",
    "transposed"
   ]
  },
  {
   "cell_type": "code",
   "execution_count": 19,
   "id": "robust-penguin",
   "metadata": {},
   "outputs": [
    {
     "data": {
      "text/plain": [
       "[[0, 0, 0, 0], [0, 0, 0, 0], [0, 0, 0, 0]]"
      ]
     },
     "execution_count": 19,
     "metadata": {},
     "output_type": "execute_result"
    }
   ],
   "source": [
    "matrix = [[0 for col in range(4)] for row in range(3)]\n",
    "\n",
    "matrix"
   ]
  },
  {
   "cell_type": "markdown",
   "id": "heavy-leadership",
   "metadata": {},
   "source": [
    "### Instead of range, you can use another list for your loop's iterator"
   ]
  },
  {
   "cell_type": "code",
   "execution_count": 302,
   "id": "identical-license",
   "metadata": {},
   "outputs": [
    {
     "data": {
      "text/plain": [
       "['RED', 'ORANGE', 'YELLOW', 'GREEN', 'BLUE']"
      ]
     },
     "execution_count": 302,
     "metadata": {},
     "output_type": "execute_result"
    }
   ],
   "source": [
    "colors = ['red', 'orange', 'yellow', 'green', 'blue']\n",
    "lst9=[i.upper() for i in colors]\n",
    "lst9"
   ]
  },
  {
   "cell_type": "markdown",
   "id": "removed-canon",
   "metadata": {},
   "source": [
    "___________"
   ]
  },
  {
   "cell_type": "markdown",
   "id": "published-electric",
   "metadata": {},
   "source": [
    "# Lambda\n",
    "For simple functions that return only a single expression’s value, you can use a lambda expression<br>\n",
    "A lambda expression is an anonymous function. It means it's **a function without a name**."
   ]
  },
  {
   "cell_type": "markdown",
   "id": "measured-county",
   "metadata": {},
   "source": [
    "def function_name(*parameter_list*): <br>\n",
    "$\\hspace{1cm}$ return **expression** <br><br>\n",
    "lambda *parameter_list*: **expression**"
   ]
  },
  {
   "cell_type": "code",
   "execution_count": 304,
   "id": "liberal-registration",
   "metadata": {},
   "outputs": [
    {
     "data": {
      "text/plain": [
       "4"
      ]
     },
     "execution_count": 304,
     "metadata": {},
     "output_type": "execute_result"
    }
   ],
   "source": [
    "(lambda x: x**2 -2*x +1)(3)"
   ]
  },
  {
   "cell_type": "code",
   "execution_count": 273,
   "id": "attractive-development",
   "metadata": {},
   "outputs": [
    {
     "data": {
      "text/plain": [
       "['red', 'orange', 'yellow', 'green', 'blue']"
      ]
     },
     "execution_count": 273,
     "metadata": {},
     "output_type": "execute_result"
    }
   ],
   "source": [
    "colors"
   ]
  },
  {
   "cell_type": "code",
   "execution_count": 30,
   "id": "qualified-investment",
   "metadata": {},
   "outputs": [
    {
     "data": {
      "text/plain": [
       "['RED', 'ORANGE', 'YELLOW', 'GREEN', 'BLUE']"
      ]
     },
     "execution_count": 30,
     "metadata": {},
     "output_type": "execute_result"
    }
   ],
   "source": [
    "list(map(lambda x: x.upper() , colors))"
   ]
  },
  {
   "cell_type": "code",
   "execution_count": 305,
   "id": "equipped-camel",
   "metadata": {},
   "outputs": [
    {
     "data": {
      "text/plain": [
       "19"
      ]
     },
     "execution_count": 305,
     "metadata": {},
     "output_type": "execute_result"
    }
   ],
   "source": [
    "def apply_twice(func, arg):\n",
    "\n",
    "  return func(func(arg))\n",
    "\n",
    "apply_twice(lambda x: x+7, 5)"
   ]
  },
  {
   "cell_type": "code",
   "execution_count": 306,
   "id": "official-secret",
   "metadata": {},
   "outputs": [
    {
     "data": {
      "text/plain": [
       "19"
      ]
     },
     "execution_count": 306,
     "metadata": {},
     "output_type": "execute_result"
    }
   ],
   "source": [
    "def apply_twice(func, arg):\n",
    "\n",
    "  return func(func(arg))\n",
    "\n",
    "def func(x):\n",
    "    return x+7\n",
    "\n",
    "apply_twice(func,5)"
   ]
  },
  {
   "cell_type": "code",
   "execution_count": 307,
   "id": "pleased-appraisal",
   "metadata": {},
   "outputs": [
    {
     "data": {
      "text/plain": [
       "50"
      ]
     },
     "execution_count": 307,
     "metadata": {},
     "output_type": "execute_result"
    }
   ],
   "source": [
    "def my_func(func, arg):\n",
    "\n",
    "  return func(arg)\n",
    "\n",
    "\n",
    "\n",
    "my_func(lambda x: 2*x*x, 5)"
   ]
  },
  {
   "cell_type": "code",
   "execution_count": 308,
   "id": "finnish-legend",
   "metadata": {},
   "outputs": [
    {
     "data": {
      "text/plain": [
       "14"
      ]
     },
     "execution_count": 308,
     "metadata": {},
     "output_type": "execute_result"
    }
   ],
   "source": [
    "double = lambda x: x * 2\n",
    "\n",
    "double(7)"
   ]
  },
  {
   "cell_type": "markdown",
   "id": "running-astrology",
   "metadata": {},
   "source": [
    "# Two-Dimensional Lists\n",
    "Lists that require two indices to identify an element are called two-dimensional lists. Multidimensional lists can have\n",
    "more than two indices."
   ]
  },
  {
   "cell_type": "code",
   "execution_count": 309,
   "id": "palestinian-center",
   "metadata": {},
   "outputs": [],
   "source": [
    "a = [[77, 68, 86, 73],\n",
    "     [96, 87, 89, 81],\n",
    "     [70, 90, 86, 81]]"
   ]
  },
  {
   "cell_type": "code",
   "execution_count": 311,
   "id": "united-canon",
   "metadata": {},
   "outputs": [
    {
     "data": {
      "text/plain": [
       "86"
      ]
     },
     "execution_count": 311,
     "metadata": {},
     "output_type": "execute_result"
    }
   ],
   "source": [
    "a[0][2]"
   ]
  },
  {
   "cell_type": "code",
   "execution_count": 313,
   "id": "indoor-philosophy",
   "metadata": {},
   "outputs": [
    {
     "data": {
      "text/plain": [
       "90"
      ]
     },
     "execution_count": 313,
     "metadata": {},
     "output_type": "execute_result"
    }
   ],
   "source": [
    "a[2][1]"
   ]
  },
  {
   "cell_type": "code",
   "execution_count": 314,
   "id": "sublime-validation",
   "metadata": {},
   "outputs": [
    {
     "data": {
      "text/plain": [
       "87"
      ]
     },
     "execution_count": 314,
     "metadata": {},
     "output_type": "execute_result"
    }
   ],
   "source": [
    "a[1][1]"
   ]
  },
  {
   "cell_type": "markdown",
   "id": "faced-increase",
   "metadata": {},
   "source": [
    "|| Column 0| Column 1 | Column 2 | Column 3|\n",
    "|---|----|------|-----|------|\n",
    "|**Row0**|77|68|86|73|\n",
    "|**Row1**|96|87|89|81|\n",
    "|**Row2**|70|90|86|81|"
   ]
  },
  {
   "cell_type": "markdown",
   "id": "hybrid-specific",
   "metadata": {},
   "source": [
    "|| Column 0| Column 1 | Column 2 | Column 3|\n",
    "|---|----|------|-----|------|\n",
    "|**Row0**|a[0][0]|a[0][1]|a[0][2]|a[0][3]|\n",
    "|**Row1**|a[1][0]|a[1][1]|a[1][2]|a[1][3]|\n",
    "|**Row2**|a[2][0]|a[2][1]|a[2][2]|a[2][3]|"
   ]
  },
  {
   "cell_type": "code",
   "execution_count": 315,
   "id": "indirect-tumor",
   "metadata": {},
   "outputs": [
    {
     "name": "stdout",
     "output_type": "stream",
     "text": [
      "a[0][0]=77 ,\n",
      "a[0][1]=68 ,\n",
      "a[0][2]=86 ,\n",
      "a[0][3]=73 ,\n",
      "a[1][0]=96 ,\n",
      "a[1][1]=87 ,\n",
      "a[1][2]=89 ,\n",
      "a[1][3]=81 ,\n",
      "a[2][0]=70 ,\n",
      "a[2][1]=90 ,\n",
      "a[2][2]=86 ,\n",
      "a[2][3]=81 ,\n"
     ]
    }
   ],
   "source": [
    "for i,row in enumerate(a):\n",
    "    for j,item in enumerate(row):\n",
    "        print(f\"a[{i}][{j}]={item} ,\")"
   ]
  },
  {
   "cell_type": "markdown",
   "id": "respected-killing",
   "metadata": {},
   "source": [
    "# Numpy\n",
    "Operations on arrays are up to two orders of magnitude faster than\n",
    "those on lists"
   ]
  },
  {
   "cell_type": "markdown",
   "id": "portuguese-terrain",
   "metadata": {},
   "source": [
    "### First step, importing Numpy!"
   ]
  },
  {
   "cell_type": "code",
   "execution_count": 1,
   "id": "waiting-dynamics",
   "metadata": {},
   "outputs": [],
   "source": [
    "import numpy as np"
   ]
  },
  {
   "cell_type": "code",
   "execution_count": 318,
   "id": "lasting-lunch",
   "metadata": {},
   "outputs": [
    {
     "name": "stdout",
     "output_type": "stream",
     "text": [
      "<class 'numpy.ndarray'>\n",
      "[1 2 3 4 5 6]\n"
     ]
    }
   ],
   "source": [
    "lst=[1,2,3,4,5,6]\n",
    "\n",
    "num= np.array(lst)\n",
    "\n",
    "print(type(num))\n",
    "print(num)"
   ]
  },
  {
   "cell_type": "code",
   "execution_count": 320,
   "id": "determined-salad",
   "metadata": {},
   "outputs": [
    {
     "data": {
      "text/plain": [
       "numpy.ndarray"
      ]
     },
     "execution_count": 320,
     "metadata": {},
     "output_type": "execute_result"
    }
   ],
   "source": [
    "type(np.array([[1, 2, 3], [9, 5, 6]]))"
   ]
  },
  {
   "cell_type": "markdown",
   "id": "sporting-jason",
   "metadata": {},
   "source": [
    "### array Attributes"
   ]
  },
  {
   "cell_type": "markdown",
   "id": "supposed-basket",
   "metadata": {},
   "source": [
    "#### 1. dtype"
   ]
  },
  {
   "cell_type": "code",
   "execution_count": 327,
   "id": "chronic-preliminary",
   "metadata": {},
   "outputs": [
    {
     "data": {
      "text/plain": [
       "array([[1, 2, 3],\n",
       "       [4, 5, 6]], dtype=int64)"
      ]
     },
     "execution_count": 327,
     "metadata": {},
     "output_type": "execute_result"
    }
   ],
   "source": [
    "integers = np.array([[1, 2, 3], [4, 5, 6]])\n",
    "integers.astype('int64')"
   ]
  },
  {
   "cell_type": "code",
   "execution_count": 325,
   "id": "fifteen-slovakia",
   "metadata": {},
   "outputs": [
    {
     "data": {
      "text/plain": [
       "dtype('float64')"
      ]
     },
     "execution_count": 325,
     "metadata": {},
     "output_type": "execute_result"
    }
   ],
   "source": [
    "floats = np.array([0.0, 0.1, 0.2, 0.3, 0.4])\n",
    "floats.dtype"
   ]
  },
  {
   "cell_type": "markdown",
   "id": "portable-guarantee",
   "metadata": {},
   "source": [
    "#### 2. ndim\n",
    "ndim contains an array’s **number** of dimensions"
   ]
  },
  {
   "cell_type": "code",
   "execution_count": 328,
   "id": "fatal-entity",
   "metadata": {},
   "outputs": [
    {
     "data": {
      "text/plain": [
       "2"
      ]
     },
     "execution_count": 328,
     "metadata": {},
     "output_type": "execute_result"
    }
   ],
   "source": [
    "integers.ndim"
   ]
  },
  {
   "cell_type": "code",
   "execution_count": 329,
   "id": "front-albuquerque",
   "metadata": {},
   "outputs": [
    {
     "data": {
      "text/plain": [
       "1"
      ]
     },
     "execution_count": 329,
     "metadata": {},
     "output_type": "execute_result"
    }
   ],
   "source": [
    "floats.ndim"
   ]
  },
  {
   "cell_type": "markdown",
   "id": "imperial-appliance",
   "metadata": {},
   "source": [
    "#### 3.shape\n",
    "the attribute shape\n",
    "contains a tuple specifying an array’s dimensions"
   ]
  },
  {
   "cell_type": "code",
   "execution_count": 330,
   "id": "subsequent-roller",
   "metadata": {},
   "outputs": [
    {
     "data": {
      "text/plain": [
       "(2, 3)"
      ]
     },
     "execution_count": 330,
     "metadata": {},
     "output_type": "execute_result"
    }
   ],
   "source": [
    "integers.shape"
   ]
  },
  {
   "cell_type": "code",
   "execution_count": 331,
   "id": "artistic-listening",
   "metadata": {},
   "outputs": [
    {
     "data": {
      "text/plain": [
       "(5,)"
      ]
     },
     "execution_count": 331,
     "metadata": {},
     "output_type": "execute_result"
    }
   ],
   "source": [
    "floats.shape"
   ]
  },
  {
   "cell_type": "markdown",
   "id": "recreational-fifty",
   "metadata": {},
   "source": [
    "#### 4.size\n",
    "returns array’s total number of elements"
   ]
  },
  {
   "cell_type": "code",
   "execution_count": 172,
   "id": "killing-fluid",
   "metadata": {},
   "outputs": [
    {
     "data": {
      "text/plain": [
       "6"
      ]
     },
     "execution_count": 172,
     "metadata": {},
     "output_type": "execute_result"
    }
   ],
   "source": [
    "integers.size"
   ]
  },
  {
   "cell_type": "code",
   "execution_count": 332,
   "id": "greenhouse-cartoon",
   "metadata": {},
   "outputs": [
    {
     "data": {
      "text/plain": [
       "5"
      ]
     },
     "execution_count": 332,
     "metadata": {},
     "output_type": "execute_result"
    }
   ],
   "source": [
    "floats.size"
   ]
  },
  {
   "cell_type": "markdown",
   "id": "popular-interference",
   "metadata": {},
   "source": [
    "### flatten()\n",
    "converts multidimensional array to a one dimensional array.<br>\n",
    "Method flatten deep copies the original array’s data."
   ]
  },
  {
   "cell_type": "code",
   "execution_count": 333,
   "id": "complete-senior",
   "metadata": {},
   "outputs": [
    {
     "data": {
      "text/plain": [
       "array([1, 2, 3, 4, 5, 6])"
      ]
     },
     "execution_count": 333,
     "metadata": {},
     "output_type": "execute_result"
    }
   ],
   "source": [
    "a=integers.flatten()\n",
    "a"
   ]
  },
  {
   "cell_type": "code",
   "execution_count": 334,
   "id": "special-prince",
   "metadata": {},
   "outputs": [
    {
     "data": {
      "text/plain": [
       "array([[1, 2, 3],\n",
       "       [4, 5, 6]])"
      ]
     },
     "execution_count": 334,
     "metadata": {},
     "output_type": "execute_result"
    }
   ],
   "source": [
    "integers #so faletten only makes a copy and doesn't alter the original array"
   ]
  },
  {
   "cell_type": "code",
   "execution_count": 335,
   "id": "asian-classics",
   "metadata": {},
   "outputs": [
    {
     "data": {
      "text/plain": [
       "array([44,  2,  3,  4,  5,  6])"
      ]
     },
     "execution_count": 335,
     "metadata": {},
     "output_type": "execute_result"
    }
   ],
   "source": [
    "a[0]=44\n",
    "a"
   ]
  },
  {
   "cell_type": "code",
   "execution_count": 336,
   "id": "random-consideration",
   "metadata": {},
   "outputs": [
    {
     "data": {
      "text/plain": [
       "array([[1, 2, 3],\n",
       "       [4, 5, 6]])"
      ]
     },
     "execution_count": 336,
     "metadata": {},
     "output_type": "execute_result"
    }
   ],
   "source": [
    "integers"
   ]
  },
  {
   "cell_type": "markdown",
   "id": "painful-jones",
   "metadata": {},
   "source": [
    "### Filling arrays with Specific Values"
   ]
  },
  {
   "cell_type": "code",
   "execution_count": 337,
   "id": "loved-mobile",
   "metadata": {},
   "outputs": [
    {
     "data": {
      "text/plain": [
       "array([0., 0., 0., 0., 0.])"
      ]
     },
     "execution_count": 337,
     "metadata": {},
     "output_type": "execute_result"
    }
   ],
   "source": [
    "np.zeros(5)"
   ]
  },
  {
   "cell_type": "code",
   "execution_count": 339,
   "id": "anonymous-paraguay",
   "metadata": {},
   "outputs": [
    {
     "data": {
      "text/plain": [
       "array([[0., 0., 0.],\n",
       "       [0., 0., 0.],\n",
       "       [0., 0., 0.]])"
      ]
     },
     "execution_count": 339,
     "metadata": {},
     "output_type": "execute_result"
    }
   ],
   "source": [
    "np.zeros((3,3))"
   ]
  },
  {
   "cell_type": "code",
   "execution_count": 340,
   "id": "lesbian-transition",
   "metadata": {},
   "outputs": [
    {
     "data": {
      "text/plain": [
       "array([[[1., 1.],\n",
       "        [1., 1.]],\n",
       "\n",
       "       [[1., 1.],\n",
       "        [1., 1.]]])"
      ]
     },
     "execution_count": 340,
     "metadata": {},
     "output_type": "execute_result"
    }
   ],
   "source": [
    "np.ones((2,2,2))"
   ]
  },
  {
   "cell_type": "code",
   "execution_count": 341,
   "id": "blessed-munich",
   "metadata": {},
   "outputs": [
    {
     "data": {
      "text/plain": [
       "array([[1, 1, 1],\n",
       "       [1, 1, 1],\n",
       "       [1, 1, 1]])"
      ]
     },
     "execution_count": 341,
     "metadata": {},
     "output_type": "execute_result"
    }
   ],
   "source": [
    "np.ones((3,3),dtype=int)"
   ]
  },
  {
   "cell_type": "code",
   "execution_count": 342,
   "id": "comparable-journalist",
   "metadata": {},
   "outputs": [
    {
     "data": {
      "text/plain": [
       "array([[4, 4, 4],\n",
       "       [4, 4, 4]])"
      ]
     },
     "execution_count": 342,
     "metadata": {},
     "output_type": "execute_result"
    }
   ],
   "source": [
    "np.full((2,3),4)"
   ]
  },
  {
   "cell_type": "markdown",
   "id": "instrumental-sharp",
   "metadata": {},
   "source": [
    "### Creating Integer Ranges with\n",
    " $\\hspace{1cm}$ **arange** function <br>\n",
    " \n",
    " it's kinda similar to *range* build-in fuction"
   ]
  },
  {
   "cell_type": "code",
   "execution_count": 66,
   "id": "registered-remedy",
   "metadata": {},
   "outputs": [
    {
     "data": {
      "text/plain": [
       "array([0, 1, 2, 3, 4])"
      ]
     },
     "execution_count": 66,
     "metadata": {},
     "output_type": "execute_result"
    }
   ],
   "source": [
    "np.arange(5)"
   ]
  },
  {
   "cell_type": "markdown",
   "id": "other-formula",
   "metadata": {},
   "source": [
    "### evenly spaced values"
   ]
  },
  {
   "cell_type": "code",
   "execution_count": 344,
   "id": "optional-right",
   "metadata": {},
   "outputs": [
    {
     "data": {
      "text/plain": [
       "array([ 0.        ,  0.20408163,  0.40816327,  0.6122449 ,  0.81632653,\n",
       "        1.02040816,  1.2244898 ,  1.42857143,  1.63265306,  1.83673469,\n",
       "        2.04081633,  2.24489796,  2.44897959,  2.65306122,  2.85714286,\n",
       "        3.06122449,  3.26530612,  3.46938776,  3.67346939,  3.87755102,\n",
       "        4.08163265,  4.28571429,  4.48979592,  4.69387755,  4.89795918,\n",
       "        5.10204082,  5.30612245,  5.51020408,  5.71428571,  5.91836735,\n",
       "        6.12244898,  6.32653061,  6.53061224,  6.73469388,  6.93877551,\n",
       "        7.14285714,  7.34693878,  7.55102041,  7.75510204,  7.95918367,\n",
       "        8.16326531,  8.36734694,  8.57142857,  8.7755102 ,  8.97959184,\n",
       "        9.18367347,  9.3877551 ,  9.59183673,  9.79591837, 10.        ])"
      ]
     },
     "execution_count": 344,
     "metadata": {},
     "output_type": "execute_result"
    }
   ],
   "source": [
    "np.linspace(0.0, 10, num=5) #num's default value is 50"
   ]
  },
  {
   "cell_type": "markdown",
   "id": "relevant-installation",
   "metadata": {},
   "source": [
    "### reshape\n",
    "you can use array method reshape to transform the one-dimensional array into a multidimensional array.<br>\n",
    "Method reshape returns a view **(shallow copy)** of the original array with the new dimensions.\n",
    "It does not modify the shape of original array."
   ]
  },
  {
   "cell_type": "code",
   "execution_count": 3,
   "id": "mysterious-validity",
   "metadata": {},
   "outputs": [
    {
     "data": {
      "text/plain": [
       "(20,)"
      ]
     },
     "execution_count": 3,
     "metadata": {},
     "output_type": "execute_result"
    }
   ],
   "source": [
    "s=np.arange(1, 21)\n",
    "s.shape"
   ]
  },
  {
   "cell_type": "code",
   "execution_count": 7,
   "id": "prepared-ensemble",
   "metadata": {},
   "outputs": [
    {
     "data": {
      "text/plain": [
       "array([[ 1,  2,  3,  4],\n",
       "       [ 5,  6,  7,  8],\n",
       "       [ 9, 10, 11, 12],\n",
       "       [13, 14, 15, 16],\n",
       "       [17, 18, 19, 20]])"
      ]
     },
     "execution_count": 7,
     "metadata": {},
     "output_type": "execute_result"
    }
   ],
   "source": [
    "re_s=(s.reshape(5,4))\n",
    "re_s"
   ]
  },
  {
   "cell_type": "code",
   "execution_count": 8,
   "id": "distributed-bolivia",
   "metadata": {},
   "outputs": [
    {
     "data": {
      "text/plain": [
       "array([ 1,  2,  3,  4,  5,  6,  7,  8,  9, 10, 11, 12, 13, 14, 15, 16, 17,\n",
       "       18, 19, 20])"
      ]
     },
     "execution_count": 8,
     "metadata": {},
     "output_type": "execute_result"
    }
   ],
   "source": [
    "s"
   ]
  },
  {
   "cell_type": "code",
   "execution_count": 9,
   "id": "australian-detective",
   "metadata": {},
   "outputs": [
    {
     "data": {
      "text/plain": [
       "array([1, 2, 3, 4])"
      ]
     },
     "execution_count": 9,
     "metadata": {},
     "output_type": "execute_result"
    }
   ],
   "source": [
    "re_s[0]"
   ]
  },
  {
   "cell_type": "code",
   "execution_count": 10,
   "id": "imported-palmer",
   "metadata": {},
   "outputs": [
    {
     "name": "stdout",
     "output_type": "stream",
     "text": [
      "[[ 5  5  5  5]\n",
      " [ 5  6  7  8]\n",
      " [ 9 10 11 12]\n",
      " [13 14 15 16]\n",
      " [17 18 19 20]]\n",
      "[ 5  5  5  5  5  6  7  8  9 10 11 12 13 14 15 16 17 18 19 20]\n"
     ]
    }
   ],
   "source": [
    "re_s[0]=np.array([5,5,5,5])\n",
    "print(re_s)\n",
    "print(s)"
   ]
  },
  {
   "cell_type": "markdown",
   "id": "balanced-awareness",
   "metadata": {},
   "source": [
    "You can reshape any array, provided that the new shape has the same number of elements\n",
    "as the original. otherwise you will get a ValueError"
   ]
  },
  {
   "cell_type": "markdown",
   "id": "popular-invite",
   "metadata": {},
   "source": [
    "### resize\n",
    "Method resize modifies the original array’s shape"
   ]
  },
  {
   "cell_type": "code",
   "execution_count": 363,
   "id": "distinct-dining",
   "metadata": {},
   "outputs": [],
   "source": [
    "re_s.resize(20,)"
   ]
  },
  {
   "cell_type": "code",
   "execution_count": 364,
   "id": "banner-granny",
   "metadata": {},
   "outputs": [
    {
     "data": {
      "text/plain": [
       "array([ 5,  5,  5,  5,  5,  6,  7,  8,  9, 10, 11, 12, 13, 14, 15, 16, 17,\n",
       "       18, 19, 20])"
      ]
     },
     "execution_count": 364,
     "metadata": {},
     "output_type": "execute_result"
    }
   ],
   "source": [
    "re_s"
   ]
  },
  {
   "cell_type": "code",
   "execution_count": 365,
   "id": "dressed-thread",
   "metadata": {},
   "outputs": [
    {
     "data": {
      "text/plain": [
       "array([[ 5,  5,  5,  5,  5],\n",
       "       [ 6,  7,  8,  9, 10],\n",
       "       [11, 12, 13, 14, 15],\n",
       "       [16, 17, 18, 19, 20]])"
      ]
     },
     "execution_count": 365,
     "metadata": {},
     "output_type": "execute_result"
    }
   ],
   "source": [
    "re_s.resize(4,5)\n",
    "re_s"
   ]
  },
  {
   "cell_type": "markdown",
   "id": "changed-agenda",
   "metadata": {},
   "source": [
    "## List vs. array "
   ]
  },
  {
   "cell_type": "markdown",
   "id": "interstate-volleyball",
   "metadata": {},
   "source": [
    "#### Performance -  %timeit"
   ]
  },
  {
   "cell_type": "code",
   "execution_count": 11,
   "id": "welcome-brook",
   "metadata": {},
   "outputs": [
    {
     "name": "stdout",
     "output_type": "stream",
     "text": [
      "5 s ± 81.8 ms per loop (mean ± std. dev. of 7 runs, 1 loop each)\n"
     ]
    }
   ],
   "source": [
    "import random \n",
    "\n",
    "%timeit rolls_list = [random.randrange(1, 7) for i in range(0, 6_000_000)]"
   ]
  },
  {
   "cell_type": "code",
   "execution_count": 12,
   "id": "afraid-kidney",
   "metadata": {},
   "outputs": [
    {
     "name": "stdout",
     "output_type": "stream",
     "text": [
      "66.8 ms ± 1.11 ms per loop (mean ± std. dev. of 7 runs, 10 loops each)\n"
     ]
    }
   ],
   "source": [
    "%timeit rolls_array = np.random.randint(1, 7, 6_000_000)"
   ]
  },
  {
   "cell_type": "markdown",
   "id": "intense-lawrence",
   "metadata": {},
   "source": [
    "#### Operators"
   ]
  },
  {
   "cell_type": "code",
   "execution_count": 368,
   "id": "intended-uncertainty",
   "metadata": {},
   "outputs": [
    {
     "data": {
      "text/plain": [
       "[2, 3, 4, 2, 3, 4]"
      ]
     },
     "execution_count": 368,
     "metadata": {},
     "output_type": "execute_result"
    }
   ],
   "source": [
    "lst=[2,3,4]\n",
    "lst*2"
   ]
  },
  {
   "cell_type": "code",
   "execution_count": 369,
   "id": "occupational-vienna",
   "metadata": {},
   "outputs": [
    {
     "data": {
      "text/plain": [
       "array([4, 6, 8])"
      ]
     },
     "execution_count": 369,
     "metadata": {},
     "output_type": "execute_result"
    }
   ],
   "source": [
    "arr=np.array([2,3,4])\n",
    "arr*2"
   ]
  },
  {
   "cell_type": "markdown",
   "id": "resistant-going",
   "metadata": {},
   "source": [
    "___"
   ]
  },
  {
   "cell_type": "code",
   "execution_count": 11,
   "id": "statistical-thermal",
   "metadata": {
    "scrolled": true
   },
   "outputs": [
    {
     "ename": "TypeError",
     "evalue": "can only concatenate list (not \"int\") to list",
     "output_type": "error",
     "traceback": [
      "\u001b[1;31m---------------------------------------------------------------------------\u001b[0m",
      "\u001b[1;31mTypeError\u001b[0m                                 Traceback (most recent call last)",
      "\u001b[1;32m<ipython-input-11-63662b05448e>\u001b[0m in \u001b[0;36m<module>\u001b[1;34m\u001b[0m\n\u001b[1;32m----> 1\u001b[1;33m \u001b[0mlst\u001b[0m\u001b[1;33m+\u001b[0m\u001b[1;36m2\u001b[0m\u001b[1;33m\u001b[0m\u001b[1;33m\u001b[0m\u001b[0m\n\u001b[0m",
      "\u001b[1;31mTypeError\u001b[0m: can only concatenate list (not \"int\") to list"
     ]
    }
   ],
   "source": [
    "lst+2"
   ]
  },
  {
   "cell_type": "code",
   "execution_count": 371,
   "id": "diagnostic-helena",
   "metadata": {},
   "outputs": [
    {
     "data": {
      "text/plain": [
       "array([2, 3, 4])"
      ]
     },
     "execution_count": 371,
     "metadata": {},
     "output_type": "execute_result"
    }
   ],
   "source": [
    "arr"
   ]
  },
  {
   "cell_type": "code",
   "execution_count": 378,
   "id": "sunrise-dispute",
   "metadata": {},
   "outputs": [
    {
     "data": {
      "text/plain": [
       "array([4, 5, 6])"
      ]
     },
     "execution_count": 378,
     "metadata": {},
     "output_type": "execute_result"
    }
   ],
   "source": [
    "arr+np.array([2,2,2])"
   ]
  },
  {
   "cell_type": "markdown",
   "id": "enhanced-country",
   "metadata": {},
   "source": [
    "___"
   ]
  },
  {
   "cell_type": "code",
   "execution_count": 372,
   "id": "hungry-promise",
   "metadata": {},
   "outputs": [
    {
     "data": {
      "text/plain": [
       "[2, 3, 4]"
      ]
     },
     "execution_count": 372,
     "metadata": {},
     "output_type": "execute_result"
    }
   ],
   "source": [
    "lst"
   ]
  },
  {
   "cell_type": "code",
   "execution_count": 373,
   "id": "extended-briefing",
   "metadata": {},
   "outputs": [
    {
     "data": {
      "text/plain": [
       "[2, 3, 4, 8, 7, 6]"
      ]
     },
     "execution_count": 373,
     "metadata": {},
     "output_type": "execute_result"
    }
   ],
   "source": [
    "lst2=[8,7,6]\n",
    "lst+lst2"
   ]
  },
  {
   "cell_type": "code",
   "execution_count": 374,
   "id": "warming-sigma",
   "metadata": {},
   "outputs": [
    {
     "data": {
      "text/plain": [
       "array([2, 3, 4])"
      ]
     },
     "execution_count": 374,
     "metadata": {},
     "output_type": "execute_result"
    }
   ],
   "source": [
    "arr"
   ]
  },
  {
   "cell_type": "code",
   "execution_count": 375,
   "id": "protecting-edition",
   "metadata": {},
   "outputs": [
    {
     "data": {
      "text/plain": [
       "array([10, 10, 10])"
      ]
     },
     "execution_count": 375,
     "metadata": {},
     "output_type": "execute_result"
    }
   ],
   "source": [
    "arr2=np.array([8,7,6])\n",
    "\n",
    "arr+arr2"
   ]
  },
  {
   "cell_type": "markdown",
   "id": "buried-iceland",
   "metadata": {},
   "source": [
    "___"
   ]
  },
  {
   "cell_type": "code",
   "execution_count": 376,
   "id": "dependent-andrew",
   "metadata": {},
   "outputs": [
    {
     "ename": "TypeError",
     "evalue": "unsupported operand type(s) for ** or pow(): 'list' and 'int'",
     "output_type": "error",
     "traceback": [
      "\u001b[1;31m---------------------------------------------------------------------------\u001b[0m",
      "\u001b[1;31mTypeError\u001b[0m                                 Traceback (most recent call last)",
      "\u001b[1;32m<ipython-input-376-fc39fc4d4fe8>\u001b[0m in \u001b[0;36m<module>\u001b[1;34m\u001b[0m\n\u001b[1;32m----> 1\u001b[1;33m \u001b[0mlst\u001b[0m\u001b[1;33m**\u001b[0m\u001b[1;36m2\u001b[0m\u001b[1;33m\u001b[0m\u001b[1;33m\u001b[0m\u001b[0m\n\u001b[0m",
      "\u001b[1;31mTypeError\u001b[0m: unsupported operand type(s) for ** or pow(): 'list' and 'int'"
     ]
    }
   ],
   "source": [
    "lst**2"
   ]
  },
  {
   "cell_type": "code",
   "execution_count": 377,
   "id": "alien-california",
   "metadata": {},
   "outputs": [
    {
     "data": {
      "text/plain": [
       "array([ 4,  9, 16], dtype=int32)"
      ]
     },
     "execution_count": 377,
     "metadata": {},
     "output_type": "execute_result"
    }
   ],
   "source": [
    "arr**2"
   ]
  },
  {
   "cell_type": "markdown",
   "id": "collected-courage",
   "metadata": {},
   "source": [
    "___"
   ]
  },
  {
   "cell_type": "markdown",
   "id": "younger-dover",
   "metadata": {},
   "source": [
    "## Broadcasting\n",
    "Normally, the arithmetic operations require as operands two arrays of the same size and\n",
    "shape. When one operand is a single value, called a scalar, NumPy performs the elementwise\n",
    "calculations as if the scalar were an array of the same shape as the other operand, but\n",
    "with the scalar value in all its elements. This is called broadcasting"
   ]
  },
  {
   "cell_type": "code",
   "execution_count": 379,
   "id": "raising-photograph",
   "metadata": {},
   "outputs": [
    {
     "data": {
      "text/plain": [
       "array([4, 5, 6])"
      ]
     },
     "execution_count": 379,
     "metadata": {},
     "output_type": "execute_result"
    }
   ],
   "source": [
    "arr+ np.array([2,2,2])"
   ]
  },
  {
   "cell_type": "code",
   "execution_count": 380,
   "id": "developed-encyclopedia",
   "metadata": {},
   "outputs": [
    {
     "data": {
      "text/plain": [
       "array([4, 5, 6])"
      ]
     },
     "execution_count": 380,
     "metadata": {},
     "output_type": "execute_result"
    }
   ],
   "source": [
    "arr + 2 #brodcasted 2 to a (3,) shape"
   ]
  },
  {
   "cell_type": "code",
   "execution_count": 381,
   "id": "unlike-toolbox",
   "metadata": {},
   "outputs": [
    {
     "data": {
      "text/plain": [
       "array([[1, 2, 3],\n",
       "       [4, 4, 4],\n",
       "       [9, 8, 7]])"
      ]
     },
     "execution_count": 381,
     "metadata": {},
     "output_type": "execute_result"
    }
   ],
   "source": [
    "mat=np.array([[1,2,3],[4,4,4],[9,8,7]])\n",
    "mat"
   ]
  },
  {
   "cell_type": "code",
   "execution_count": 382,
   "id": "tired-foster",
   "metadata": {},
   "outputs": [
    {
     "data": {
      "text/plain": [
       "(3, 3)"
      ]
     },
     "execution_count": 382,
     "metadata": {},
     "output_type": "execute_result"
    }
   ],
   "source": [
    "mat.shape"
   ]
  },
  {
   "cell_type": "code",
   "execution_count": 22,
   "id": "later-laser",
   "metadata": {},
   "outputs": [
    {
     "data": {
      "text/plain": [
       "(3,)"
      ]
     },
     "execution_count": 22,
     "metadata": {},
     "output_type": "execute_result"
    }
   ],
   "source": [
    "vec=np.array([-2,-2,-2])\n",
    "vec.shape"
   ]
  },
  {
   "cell_type": "code",
   "execution_count": 23,
   "id": "closed-karen",
   "metadata": {},
   "outputs": [
    {
     "data": {
      "text/plain": [
       "array([[ -2,  -4,  -6],\n",
       "       [ -8,  -8,  -8],\n",
       "       [-18, -16, -14]])"
      ]
     },
     "execution_count": 23,
     "metadata": {},
     "output_type": "execute_result"
    }
   ],
   "source": [
    "mat*vec "
   ]
  },
  {
   "cell_type": "markdown",
   "id": "meaning-algeria",
   "metadata": {},
   "source": [
    "### element-wise product"
   ]
  },
  {
   "cell_type": "markdown",
   "id": "large-broadcasting",
   "metadata": {},
   "source": [
    "1) by np.multiply"
   ]
  },
  {
   "cell_type": "code",
   "execution_count": 383,
   "id": "structured-parking",
   "metadata": {},
   "outputs": [
    {
     "data": {
      "text/plain": [
       "array([[ 2,  4, 12],\n",
       "       [ 8,  8, 16],\n",
       "       [18, 16, 28]])"
      ]
     },
     "execution_count": 383,
     "metadata": {},
     "output_type": "execute_result"
    }
   ],
   "source": [
    "np.multiply(mat,vec)"
   ]
  },
  {
   "cell_type": "markdown",
   "id": "expired-asian",
   "metadata": {},
   "source": [
    "2) by *"
   ]
  },
  {
   "cell_type": "code",
   "execution_count": 384,
   "id": "permanent-hebrew",
   "metadata": {
    "scrolled": true
   },
   "outputs": [
    {
     "data": {
      "text/plain": [
       "array([[ 2,  4, 12],\n",
       "       [ 8,  8, 16],\n",
       "       [18, 16, 28]])"
      ]
     },
     "execution_count": 384,
     "metadata": {},
     "output_type": "execute_result"
    }
   ],
   "source": [
    "mat*vec"
   ]
  },
  {
   "cell_type": "markdown",
   "id": "behavioral-guinea",
   "metadata": {},
   "source": [
    "### element-wise summation"
   ]
  },
  {
   "cell_type": "markdown",
   "id": "present-namibia",
   "metadata": {},
   "source": [
    "1)by np.add"
   ]
  },
  {
   "cell_type": "code",
   "execution_count": 385,
   "id": "honey-shadow",
   "metadata": {},
   "outputs": [
    {
     "data": {
      "text/plain": [
       "array([10, 10, 10])"
      ]
     },
     "execution_count": 385,
     "metadata": {},
     "output_type": "execute_result"
    }
   ],
   "source": [
    "np.add(arr,arr2)"
   ]
  },
  {
   "cell_type": "markdown",
   "id": "identified-congo",
   "metadata": {},
   "source": [
    "2) by +"
   ]
  },
  {
   "cell_type": "code",
   "execution_count": 386,
   "id": "external-motivation",
   "metadata": {},
   "outputs": [
    {
     "data": {
      "text/plain": [
       "array([10, 10, 10])"
      ]
     },
     "execution_count": 386,
     "metadata": {},
     "output_type": "execute_result"
    }
   ],
   "source": [
    "arr+arr2"
   ]
  },
  {
   "cell_type": "markdown",
   "id": "baking-purpose",
   "metadata": {},
   "source": [
    "### element-wise exponentiation"
   ]
  },
  {
   "cell_type": "markdown",
   "id": "about-neighborhood",
   "metadata": {},
   "source": [
    "1) np.power"
   ]
  },
  {
   "cell_type": "code",
   "execution_count": 387,
   "id": "enclosed-local",
   "metadata": {},
   "outputs": [
    {
     "data": {
      "text/plain": [
       "array([ 8, 27, 64], dtype=int32)"
      ]
     },
     "execution_count": 387,
     "metadata": {},
     "output_type": "execute_result"
    }
   ],
   "source": [
    "np.power(arr,3)"
   ]
  },
  {
   "cell_type": "markdown",
   "id": "cardiac-administrator",
   "metadata": {},
   "source": [
    "3) by **"
   ]
  },
  {
   "cell_type": "code",
   "execution_count": 388,
   "id": "swiss-installation",
   "metadata": {},
   "outputs": [
    {
     "data": {
      "text/plain": [
       "array([ 8, 27, 64], dtype=int32)"
      ]
     },
     "execution_count": 388,
     "metadata": {},
     "output_type": "execute_result"
    }
   ],
   "source": [
    "arr**3"
   ]
  },
  {
   "cell_type": "markdown",
   "id": "dynamic-dragon",
   "metadata": {},
   "source": [
    "### element-wise subtraction "
   ]
  },
  {
   "cell_type": "markdown",
   "id": "parallel-kazakhstan",
   "metadata": {},
   "source": [
    "1) by np.subtract"
   ]
  },
  {
   "cell_type": "code",
   "execution_count": 389,
   "id": "removable-clarity",
   "metadata": {},
   "outputs": [
    {
     "data": {
      "text/plain": [
       "array([0, 1, 2])"
      ]
     },
     "execution_count": 389,
     "metadata": {},
     "output_type": "execute_result"
    }
   ],
   "source": [
    "np.subtract(arr,2)"
   ]
  },
  {
   "cell_type": "markdown",
   "id": "spatial-healing",
   "metadata": {},
   "source": [
    "2) by -"
   ]
  },
  {
   "cell_type": "code",
   "execution_count": 198,
   "id": "catholic-walter",
   "metadata": {},
   "outputs": [
    {
     "data": {
      "text/plain": [
       "array([-2, -1,  0,  1,  2,  3,  4])"
      ]
     },
     "execution_count": 198,
     "metadata": {},
     "output_type": "execute_result"
    }
   ],
   "source": [
    "arr -2"
   ]
  },
  {
   "cell_type": "markdown",
   "id": "solar-oklahoma",
   "metadata": {},
   "source": [
    "### element-wise division"
   ]
  },
  {
   "cell_type": "markdown",
   "id": "lyric-croatia",
   "metadata": {},
   "source": [
    "1) by np.divide"
   ]
  },
  {
   "cell_type": "code",
   "execution_count": 390,
   "id": "apparent-chocolate",
   "metadata": {},
   "outputs": [
    {
     "data": {
      "text/plain": [
       "array([0.1 , 0.15, 0.2 ])"
      ]
     },
     "execution_count": 390,
     "metadata": {},
     "output_type": "execute_result"
    }
   ],
   "source": [
    "np.divide(arr,20)"
   ]
  },
  {
   "cell_type": "markdown",
   "id": "flexible-laugh",
   "metadata": {},
   "source": [
    "2) by /"
   ]
  },
  {
   "cell_type": "code",
   "execution_count": 391,
   "id": "rural-blast",
   "metadata": {},
   "outputs": [
    {
     "data": {
      "text/plain": [
       "array([0.1 , 0.15, 0.2 ])"
      ]
     },
     "execution_count": 391,
     "metadata": {},
     "output_type": "execute_result"
    }
   ],
   "source": [
    "arr/20"
   ]
  },
  {
   "cell_type": "markdown",
   "id": "happy-rebate",
   "metadata": {},
   "source": [
    "## Comparison arrays\n",
    "Comparisons are\n",
    "performed element-wise"
   ]
  },
  {
   "cell_type": "code",
   "execution_count": 392,
   "id": "stock-anchor",
   "metadata": {},
   "outputs": [
    {
     "data": {
      "text/plain": [
       "array([2, 3, 4])"
      ]
     },
     "execution_count": 392,
     "metadata": {},
     "output_type": "execute_result"
    }
   ],
   "source": [
    "arr"
   ]
  },
  {
   "cell_type": "code",
   "execution_count": 27,
   "id": "attempted-jimmy",
   "metadata": {},
   "outputs": [
    {
     "data": {
      "text/plain": [
       "array([False,  True,  True])"
      ]
     },
     "execution_count": 27,
     "metadata": {},
     "output_type": "execute_result"
    }
   ],
   "source": [
    "arr>2"
   ]
  },
  {
   "cell_type": "code",
   "execution_count": 393,
   "id": "documentary-portugal",
   "metadata": {},
   "outputs": [
    {
     "data": {
      "text/plain": [
       "array([8, 7, 6])"
      ]
     },
     "execution_count": 393,
     "metadata": {},
     "output_type": "execute_result"
    }
   ],
   "source": [
    "arr2"
   ]
  },
  {
   "cell_type": "code",
   "execution_count": 29,
   "id": "robust-joshua",
   "metadata": {},
   "outputs": [
    {
     "data": {
      "text/plain": [
       "array([False, False, False])"
      ]
     },
     "execution_count": 29,
     "metadata": {},
     "output_type": "execute_result"
    }
   ],
   "source": [
    "arr==arr2"
   ]
  },
  {
   "cell_type": "markdown",
   "id": "historical-berry",
   "metadata": {},
   "source": [
    "## NumPy Calculation Methods (sum, min, max, mean, std  and var)"
   ]
  },
  {
   "cell_type": "code",
   "execution_count": 3,
   "id": "continental-turner",
   "metadata": {},
   "outputs": [
    {
     "data": {
      "text/plain": [
       "(4, 3)"
      ]
     },
     "execution_count": 3,
     "metadata": {},
     "output_type": "execute_result"
    }
   ],
   "source": [
    "grades = np.array([[87, 96, 70], [100, 87, 90],[94, 77, 90], [100, 81, 82]])\n",
    "grades.shape"
   ]
  },
  {
   "cell_type": "code",
   "execution_count": 395,
   "id": "noble-adoption",
   "metadata": {},
   "outputs": [
    {
     "data": {
      "text/plain": [
       "array([[ 87,  96,  70],\n",
       "       [100,  87,  90],\n",
       "       [ 94,  77,  90],\n",
       "       [100,  81,  82]])"
      ]
     },
     "execution_count": 395,
     "metadata": {},
     "output_type": "execute_result"
    }
   ],
   "source": [
    "grades"
   ]
  },
  {
   "cell_type": "code",
   "execution_count": 396,
   "id": "tutorial-column",
   "metadata": {},
   "outputs": [
    {
     "data": {
      "text/plain": [
       "1054"
      ]
     },
     "execution_count": 396,
     "metadata": {},
     "output_type": "execute_result"
    }
   ],
   "source": [
    "grades.sum()"
   ]
  },
  {
   "cell_type": "code",
   "execution_count": 34,
   "id": "greenhouse-immigration",
   "metadata": {},
   "outputs": [
    {
     "data": {
      "text/plain": [
       "array([381, 341, 332])"
      ]
     },
     "execution_count": 34,
     "metadata": {},
     "output_type": "execute_result"
    }
   ],
   "source": [
    "grades.sum(axis=0) #on all rows"
   ]
  },
  {
   "cell_type": "code",
   "execution_count": 35,
   "id": "racial-pearl",
   "metadata": {},
   "outputs": [
    {
     "data": {
      "text/plain": [
       "array([253, 277, 261, 263])"
      ]
     },
     "execution_count": 35,
     "metadata": {},
     "output_type": "execute_result"
    }
   ],
   "source": [
    "grades.sum(axis=1) #on all columns"
   ]
  },
  {
   "cell_type": "code",
   "execution_count": 397,
   "id": "applied-interval",
   "metadata": {},
   "outputs": [
    {
     "data": {
      "text/plain": [
       "70"
      ]
     },
     "execution_count": 397,
     "metadata": {},
     "output_type": "execute_result"
    }
   ],
   "source": [
    "grades.min()"
   ]
  },
  {
   "cell_type": "code",
   "execution_count": 38,
   "id": "public-printing",
   "metadata": {},
   "outputs": [
    {
     "data": {
      "text/plain": [
       "array([87, 77, 70])"
      ]
     },
     "execution_count": 38,
     "metadata": {},
     "output_type": "execute_result"
    }
   ],
   "source": [
    "grades.min(axis=0) #on all rows"
   ]
  },
  {
   "cell_type": "code",
   "execution_count": 39,
   "id": "representative-bookmark",
   "metadata": {},
   "outputs": [
    {
     "data": {
      "text/plain": [
       "array([70, 87, 77, 81])"
      ]
     },
     "execution_count": 39,
     "metadata": {},
     "output_type": "execute_result"
    }
   ],
   "source": [
    "grades.min(axis=1) #on all columns"
   ]
  },
  {
   "cell_type": "code",
   "execution_count": 398,
   "id": "fatal-accountability",
   "metadata": {},
   "outputs": [
    {
     "data": {
      "text/plain": [
       "100"
      ]
     },
     "execution_count": 398,
     "metadata": {},
     "output_type": "execute_result"
    }
   ],
   "source": [
    "grades.max()"
   ]
  },
  {
   "cell_type": "code",
   "execution_count": 399,
   "id": "medium-walker",
   "metadata": {},
   "outputs": [
    {
     "data": {
      "text/plain": [
       "array([100,  96,  90])"
      ]
     },
     "execution_count": 399,
     "metadata": {},
     "output_type": "execute_result"
    }
   ],
   "source": [
    "grades.max(axis=0) #on all rows"
   ]
  },
  {
   "cell_type": "code",
   "execution_count": 400,
   "id": "practical-colony",
   "metadata": {},
   "outputs": [
    {
     "data": {
      "text/plain": [
       "array([ 96, 100,  94, 100])"
      ]
     },
     "execution_count": 400,
     "metadata": {},
     "output_type": "execute_result"
    }
   ],
   "source": [
    "grades.max(axis=1) #on all columns"
   ]
  },
  {
   "cell_type": "code",
   "execution_count": 401,
   "id": "sealed-piece",
   "metadata": {},
   "outputs": [
    {
     "data": {
      "text/plain": [
       "8.792357792739987"
      ]
     },
     "execution_count": 401,
     "metadata": {},
     "output_type": "execute_result"
    }
   ],
   "source": [
    "grades.std()"
   ]
  },
  {
   "cell_type": "code",
   "execution_count": 45,
   "id": "afraid-tamil",
   "metadata": {},
   "outputs": [
    {
     "data": {
      "text/plain": [
       "array([5.35607132, 7.15454401, 8.18535277])"
      ]
     },
     "execution_count": 45,
     "metadata": {},
     "output_type": "execute_result"
    }
   ],
   "source": [
    "grades.std(axis=0)#on all rows"
   ]
  },
  {
   "cell_type": "code",
   "execution_count": 46,
   "id": "encouraging-system",
   "metadata": {},
   "outputs": [
    {
     "data": {
      "text/plain": [
       "array([10.78064109,  5.55777733,  7.25718035,  8.7305339 ])"
      ]
     },
     "execution_count": 46,
     "metadata": {},
     "output_type": "execute_result"
    }
   ],
   "source": [
    "grades.std(axis=1) #on all columns"
   ]
  },
  {
   "cell_type": "code",
   "execution_count": 47,
   "id": "allied-darwin",
   "metadata": {},
   "outputs": [
    {
     "data": {
      "text/plain": [
       "77.30555555555556"
      ]
     },
     "execution_count": 47,
     "metadata": {},
     "output_type": "execute_result"
    }
   ],
   "source": [
    "grades.var()"
   ]
  },
  {
   "cell_type": "code",
   "execution_count": 48,
   "id": "interior-think",
   "metadata": {},
   "outputs": [
    {
     "data": {
      "text/plain": [
       "array([28.6875, 51.1875, 67.    ])"
      ]
     },
     "execution_count": 48,
     "metadata": {},
     "output_type": "execute_result"
    }
   ],
   "source": [
    "grades.var(axis=0) #on all rows"
   ]
  },
  {
   "cell_type": "code",
   "execution_count": 49,
   "id": "stone-benchmark",
   "metadata": {},
   "outputs": [
    {
     "data": {
      "text/plain": [
       "array([116.22222222,  30.88888889,  52.66666667,  76.22222222])"
      ]
     },
     "execution_count": 49,
     "metadata": {},
     "output_type": "execute_result"
    }
   ],
   "source": [
    "grades.var(axis=1)#on all columns"
   ]
  },
  {
   "cell_type": "markdown",
   "id": "systematic-builder",
   "metadata": {},
   "source": [
    "___"
   ]
  },
  {
   "cell_type": "code",
   "execution_count": 402,
   "id": "metropolitan-hours",
   "metadata": {},
   "outputs": [
    {
     "data": {
      "text/plain": [
       "8.792357792739987"
      ]
     },
     "execution_count": 402,
     "metadata": {},
     "output_type": "execute_result"
    }
   ],
   "source": [
    "np.sqrt(grades.var())"
   ]
  },
  {
   "cell_type": "code",
   "execution_count": 403,
   "id": "interracial-watson",
   "metadata": {},
   "outputs": [
    {
     "data": {
      "text/plain": [
       "8.792357792739987"
      ]
     },
     "execution_count": 403,
     "metadata": {},
     "output_type": "execute_result"
    }
   ],
   "source": [
    "grades.std()"
   ]
  },
  {
   "cell_type": "markdown",
   "id": "becoming-warrior",
   "metadata": {},
   "source": [
    "## Indexing and Slicing\n",
    "One-dimensional arrays can be indexed and sliced using the same syntax and techniques\n",
    "we demonstrated in the “Sequences: Lists and Tuples”. but higher dimensions are different !"
   ]
  },
  {
   "cell_type": "code",
   "execution_count": 57,
   "id": "prescription-material",
   "metadata": {},
   "outputs": [
    {
     "data": {
      "text/plain": [
       "array([0, 1, 2, 3, 4, 5, 6])"
      ]
     },
     "execution_count": 57,
     "metadata": {},
     "output_type": "execute_result"
    }
   ],
   "source": [
    "arr=np.arange(7)\n",
    "arr"
   ]
  },
  {
   "cell_type": "code",
   "execution_count": 58,
   "id": "skilled-intelligence",
   "metadata": {},
   "outputs": [
    {
     "data": {
      "text/plain": [
       "0"
      ]
     },
     "execution_count": 58,
     "metadata": {},
     "output_type": "execute_result"
    }
   ],
   "source": [
    "arr[0]"
   ]
  },
  {
   "cell_type": "code",
   "execution_count": 404,
   "id": "particular-economics",
   "metadata": {},
   "outputs": [
    {
     "data": {
      "text/plain": [
       "array([2, 3, 4])"
      ]
     },
     "execution_count": 404,
     "metadata": {},
     "output_type": "execute_result"
    }
   ],
   "source": [
    "arr[:3]"
   ]
  },
  {
   "cell_type": "code",
   "execution_count": 405,
   "id": "lined-colony",
   "metadata": {},
   "outputs": [
    {
     "data": {
      "text/plain": [
       "4"
      ]
     },
     "execution_count": 405,
     "metadata": {},
     "output_type": "execute_result"
    }
   ],
   "source": [
    "arr[-1]"
   ]
  },
  {
   "cell_type": "code",
   "execution_count": 406,
   "id": "fiscal-roommate",
   "metadata": {},
   "outputs": [
    {
     "data": {
      "text/plain": [
       "array([2, 3, 4])"
      ]
     },
     "execution_count": 406,
     "metadata": {},
     "output_type": "execute_result"
    }
   ],
   "source": [
    "arr[-3:]"
   ]
  },
  {
   "cell_type": "markdown",
   "id": "valuable-franklin",
   "metadata": {},
   "source": [
    "### Indexing with Two-Dimensional arrays"
   ]
  },
  {
   "cell_type": "code",
   "execution_count": 409,
   "id": "spare-techno",
   "metadata": {},
   "outputs": [
    {
     "data": {
      "text/plain": [
       "array([[ 87,  96,  70],\n",
       "       [100,  87,  90],\n",
       "       [ 94,  77,  90],\n",
       "       [100,  81,  82]])"
      ]
     },
     "execution_count": 409,
     "metadata": {},
     "output_type": "execute_result"
    }
   ],
   "source": [
    "grades"
   ]
  },
  {
   "cell_type": "code",
   "execution_count": 410,
   "id": "contrary-membership",
   "metadata": {},
   "outputs": [
    {
     "data": {
      "text/plain": [
       "[[87, 96, 70], [100, 87, 90], [94, 77, 90], [100, 81, 82]]"
      ]
     },
     "execution_count": 410,
     "metadata": {},
     "output_type": "execute_result"
    }
   ],
   "source": [
    "grade_lst=[list(row) for row in grades]\n",
    "grade_lst"
   ]
  },
  {
   "cell_type": "code",
   "execution_count": 411,
   "id": "comic-building",
   "metadata": {},
   "outputs": [
    {
     "data": {
      "text/plain": [
       "87"
      ]
     },
     "execution_count": 411,
     "metadata": {},
     "output_type": "execute_result"
    }
   ],
   "source": [
    "#for array indexing :\n",
    "grades[0,0] # row 0, column 0"
   ]
  },
  {
   "cell_type": "code",
   "execution_count": 412,
   "id": "civic-casting",
   "metadata": {},
   "outputs": [
    {
     "data": {
      "text/plain": [
       "87"
      ]
     },
     "execution_count": 412,
     "metadata": {},
     "output_type": "execute_result"
    }
   ],
   "source": [
    "#for list indexing\n",
    "grade_lst[0][0] # row 0, column 0"
   ]
  },
  {
   "cell_type": "markdown",
   "id": "boring-valley",
   "metadata": {},
   "source": [
    "## Selecting a Subset of a Two-Dimensional array’s Rows\n",
    "To select a single row, specify only one index in square brackets"
   ]
  },
  {
   "cell_type": "code",
   "execution_count": 413,
   "id": "mental-shadow",
   "metadata": {},
   "outputs": [
    {
     "data": {
      "text/plain": [
       "array([87, 96, 70])"
      ]
     },
     "execution_count": 413,
     "metadata": {},
     "output_type": "execute_result"
    }
   ],
   "source": [
    "grades[0]"
   ]
  },
  {
   "cell_type": "code",
   "execution_count": 414,
   "id": "specialized-projector",
   "metadata": {},
   "outputs": [
    {
     "data": {
      "text/plain": [
       "array([100,  81,  82])"
      ]
     },
     "execution_count": 414,
     "metadata": {},
     "output_type": "execute_result"
    }
   ],
   "source": [
    "grades[3]"
   ]
  },
  {
   "cell_type": "markdown",
   "id": "removed-ivory",
   "metadata": {},
   "source": [
    "#### To select multiple sequential rows, use slice notation"
   ]
  },
  {
   "cell_type": "code",
   "execution_count": 80,
   "id": "combined-russian",
   "metadata": {},
   "outputs": [
    {
     "data": {
      "text/plain": [
       "array([[ 87,  96,  70],\n",
       "       [100,  87,  90]])"
      ]
     },
     "execution_count": 80,
     "metadata": {},
     "output_type": "execute_result"
    }
   ],
   "source": [
    "grades[0:2]"
   ]
  },
  {
   "cell_type": "code",
   "execution_count": 415,
   "id": "associate-initial",
   "metadata": {},
   "outputs": [
    {
     "data": {
      "text/plain": [
       "[[87, 96, 70], [100, 87, 90]]"
      ]
     },
     "execution_count": 415,
     "metadata": {},
     "output_type": "execute_result"
    }
   ],
   "source": [
    "grade_lst[0:2]"
   ]
  },
  {
   "cell_type": "code",
   "execution_count": 418,
   "id": "protecting-discharge",
   "metadata": {},
   "outputs": [
    {
     "data": {
      "text/plain": [
       "array([[ 87,  96,  70],\n",
       "       [100,  87,  90],\n",
       "       [ 94,  77,  90],\n",
       "       [100,  81,  82]])"
      ]
     },
     "execution_count": 418,
     "metadata": {},
     "output_type": "execute_result"
    }
   ],
   "source": [
    "grades"
   ]
  },
  {
   "cell_type": "code",
   "execution_count": 417,
   "id": "designed-medicaid",
   "metadata": {},
   "outputs": [
    {
     "data": {
      "text/plain": [
       "array([[ 87,  96,  70],\n",
       "       [100,  81,  82]])"
      ]
     },
     "execution_count": 417,
     "metadata": {},
     "output_type": "execute_result"
    }
   ],
   "source": [
    "grades[[0, 3]]"
   ]
  },
  {
   "cell_type": "code",
   "execution_count": 421,
   "id": "chubby-maintenance",
   "metadata": {},
   "outputs": [
    {
     "data": {
      "text/plain": [
       "[[100, 87, 90], [94, 77, 90], [100, 81, 82]]"
      ]
     },
     "execution_count": 421,
     "metadata": {},
     "output_type": "execute_result"
    }
   ],
   "source": [
    "grade_lst[1:4]"
   ]
  },
  {
   "cell_type": "markdown",
   "id": "parallel-notification",
   "metadata": {},
   "source": [
    "## Selecting a Subset of a Two-Dimensional array’s Columns\n",
    "You can select subsets of the columns by providing a tuple specifying the rows and columns to select"
   ]
  },
  {
   "cell_type": "code",
   "execution_count": 422,
   "id": "unknown-austria",
   "metadata": {},
   "outputs": [
    {
     "data": {
      "text/plain": [
       "array([[ 87,  96,  70],\n",
       "       [100,  87,  90],\n",
       "       [ 94,  77,  90],\n",
       "       [100,  81,  82]])"
      ]
     },
     "execution_count": 422,
     "metadata": {},
     "output_type": "execute_result"
    }
   ],
   "source": [
    "grades"
   ]
  },
  {
   "cell_type": "code",
   "execution_count": 423,
   "id": "acceptable-example",
   "metadata": {},
   "outputs": [
    {
     "data": {
      "text/plain": [
       "array([ 87, 100,  94, 100])"
      ]
     },
     "execution_count": 423,
     "metadata": {},
     "output_type": "execute_result"
    }
   ],
   "source": [
    "grades[:, 0]"
   ]
  },
  {
   "cell_type": "code",
   "execution_count": 424,
   "id": "political-gazette",
   "metadata": {},
   "outputs": [
    {
     "data": {
      "text/plain": [
       "array([[96, 70],\n",
       "       [87, 90],\n",
       "       [77, 90],\n",
       "       [81, 82]])"
      ]
     },
     "execution_count": 424,
     "metadata": {},
     "output_type": "execute_result"
    }
   ],
   "source": [
    "grades[:, 1:3]"
   ]
  },
  {
   "cell_type": "code",
   "execution_count": 111,
   "id": "assured-static",
   "metadata": {},
   "outputs": [
    {
     "data": {
      "text/plain": [
       "array([[ 87,  70],\n",
       "       [100,  90],\n",
       "       [ 94,  90],\n",
       "       [100,  82]])"
      ]
     },
     "execution_count": 111,
     "metadata": {},
     "output_type": "execute_result"
    }
   ],
   "source": [
    "grades[:, [0,2]]"
   ]
  },
  {
   "cell_type": "code",
   "execution_count": 425,
   "id": "secure-appearance",
   "metadata": {},
   "outputs": [
    {
     "data": {
      "text/plain": [
       "array([[ 87,  96,  70],\n",
       "       [100,  87,  90],\n",
       "       [ 94,  77,  90],\n",
       "       [100,  81,  82]])"
      ]
     },
     "execution_count": 425,
     "metadata": {},
     "output_type": "execute_result"
    }
   ],
   "source": [
    "grades"
   ]
  },
  {
   "cell_type": "code",
   "execution_count": 426,
   "id": "elegant-forth",
   "metadata": {},
   "outputs": [
    {
     "data": {
      "text/plain": [
       "array([96, 87])"
      ]
     },
     "execution_count": 426,
     "metadata": {},
     "output_type": "execute_result"
    }
   ],
   "source": [
    " grades[0:2,1]"
   ]
  },
  {
   "cell_type": "code",
   "execution_count": 427,
   "id": "absent-medicare",
   "metadata": {},
   "outputs": [
    {
     "data": {
      "text/plain": [
       "[[87, 96, 70], [100, 87, 90], [94, 77, 90], [100, 81, 82]]"
      ]
     },
     "execution_count": 427,
     "metadata": {},
     "output_type": "execute_result"
    }
   ],
   "source": [
    "grade_lst"
   ]
  },
  {
   "cell_type": "code",
   "execution_count": 104,
   "id": "amateur-jackson",
   "metadata": {},
   "outputs": [
    {
     "data": {
      "text/plain": [
       "[96, 87]"
      ]
     },
     "execution_count": 104,
     "metadata": {},
     "output_type": "execute_result"
    }
   ],
   "source": [
    " #for lists: \n",
    "[row[1] for row in grade_lst[0:2]]"
   ]
  },
  {
   "cell_type": "markdown",
   "id": "revolutionary-charger",
   "metadata": {},
   "source": [
    "### Transposing rows and columns\n",
    "The T attribute returns a\n",
    "transposed view (shallow copy) of the array."
   ]
  },
  {
   "cell_type": "code",
   "execution_count": 428,
   "id": "caroline-watts",
   "metadata": {},
   "outputs": [
    {
     "data": {
      "text/plain": [
       "array([[ 87,  96,  70],\n",
       "       [100,  87,  90],\n",
       "       [ 94,  77,  90],\n",
       "       [100,  81,  82]])"
      ]
     },
     "execution_count": 428,
     "metadata": {},
     "output_type": "execute_result"
    }
   ],
   "source": [
    "grades"
   ]
  },
  {
   "cell_type": "code",
   "execution_count": 429,
   "id": "familiar-airport",
   "metadata": {},
   "outputs": [
    {
     "data": {
      "text/plain": [
       "array([[ 87, 100,  94, 100],\n",
       "       [ 96,  87,  77,  81],\n",
       "       [ 70,  90,  90,  82]])"
      ]
     },
     "execution_count": 429,
     "metadata": {},
     "output_type": "execute_result"
    }
   ],
   "source": [
    "grades.T"
   ]
  },
  {
   "cell_type": "code",
   "execution_count": 430,
   "id": "ambient-period",
   "metadata": {},
   "outputs": [
    {
     "data": {
      "text/plain": [
       "array([[ 87, 100,  94, 100],\n",
       "       [ 96,  87,  77,  81],\n",
       "       [ 70,  90,  90,  82]])"
      ]
     },
     "execution_count": 430,
     "metadata": {},
     "output_type": "execute_result"
    }
   ],
   "source": [
    "np.transpose(grades)"
   ]
  },
  {
   "cell_type": "markdown",
   "id": "mathematical-approach",
   "metadata": {},
   "source": [
    "### combine arrays"
   ]
  },
  {
   "cell_type": "code",
   "execution_count": 431,
   "id": "regular-chester",
   "metadata": {},
   "outputs": [
    {
     "data": {
      "text/plain": [
       "array([[ 87,  96,  70],\n",
       "       [100,  87,  90],\n",
       "       [ 94,  77,  90],\n",
       "       [100,  81,  82]])"
      ]
     },
     "execution_count": 431,
     "metadata": {},
     "output_type": "execute_result"
    }
   ],
   "source": [
    "grades"
   ]
  },
  {
   "cell_type": "code",
   "execution_count": 432,
   "id": "arbitrary-windows",
   "metadata": {},
   "outputs": [
    {
     "data": {
      "text/plain": [
       "array([[ 87,  96,  70],\n",
       "       [100,  87,  90],\n",
       "       [ 94,  77,  90],\n",
       "       [100,  81,  82],\n",
       "       [ 20,  40,  60]])"
      ]
     },
     "execution_count": 432,
     "metadata": {},
     "output_type": "execute_result"
    }
   ],
   "source": [
    "gr=np.array([[20,40,60]])\n",
    "\n",
    "np.vstack((grades,gr))"
   ]
  },
  {
   "cell_type": "code",
   "execution_count": 433,
   "id": "breathing-corrections",
   "metadata": {},
   "outputs": [
    {
     "data": {
      "text/plain": [
       "array([[ 87,  96,  70],\n",
       "       [100,  87,  90],\n",
       "       [ 94,  77,  90],\n",
       "       [100,  81,  82]])"
      ]
     },
     "execution_count": 433,
     "metadata": {},
     "output_type": "execute_result"
    }
   ],
   "source": [
    "grades"
   ]
  },
  {
   "cell_type": "code",
   "execution_count": 434,
   "id": "covered-honolulu",
   "metadata": {},
   "outputs": [
    {
     "data": {
      "text/plain": [
       "array([[ 87,  96,  70,   1,   2],\n",
       "       [100,  87,  90,   2,   7],\n",
       "       [ 94,  77,  90,   3,   6],\n",
       "       [100,  81,  82,   5,   4]])"
      ]
     },
     "execution_count": 434,
     "metadata": {},
     "output_type": "execute_result"
    }
   ],
   "source": [
    "gr2=np.array([[1,2],[2,7],[3,6],[5,4]])\n",
    "np.hstack((grades,gr2))"
   ]
  },
  {
   "cell_type": "markdown",
   "id": "moved-easter",
   "metadata": {},
   "source": [
    "### empty_like\n",
    "Creates an empty matrix with the same shape as x filled with random numbers"
   ]
  },
  {
   "cell_type": "code",
   "execution_count": 199,
   "id": "false-organic",
   "metadata": {},
   "outputs": [
    {
     "data": {
      "text/plain": [
       "array([[-1717986918,  1068079513, -1717986918],\n",
       "       [ 1069128089,   858993459,  1069757235],\n",
       "       [-1717986918,  1070176665,           0],\n",
       "       [ 1070596096,   858993459,  1070805811]])"
      ]
     },
     "execution_count": 199,
     "metadata": {},
     "output_type": "execute_result"
    }
   ],
   "source": [
    "y = np.empty_like(grades)\n",
    "y"
   ]
  },
  {
   "cell_type": "markdown",
   "id": "hindu-yorkshire",
   "metadata": {},
   "source": [
    "### more on NumPy Calculation Methods"
   ]
  },
  {
   "cell_type": "markdown",
   "id": "related-plaintiff",
   "metadata": {},
   "source": [
    "$e^x$  :\n"
   ]
  },
  {
   "cell_type": "code",
   "execution_count": 211,
   "id": "working-friend",
   "metadata": {},
   "outputs": [
    {
     "data": {
      "text/plain": [
       "2.718281828459045"
      ]
     },
     "execution_count": 211,
     "metadata": {},
     "output_type": "execute_result"
    }
   ],
   "source": [
    "np.exp(1) "
   ]
  },
  {
   "cell_type": "code",
   "execution_count": 435,
   "id": "mental-irish",
   "metadata": {},
   "outputs": [
    {
     "data": {
      "text/plain": [
       "array([10.        ,  2.        ,  2.71828183])"
      ]
     },
     "execution_count": 435,
     "metadata": {},
     "output_type": "execute_result"
    }
   ],
   "source": [
    "a=np.array([10,2,np.exp(1)])\n",
    "a"
   ]
  },
  {
   "cell_type": "code",
   "execution_count": 436,
   "id": "central-relations",
   "metadata": {},
   "outputs": [
    {
     "name": "stdout",
     "output_type": "stream",
     "text": [
      "[1.         0.30103    0.43429448]\n",
      "[2.30258509 0.69314718 1.        ]\n",
      "[3.32192809 1.         1.44269504]\n"
     ]
    }
   ],
   "source": [
    "print(np.log10(a))\n",
    "print(np.log(a)) #with base e\n",
    "print(np.log2(a))"
   ]
  },
  {
   "cell_type": "code",
   "execution_count": 206,
   "id": "colonial-miniature",
   "metadata": {},
   "outputs": [
    {
     "data": {
      "text/plain": [
       "array([1, 1, 1])"
      ]
     },
     "execution_count": 206,
     "metadata": {},
     "output_type": "execute_result"
    }
   ],
   "source": [
    "b=np.array([-1,-1,-1])\n",
    "np.abs(b)"
   ]
  },
  {
   "cell_type": "code",
   "execution_count": 212,
   "id": "fifteen-dallas",
   "metadata": {},
   "outputs": [
    {
     "data": {
      "text/plain": [
       "array([[1., 0., 0., 0.],\n",
       "       [0., 1., 0., 0.],\n",
       "       [0., 0., 1., 0.],\n",
       "       [0., 0., 0., 1.]])"
      ]
     },
     "execution_count": 212,
     "metadata": {},
     "output_type": "execute_result"
    }
   ],
   "source": [
    "np.eye(4)"
   ]
  },
  {
   "cell_type": "markdown",
   "id": "fresh-diagram",
   "metadata": {},
   "source": [
    "\n",
    "### Convert an array to a different type"
   ]
  },
  {
   "cell_type": "code",
   "execution_count": 437,
   "id": "elementary-pastor",
   "metadata": {},
   "outputs": [
    {
     "data": {
      "text/plain": [
       "array([2.1, 2. , 3. , 4. ])"
      ]
     },
     "execution_count": 437,
     "metadata": {},
     "output_type": "execute_result"
    }
   ],
   "source": [
    "a=np.array([2.1,2,3,4])\n",
    "a"
   ]
  },
  {
   "cell_type": "code",
   "execution_count": 216,
   "id": "boolean-moderator",
   "metadata": {},
   "outputs": [
    {
     "data": {
      "text/plain": [
       "array([2, 2, 3, 4])"
      ]
     },
     "execution_count": 216,
     "metadata": {},
     "output_type": "execute_result"
    }
   ],
   "source": [
    "a.astype(int) "
   ]
  },
  {
   "cell_type": "markdown",
   "id": "excited-boating",
   "metadata": {},
   "source": [
    "\n",
    "# Matrix multiplication "
   ]
  },
  {
   "cell_type": "code",
   "execution_count": 439,
   "id": "specific-coordinator",
   "metadata": {},
   "outputs": [
    {
     "name": "stdout",
     "output_type": "stream",
     "text": [
      "[2 2 4] \n",
      "\n",
      "[[1 2 3]\n",
      " [1 1 1]\n",
      " [3 3 3]]\n"
     ]
    }
   ],
   "source": [
    "vec=np.array([2,2,4])\n",
    "\n",
    "mat=np.array([[1,2,3],[1,1,1],[3,3,3]])\n",
    "\n",
    "print(vec,'\\n')\n",
    "print(mat)"
   ]
  },
  {
   "cell_type": "code",
   "execution_count": 440,
   "id": "understanding-diving",
   "metadata": {},
   "outputs": [
    {
     "data": {
      "text/plain": [
       "array([16, 18, 20])"
      ]
     },
     "execution_count": 440,
     "metadata": {},
     "output_type": "execute_result"
    }
   ],
   "source": [
    "np.dot(vec,mat)"
   ]
  },
  {
   "cell_type": "code",
   "execution_count": 441,
   "id": "optimum-selection",
   "metadata": {},
   "outputs": [],
   "source": [
    "# 3x3 matrix\n",
    "X = [[12,7,3],\n",
    "    [4 ,5,6],\n",
    "    [7 ,8,9]]\n",
    "# 3x4 matrix\n",
    "Y = [[5,8,1,2],\n",
    "    [6,7,3,0],\n",
    "    [4,5,9,1]]\n",
    "# result is 3x4\n",
    "result = [[0,0,0,0],\n",
    "         [0,0,0,0],\n",
    "         [0,0,0,0]]\n",
    "\n",
    "# iterate through rows of X\n",
    "for i in range(len(X)):\n",
    "   # iterate through columns of Y\n",
    "   for j in range(len(Y[0])):\n",
    "       # iterate through rows of Y\n",
    "       for k in range(len(Y)):\n",
    "           result[i][j] += X[i][k] * Y[k][j]"
   ]
  },
  {
   "cell_type": "code",
   "execution_count": 442,
   "id": "reliable-edwards",
   "metadata": {
    "scrolled": true
   },
   "outputs": [
    {
     "data": {
      "text/plain": [
       "[[114, 160, 60, 27], [74, 97, 73, 14], [119, 157, 112, 23]]"
      ]
     },
     "execution_count": 442,
     "metadata": {},
     "output_type": "execute_result"
    }
   ],
   "source": [
    "result"
   ]
  },
  {
   "cell_type": "code",
   "execution_count": 443,
   "id": "convinced-charles",
   "metadata": {},
   "outputs": [
    {
     "data": {
      "text/plain": [
       "array([[114, 160,  60,  27],\n",
       "       [ 74,  97,  73,  14],\n",
       "       [119, 157, 112,  23]])"
      ]
     },
     "execution_count": 443,
     "metadata": {},
     "output_type": "execute_result"
    }
   ],
   "source": [
    "np.dot(X,Y)"
   ]
  },
  {
   "cell_type": "markdown",
   "id": "similar-seeker",
   "metadata": {},
   "source": [
    "### squeeze\n",
    "Return an array with all unit-length dimensions squeezed out."
   ]
  },
  {
   "cell_type": "code",
   "execution_count": 450,
   "id": "existing-citizen",
   "metadata": {},
   "outputs": [
    {
     "data": {
      "text/plain": [
       "(1, 3, 1)"
      ]
     },
     "execution_count": 450,
     "metadata": {},
     "output_type": "execute_result"
    }
   ],
   "source": [
    "a=np.array([[[1],[2],[3]]])\n",
    "a.shape"
   ]
  },
  {
   "cell_type": "code",
   "execution_count": 451,
   "id": "pacific-sitting",
   "metadata": {},
   "outputs": [
    {
     "data": {
      "text/plain": [
       "array([1, 2, 3])"
      ]
     },
     "execution_count": 451,
     "metadata": {},
     "output_type": "execute_result"
    }
   ],
   "source": [
    "np.squeeze(a)"
   ]
  },
  {
   "cell_type": "code",
   "execution_count": 449,
   "id": "innocent-interpretation",
   "metadata": {},
   "outputs": [
    {
     "data": {
      "text/plain": [
       "(3,)"
      ]
     },
     "execution_count": 449,
     "metadata": {},
     "output_type": "execute_result"
    }
   ],
   "source": [
    "np.squeeze(a).shape"
   ]
  },
  {
   "cell_type": "code",
   "execution_count": 444,
   "id": "commercial-rings",
   "metadata": {},
   "outputs": [
    {
     "data": {
      "text/plain": [
       "(1, 1, 1)"
      ]
     },
     "execution_count": 444,
     "metadata": {},
     "output_type": "execute_result"
    }
   ],
   "source": [
    "b=np.array([[[1]]])\n",
    "b.shape"
   ]
  },
  {
   "cell_type": "code",
   "execution_count": 445,
   "id": "humanitarian-particular",
   "metadata": {},
   "outputs": [
    {
     "data": {
      "text/plain": [
       "array(1)"
      ]
     },
     "execution_count": 445,
     "metadata": {},
     "output_type": "execute_result"
    }
   ],
   "source": [
    "np.squeeze(b)"
   ]
  },
  {
   "cell_type": "code",
   "execution_count": 446,
   "id": "continued-serve",
   "metadata": {},
   "outputs": [
    {
     "data": {
      "text/plain": [
       "()"
      ]
     },
     "execution_count": 446,
     "metadata": {},
     "output_type": "execute_result"
    }
   ],
   "source": [
    "np.squeeze(b).shape"
   ]
  },
  {
   "cell_type": "markdown",
   "id": "comparative-front",
   "metadata": {},
   "source": [
    "### repeat"
   ]
  },
  {
   "cell_type": "code",
   "execution_count": 252,
   "id": "bored-beatles",
   "metadata": {
    "scrolled": true
   },
   "outputs": [
    {
     "data": {
      "text/plain": [
       "array([3, 3, 3, 3, 3])"
      ]
     },
     "execution_count": 252,
     "metadata": {},
     "output_type": "execute_result"
    }
   ],
   "source": [
    "np.repeat(3,5)"
   ]
  },
  {
   "cell_type": "markdown",
   "id": "agreed-telephone",
   "metadata": {},
   "source": [
    "___"
   ]
  },
  {
   "cell_type": "markdown",
   "id": "naked-coffee",
   "metadata": {},
   "source": [
    "### argmax\n",
    "Return the first **index** of the largest value in self."
   ]
  },
  {
   "cell_type": "code",
   "execution_count": 4,
   "id": "pleasant-deviation",
   "metadata": {},
   "outputs": [
    {
     "data": {
      "text/plain": [
       "array([[ 87,  96,  70],\n",
       "       [100,  87,  90],\n",
       "       [ 94,  77,  90],\n",
       "       [100,  81,  82]])"
      ]
     },
     "execution_count": 4,
     "metadata": {},
     "output_type": "execute_result"
    }
   ],
   "source": [
    "grades"
   ]
  },
  {
   "cell_type": "code",
   "execution_count": 5,
   "id": "announced-wellington",
   "metadata": {},
   "outputs": [
    {
     "data": {
      "text/plain": [
       "3"
      ]
     },
     "execution_count": 5,
     "metadata": {},
     "output_type": "execute_result"
    }
   ],
   "source": [
    "grades.argmax()"
   ]
  },
  {
   "cell_type": "code",
   "execution_count": 453,
   "id": "painted-connectivity",
   "metadata": {},
   "outputs": [
    {
     "data": {
      "text/plain": [
       "array([1, 0, 1], dtype=int64)"
      ]
     },
     "execution_count": 453,
     "metadata": {},
     "output_type": "execute_result"
    }
   ],
   "source": [
    "grades.argmax(axis=0)"
   ]
  },
  {
   "cell_type": "code",
   "execution_count": 454,
   "id": "capital-evidence",
   "metadata": {},
   "outputs": [
    {
     "data": {
      "text/plain": [
       "array([1, 0, 0, 0], dtype=int64)"
      ]
     },
     "execution_count": 454,
     "metadata": {},
     "output_type": "execute_result"
    }
   ],
   "source": [
    "grades.argmax(axis=1)"
   ]
  },
  {
   "cell_type": "code",
   "execution_count": 455,
   "id": "three-aspect",
   "metadata": {},
   "outputs": [
    {
     "data": {
      "text/plain": [
       "264"
      ]
     },
     "execution_count": 455,
     "metadata": {},
     "output_type": "execute_result"
    }
   ],
   "source": [
    "grades.trace()"
   ]
  },
  {
   "cell_type": "code",
   "execution_count": 456,
   "id": "worthy-copper",
   "metadata": {},
   "outputs": [
    {
     "data": {
      "text/plain": [
       "6"
      ]
     },
     "execution_count": 456,
     "metadata": {},
     "output_type": "execute_result"
    }
   ],
   "source": [
    "np.prod([1,2,3])"
   ]
  },
  {
   "cell_type": "code",
   "execution_count": null,
   "id": "continuous-channel",
   "metadata": {},
   "outputs": [],
   "source": []
  }
 ],
 "metadata": {
  "kernelspec": {
   "display_name": "Python 3",
   "language": "python",
   "name": "python3"
  },
  "language_info": {
   "codemirror_mode": {
    "name": "ipython",
    "version": 3
   },
   "file_extension": ".py",
   "mimetype": "text/x-python",
   "name": "python",
   "nbconvert_exporter": "python",
   "pygments_lexer": "ipython3",
   "version": "3.9.1"
  }
 },
 "nbformat": 4,
 "nbformat_minor": 5
}
